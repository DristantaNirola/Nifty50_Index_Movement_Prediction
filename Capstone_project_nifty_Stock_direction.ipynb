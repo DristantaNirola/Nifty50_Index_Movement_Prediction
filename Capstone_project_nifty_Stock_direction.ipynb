{
  "nbformat": 4,
  "nbformat_minor": 0,
  "metadata": {
    "kernelspec": {
      "display_name": "Python 3",
      "language": "python",
      "name": "python3"
    },
    "language_info": {
      "codemirror_mode": {
        "name": "ipython",
        "version": 3
      },
      "file_extension": ".py",
      "mimetype": "text/x-python",
      "name": "python",
      "nbconvert_exporter": "python",
      "pygments_lexer": "ipython3",
      "version": "3.7.4"
    },
    "colab": {
      "name": "Capstone_project_nifty_Stock_direction.ipynb",
      "provenance": [],
      "collapsed_sections": [],
      "include_colab_link": true
    }
  },
  "cells": [
    {
      "cell_type": "markdown",
      "metadata": {
        "id": "view-in-github",
        "colab_type": "text"
      },
      "source": [
        "<a href=\"https://colab.research.google.com/github/DristantaNirola/Nifty50_Index_Movement_Prediction/blob/main/Capstone_project_nifty_Stock_direction.ipynb\" target=\"_parent\"><img src=\"https://colab.research.google.com/assets/colab-badge.svg\" alt=\"Open In Colab\"/></a>"
      ]
    },
    {
      "cell_type": "markdown",
      "metadata": {
        "id": "UncJrMOI_Y4n"
      },
      "source": [
        "## What is Nifty?\n",
        " \n",
        "#### National Stock Exchange Fifty or Nifty is the market indicator of NSE. It ideally is a collection of 50 stocks but presently has 51 listed in it. It is also referred to as Nifty 50 and CNX Nifty by some as it is owned and managed by India Index Services and Products Ltd. (IISL).\n",
        " \n"
      ]
    },
    {
      "cell_type": "markdown",
      "metadata": {
        "id": "5ZlUNZsjGZtB"
      },
      "source": [
        "##  Objective :\n",
        "* ### To perform time series analysis on the NIFTY stock price and forecusting using univariate ARIMA and ARIMAX modeling technique. \n",
        "* ### The problem is further simplified to just predict the direction of nifty index movements in the next N days (throughout our experiments N can take values 1, 5, and 30). Initially, we will take N=1, that means we want to predict the NIFTY 50 index movement in the next day. This is represented as a classification task where there are two possible outcomes (either the index went up in the next day or it went down)."
      ]
    },
    {
      "cell_type": "markdown",
      "metadata": {
        "id": "qT3UXFkaGZtF"
      },
      "source": [
        "### Importing required libraries"
      ]
    },
    {
      "cell_type": "code",
      "metadata": {
        "scrolled": false,
        "id": "NVncc4dPGZtH"
      },
      "source": [
        "# Libraries for data manipulation\n",
        "import pandas as pd\n",
        "import numpy as np\n",
        "import matplotlib.pyplot as plt\n",
        "\n",
        "\n",
        "# Datetime library for date and time functions\n",
        "from datetime import datetime"
      ],
      "execution_count": 1,
      "outputs": []
    },
    {
      "cell_type": "markdown",
      "metadata": {
        "id": "0Z1-LBh-GZtM"
      },
      "source": [
        "### Loading the Data "
      ]
    },
    {
      "cell_type": "code",
      "metadata": {
        "colab": {
          "base_uri": "https://localhost:8080/"
        },
        "id": "ATw09UVf25Hk",
        "outputId": "1ae577db-55e7-424d-fafe-926a1df57fcd"
      },
      "source": [
        "# mounting the drive\n",
        "from google.colab import drive\n",
        "drive.mount('/content/drive')"
      ],
      "execution_count": 2,
      "outputs": [
        {
          "output_type": "stream",
          "text": [
            "Drive already mounted at /content/drive; to attempt to forcibly remount, call drive.mount(\"/content/drive\", force_remount=True).\n"
          ],
          "name": "stdout"
        }
      ]
    },
    {
      "cell_type": "code",
      "metadata": {
        "colab": {
          "base_uri": "https://localhost:8080/"
        },
        "id": "n3LemS7n265V",
        "outputId": "997437dc-37db-4850-90d7-ae7c87cfdfb8"
      },
      "source": [
        "nifty_data = pd.read_csv('/content/drive/MyDrive/AlmaBetter/Cohort Nilgiri/Module 5/Week 1/Day 1/Nifty50_data.csv')\n",
        "\n",
        "# shape of the dataset \n",
        "nifty_data.shape"
      ],
      "execution_count": 3,
      "outputs": [
        {
          "output_type": "execute_result",
          "data": {
            "text/plain": [
              "(5301, 5)"
            ]
          },
          "metadata": {
            "tags": []
          },
          "execution_count": 3
        }
      ]
    },
    {
      "cell_type": "markdown",
      "metadata": {
        "id": "HD0amgAbGZtN"
      },
      "source": [
        "### Basic pre processing on our raw data"
      ]
    },
    {
      "cell_type": "code",
      "metadata": {
        "colab": {
          "base_uri": "https://localhost:8080/",
          "height": 195
        },
        "id": "zrWvu6A353Br",
        "outputId": "a0efaa10-933c-4853-cbf6-0e6e6bd78869"
      },
      "source": [
        "# Top 5 values\n",
        "nifty_data.head()"
      ],
      "execution_count": 4,
      "outputs": [
        {
          "output_type": "execute_result",
          "data": {
            "text/html": [
              "<div>\n",
              "<style scoped>\n",
              "    .dataframe tbody tr th:only-of-type {\n",
              "        vertical-align: middle;\n",
              "    }\n",
              "\n",
              "    .dataframe tbody tr th {\n",
              "        vertical-align: top;\n",
              "    }\n",
              "\n",
              "    .dataframe thead th {\n",
              "        text-align: right;\n",
              "    }\n",
              "</style>\n",
              "<table border=\"1\" class=\"dataframe\">\n",
              "  <thead>\n",
              "    <tr style=\"text-align: right;\">\n",
              "      <th></th>\n",
              "      <th>Date</th>\n",
              "      <th>Open</th>\n",
              "      <th>High</th>\n",
              "      <th>Low</th>\n",
              "      <th>Close</th>\n",
              "    </tr>\n",
              "  </thead>\n",
              "  <tbody>\n",
              "    <tr>\n",
              "      <th>0</th>\n",
              "      <td>2000-01-03</td>\n",
              "      <td>1482.15</td>\n",
              "      <td>1592.90</td>\n",
              "      <td>1482.15</td>\n",
              "      <td>1592.2</td>\n",
              "    </tr>\n",
              "    <tr>\n",
              "      <th>1</th>\n",
              "      <td>2000-01-04</td>\n",
              "      <td>1594.40</td>\n",
              "      <td>1641.95</td>\n",
              "      <td>1594.40</td>\n",
              "      <td>1638.7</td>\n",
              "    </tr>\n",
              "    <tr>\n",
              "      <th>2</th>\n",
              "      <td>2000-01-05</td>\n",
              "      <td>1634.55</td>\n",
              "      <td>1635.50</td>\n",
              "      <td>1555.05</td>\n",
              "      <td>1595.8</td>\n",
              "    </tr>\n",
              "    <tr>\n",
              "      <th>3</th>\n",
              "      <td>2000-01-06</td>\n",
              "      <td>1595.80</td>\n",
              "      <td>1639.00</td>\n",
              "      <td>1595.80</td>\n",
              "      <td>1617.6</td>\n",
              "    </tr>\n",
              "    <tr>\n",
              "      <th>4</th>\n",
              "      <td>2000-01-07</td>\n",
              "      <td>1616.60</td>\n",
              "      <td>1628.25</td>\n",
              "      <td>1597.20</td>\n",
              "      <td>1613.3</td>\n",
              "    </tr>\n",
              "  </tbody>\n",
              "</table>\n",
              "</div>"
            ],
            "text/plain": [
              "         Date     Open     High      Low   Close\n",
              "0  2000-01-03  1482.15  1592.90  1482.15  1592.2\n",
              "1  2000-01-04  1594.40  1641.95  1594.40  1638.7\n",
              "2  2000-01-05  1634.55  1635.50  1555.05  1595.8\n",
              "3  2000-01-06  1595.80  1639.00  1595.80  1617.6\n",
              "4  2000-01-07  1616.60  1628.25  1597.20  1613.3"
            ]
          },
          "metadata": {
            "tags": []
          },
          "execution_count": 4
        }
      ]
    },
    {
      "cell_type": "code",
      "metadata": {
        "colab": {
          "base_uri": "https://localhost:8080/",
          "height": 195
        },
        "id": "tF20E16B6NEL",
        "outputId": "373aed43-e4fc-4b58-ad2c-367092c398ba"
      },
      "source": [
        "# Bottom 5 values\n",
        "nifty_data.tail()"
      ],
      "execution_count": 5,
      "outputs": [
        {
          "output_type": "execute_result",
          "data": {
            "text/html": [
              "<div>\n",
              "<style scoped>\n",
              "    .dataframe tbody tr th:only-of-type {\n",
              "        vertical-align: middle;\n",
              "    }\n",
              "\n",
              "    .dataframe tbody tr th {\n",
              "        vertical-align: top;\n",
              "    }\n",
              "\n",
              "    .dataframe thead th {\n",
              "        text-align: right;\n",
              "    }\n",
              "</style>\n",
              "<table border=\"1\" class=\"dataframe\">\n",
              "  <thead>\n",
              "    <tr style=\"text-align: right;\">\n",
              "      <th></th>\n",
              "      <th>Date</th>\n",
              "      <th>Open</th>\n",
              "      <th>High</th>\n",
              "      <th>Low</th>\n",
              "      <th>Close</th>\n",
              "    </tr>\n",
              "  </thead>\n",
              "  <tbody>\n",
              "    <tr>\n",
              "      <th>5296</th>\n",
              "      <td>2021-05-04</td>\n",
              "      <td>14687.250000</td>\n",
              "      <td>14723.400391</td>\n",
              "      <td>14461.500000</td>\n",
              "      <td>14496.500000</td>\n",
              "    </tr>\n",
              "    <tr>\n",
              "      <th>5297</th>\n",
              "      <td>2021-05-05</td>\n",
              "      <td>14604.150391</td>\n",
              "      <td>14637.900391</td>\n",
              "      <td>14506.599609</td>\n",
              "      <td>14617.849609</td>\n",
              "    </tr>\n",
              "    <tr>\n",
              "      <th>5298</th>\n",
              "      <td>2021-05-06</td>\n",
              "      <td>14668.349609</td>\n",
              "      <td>14743.900391</td>\n",
              "      <td>14611.500000</td>\n",
              "      <td>14724.799805</td>\n",
              "    </tr>\n",
              "    <tr>\n",
              "      <th>5299</th>\n",
              "      <td>2021-05-07</td>\n",
              "      <td>14816.849609</td>\n",
              "      <td>14863.049805</td>\n",
              "      <td>14765.500000</td>\n",
              "      <td>14823.150391</td>\n",
              "    </tr>\n",
              "    <tr>\n",
              "      <th>5300</th>\n",
              "      <td>2021-05-10</td>\n",
              "      <td>14928.250000</td>\n",
              "      <td>14966.900391</td>\n",
              "      <td>14892.500000</td>\n",
              "      <td>14942.349609</td>\n",
              "    </tr>\n",
              "  </tbody>\n",
              "</table>\n",
              "</div>"
            ],
            "text/plain": [
              "            Date          Open          High           Low         Close\n",
              "5296  2021-05-04  14687.250000  14723.400391  14461.500000  14496.500000\n",
              "5297  2021-05-05  14604.150391  14637.900391  14506.599609  14617.849609\n",
              "5298  2021-05-06  14668.349609  14743.900391  14611.500000  14724.799805\n",
              "5299  2021-05-07  14816.849609  14863.049805  14765.500000  14823.150391\n",
              "5300  2021-05-10  14928.250000  14966.900391  14892.500000  14942.349609"
            ]
          },
          "metadata": {
            "tags": []
          },
          "execution_count": 5
        }
      ]
    },
    {
      "cell_type": "code",
      "metadata": {
        "id": "w0iE0uj76yYq"
      },
      "source": [
        "# setting dates as the index to the the dataframe\n",
        "nifty_df = nifty_data.set_index('Date')"
      ],
      "execution_count": 6,
      "outputs": []
    },
    {
      "cell_type": "code",
      "metadata": {
        "id": "YKiAp2KqGZtN",
        "colab": {
          "base_uri": "https://localhost:8080/",
          "height": 225
        },
        "outputId": "1bda12f1-5fa9-4fb1-bd26-5bc9bcceac01"
      },
      "source": [
        "nifty_df.head()"
      ],
      "execution_count": 7,
      "outputs": [
        {
          "output_type": "execute_result",
          "data": {
            "text/html": [
              "<div>\n",
              "<style scoped>\n",
              "    .dataframe tbody tr th:only-of-type {\n",
              "        vertical-align: middle;\n",
              "    }\n",
              "\n",
              "    .dataframe tbody tr th {\n",
              "        vertical-align: top;\n",
              "    }\n",
              "\n",
              "    .dataframe thead th {\n",
              "        text-align: right;\n",
              "    }\n",
              "</style>\n",
              "<table border=\"1\" class=\"dataframe\">\n",
              "  <thead>\n",
              "    <tr style=\"text-align: right;\">\n",
              "      <th></th>\n",
              "      <th>Open</th>\n",
              "      <th>High</th>\n",
              "      <th>Low</th>\n",
              "      <th>Close</th>\n",
              "    </tr>\n",
              "    <tr>\n",
              "      <th>Date</th>\n",
              "      <th></th>\n",
              "      <th></th>\n",
              "      <th></th>\n",
              "      <th></th>\n",
              "    </tr>\n",
              "  </thead>\n",
              "  <tbody>\n",
              "    <tr>\n",
              "      <th>2000-01-03</th>\n",
              "      <td>1482.15</td>\n",
              "      <td>1592.90</td>\n",
              "      <td>1482.15</td>\n",
              "      <td>1592.2</td>\n",
              "    </tr>\n",
              "    <tr>\n",
              "      <th>2000-01-04</th>\n",
              "      <td>1594.40</td>\n",
              "      <td>1641.95</td>\n",
              "      <td>1594.40</td>\n",
              "      <td>1638.7</td>\n",
              "    </tr>\n",
              "    <tr>\n",
              "      <th>2000-01-05</th>\n",
              "      <td>1634.55</td>\n",
              "      <td>1635.50</td>\n",
              "      <td>1555.05</td>\n",
              "      <td>1595.8</td>\n",
              "    </tr>\n",
              "    <tr>\n",
              "      <th>2000-01-06</th>\n",
              "      <td>1595.80</td>\n",
              "      <td>1639.00</td>\n",
              "      <td>1595.80</td>\n",
              "      <td>1617.6</td>\n",
              "    </tr>\n",
              "    <tr>\n",
              "      <th>2000-01-07</th>\n",
              "      <td>1616.60</td>\n",
              "      <td>1628.25</td>\n",
              "      <td>1597.20</td>\n",
              "      <td>1613.3</td>\n",
              "    </tr>\n",
              "  </tbody>\n",
              "</table>\n",
              "</div>"
            ],
            "text/plain": [
              "               Open     High      Low   Close\n",
              "Date                                         \n",
              "2000-01-03  1482.15  1592.90  1482.15  1592.2\n",
              "2000-01-04  1594.40  1641.95  1594.40  1638.7\n",
              "2000-01-05  1634.55  1635.50  1555.05  1595.8\n",
              "2000-01-06  1595.80  1639.00  1595.80  1617.6\n",
              "2000-01-07  1616.60  1628.25  1597.20  1613.3"
            ]
          },
          "metadata": {
            "tags": []
          },
          "execution_count": 7
        }
      ]
    },
    {
      "cell_type": "code",
      "metadata": {
        "colab": {
          "base_uri": "https://localhost:8080/"
        },
        "id": "gmC0QDVFOCgb",
        "outputId": "20ed13c2-469d-4d7e-8b41-f6460df1c7b1"
      },
      "source": [
        "# Finding the total null values\n",
        "nifty_df.isna().sum()"
      ],
      "execution_count": 8,
      "outputs": [
        {
          "output_type": "execute_result",
          "data": {
            "text/plain": [
              "Open     35\n",
              "High     35\n",
              "Low      35\n",
              "Close    35\n",
              "dtype: int64"
            ]
          },
          "metadata": {
            "tags": []
          },
          "execution_count": 8
        }
      ]
    },
    {
      "cell_type": "code",
      "metadata": {
        "colab": {
          "base_uri": "https://localhost:8080/",
          "height": 373
        },
        "id": "XlNRmy3wkJpR",
        "outputId": "16299ac1-60fa-43d7-c492-9b1d8205e1bb"
      },
      "source": [
        "nifty_df[nifty_df.isnull().any(axis=1)][:10]"
      ],
      "execution_count": 9,
      "outputs": [
        {
          "output_type": "execute_result",
          "data": {
            "text/html": [
              "<div>\n",
              "<style scoped>\n",
              "    .dataframe tbody tr th:only-of-type {\n",
              "        vertical-align: middle;\n",
              "    }\n",
              "\n",
              "    .dataframe tbody tr th {\n",
              "        vertical-align: top;\n",
              "    }\n",
              "\n",
              "    .dataframe thead th {\n",
              "        text-align: right;\n",
              "    }\n",
              "</style>\n",
              "<table border=\"1\" class=\"dataframe\">\n",
              "  <thead>\n",
              "    <tr style=\"text-align: right;\">\n",
              "      <th></th>\n",
              "      <th>Open</th>\n",
              "      <th>High</th>\n",
              "      <th>Low</th>\n",
              "      <th>Close</th>\n",
              "    </tr>\n",
              "    <tr>\n",
              "      <th>Date</th>\n",
              "      <th></th>\n",
              "      <th></th>\n",
              "      <th></th>\n",
              "      <th></th>\n",
              "    </tr>\n",
              "  </thead>\n",
              "  <tbody>\n",
              "    <tr>\n",
              "      <th>2008-11-27</th>\n",
              "      <td>NaN</td>\n",
              "      <td>NaN</td>\n",
              "      <td>NaN</td>\n",
              "      <td>NaN</td>\n",
              "    </tr>\n",
              "    <tr>\n",
              "      <th>2009-04-30</th>\n",
              "      <td>NaN</td>\n",
              "      <td>NaN</td>\n",
              "      <td>NaN</td>\n",
              "      <td>NaN</td>\n",
              "    </tr>\n",
              "    <tr>\n",
              "      <th>2009-10-13</th>\n",
              "      <td>NaN</td>\n",
              "      <td>NaN</td>\n",
              "      <td>NaN</td>\n",
              "      <td>NaN</td>\n",
              "    </tr>\n",
              "    <tr>\n",
              "      <th>2009-12-23</th>\n",
              "      <td>NaN</td>\n",
              "      <td>NaN</td>\n",
              "      <td>NaN</td>\n",
              "      <td>NaN</td>\n",
              "    </tr>\n",
              "    <tr>\n",
              "      <th>2009-12-24</th>\n",
              "      <td>NaN</td>\n",
              "      <td>NaN</td>\n",
              "      <td>NaN</td>\n",
              "      <td>NaN</td>\n",
              "    </tr>\n",
              "    <tr>\n",
              "      <th>2009-12-29</th>\n",
              "      <td>NaN</td>\n",
              "      <td>NaN</td>\n",
              "      <td>NaN</td>\n",
              "      <td>NaN</td>\n",
              "    </tr>\n",
              "    <tr>\n",
              "      <th>2009-12-30</th>\n",
              "      <td>NaN</td>\n",
              "      <td>NaN</td>\n",
              "      <td>NaN</td>\n",
              "      <td>NaN</td>\n",
              "    </tr>\n",
              "    <tr>\n",
              "      <th>2009-12-31</th>\n",
              "      <td>NaN</td>\n",
              "      <td>NaN</td>\n",
              "      <td>NaN</td>\n",
              "      <td>NaN</td>\n",
              "    </tr>\n",
              "    <tr>\n",
              "      <th>2010-02-06</th>\n",
              "      <td>NaN</td>\n",
              "      <td>NaN</td>\n",
              "      <td>NaN</td>\n",
              "      <td>NaN</td>\n",
              "    </tr>\n",
              "    <tr>\n",
              "      <th>2011-05-31</th>\n",
              "      <td>NaN</td>\n",
              "      <td>NaN</td>\n",
              "      <td>NaN</td>\n",
              "      <td>NaN</td>\n",
              "    </tr>\n",
              "  </tbody>\n",
              "</table>\n",
              "</div>"
            ],
            "text/plain": [
              "            Open  High  Low  Close\n",
              "Date                              \n",
              "2008-11-27   NaN   NaN  NaN    NaN\n",
              "2009-04-30   NaN   NaN  NaN    NaN\n",
              "2009-10-13   NaN   NaN  NaN    NaN\n",
              "2009-12-23   NaN   NaN  NaN    NaN\n",
              "2009-12-24   NaN   NaN  NaN    NaN\n",
              "2009-12-29   NaN   NaN  NaN    NaN\n",
              "2009-12-30   NaN   NaN  NaN    NaN\n",
              "2009-12-31   NaN   NaN  NaN    NaN\n",
              "2010-02-06   NaN   NaN  NaN    NaN\n",
              "2011-05-31   NaN   NaN  NaN    NaN"
            ]
          },
          "metadata": {
            "tags": []
          },
          "execution_count": 9
        }
      ]
    },
    {
      "cell_type": "code",
      "metadata": {
        "id": "ANjfntd0NG1Q"
      },
      "source": [
        "# Droping the null values \n",
        "nifty_df.dropna(inplace=True)"
      ],
      "execution_count": 10,
      "outputs": []
    },
    {
      "cell_type": "code",
      "metadata": {
        "colab": {
          "base_uri": "https://localhost:8080/"
        },
        "id": "SswK6lxZrvU-",
        "outputId": "c18d710d-b9f1-475c-eba1-826c0e970b9e"
      },
      "source": [
        "nifty_df.shape"
      ],
      "execution_count": 11,
      "outputs": [
        {
          "output_type": "execute_result",
          "data": {
            "text/plain": [
              "(5266, 4)"
            ]
          },
          "metadata": {
            "tags": []
          },
          "execution_count": 11
        }
      ]
    },
    {
      "cell_type": "markdown",
      "metadata": {
        "id": "7ITgB4JMQpZo"
      },
      "source": [
        "#### Conclusion:\n",
        "* The data has 5336 rows and 5 columns.\n",
        "* Their are 35 null values in the dataframe which includes the date when the trading didn't happen.\n",
        "* The null values are droped from the dataset for further analysis.\n"
      ]
    },
    {
      "cell_type": "markdown",
      "metadata": {
        "id": "RrAJxE2cST-r"
      },
      "source": [
        "## 1. Exploratory Data Analysis:"
      ]
    },
    {
      "cell_type": "code",
      "metadata": {
        "colab": {
          "base_uri": "https://localhost:8080/",
          "height": 284
        },
        "id": "ivCqOSPbLA23",
        "outputId": "3d46297b-eefd-4004-83ee-6d004c05e859"
      },
      "source": [
        "# finding the high level statistics for the continious features\n",
        "nifty_df.describe()"
      ],
      "execution_count": 12,
      "outputs": [
        {
          "output_type": "execute_result",
          "data": {
            "text/html": [
              "<div>\n",
              "<style scoped>\n",
              "    .dataframe tbody tr th:only-of-type {\n",
              "        vertical-align: middle;\n",
              "    }\n",
              "\n",
              "    .dataframe tbody tr th {\n",
              "        vertical-align: top;\n",
              "    }\n",
              "\n",
              "    .dataframe thead th {\n",
              "        text-align: right;\n",
              "    }\n",
              "</style>\n",
              "<table border=\"1\" class=\"dataframe\">\n",
              "  <thead>\n",
              "    <tr style=\"text-align: right;\">\n",
              "      <th></th>\n",
              "      <th>Open</th>\n",
              "      <th>High</th>\n",
              "      <th>Low</th>\n",
              "      <th>Close</th>\n",
              "    </tr>\n",
              "  </thead>\n",
              "  <tbody>\n",
              "    <tr>\n",
              "      <th>count</th>\n",
              "      <td>5266.000000</td>\n",
              "      <td>5266.000000</td>\n",
              "      <td>5266.000000</td>\n",
              "      <td>5266.000000</td>\n",
              "    </tr>\n",
              "    <tr>\n",
              "      <th>mean</th>\n",
              "      <td>5551.787316</td>\n",
              "      <td>5588.846043</td>\n",
              "      <td>5506.832156</td>\n",
              "      <td>5548.545092</td>\n",
              "    </tr>\n",
              "    <tr>\n",
              "      <th>std</th>\n",
              "      <td>3582.719644</td>\n",
              "      <td>3594.485464</td>\n",
              "      <td>3561.245855</td>\n",
              "      <td>3578.111274</td>\n",
              "    </tr>\n",
              "    <tr>\n",
              "      <th>min</th>\n",
              "      <td>853.000000</td>\n",
              "      <td>877.000000</td>\n",
              "      <td>849.950000</td>\n",
              "      <td>854.200000</td>\n",
              "    </tr>\n",
              "    <tr>\n",
              "      <th>25%</th>\n",
              "      <td>2057.987500</td>\n",
              "      <td>2074.525000</td>\n",
              "      <td>2045.950000</td>\n",
              "      <td>2058.750000</td>\n",
              "    </tr>\n",
              "    <tr>\n",
              "      <th>50%</th>\n",
              "      <td>5213.675049</td>\n",
              "      <td>5252.199951</td>\n",
              "      <td>5163.449951</td>\n",
              "      <td>5211.025000</td>\n",
              "    </tr>\n",
              "    <tr>\n",
              "      <th>75%</th>\n",
              "      <td>8261.987305</td>\n",
              "      <td>8308.112793</td>\n",
              "      <td>8216.375244</td>\n",
              "      <td>8262.199707</td>\n",
              "    </tr>\n",
              "    <tr>\n",
              "      <th>max</th>\n",
              "      <td>15371.450195</td>\n",
              "      <td>15431.750000</td>\n",
              "      <td>15243.400391</td>\n",
              "      <td>15314.700195</td>\n",
              "    </tr>\n",
              "  </tbody>\n",
              "</table>\n",
              "</div>"
            ],
            "text/plain": [
              "               Open          High           Low         Close\n",
              "count   5266.000000   5266.000000   5266.000000   5266.000000\n",
              "mean    5551.787316   5588.846043   5506.832156   5548.545092\n",
              "std     3582.719644   3594.485464   3561.245855   3578.111274\n",
              "min      853.000000    877.000000    849.950000    854.200000\n",
              "25%     2057.987500   2074.525000   2045.950000   2058.750000\n",
              "50%     5213.675049   5252.199951   5163.449951   5211.025000\n",
              "75%     8261.987305   8308.112793   8216.375244   8262.199707\n",
              "max    15371.450195  15431.750000  15243.400391  15314.700195"
            ]
          },
          "metadata": {
            "tags": []
          },
          "execution_count": 12
        }
      ]
    },
    {
      "cell_type": "markdown",
      "metadata": {
        "id": "-ZYRGSmpS-Mb"
      },
      "source": [
        "### 1.1. Line plot"
      ]
    },
    {
      "cell_type": "code",
      "metadata": {
        "colab": {
          "base_uri": "https://localhost:8080/",
          "height": 298
        },
        "id": "JQQ1gmCRTgdB",
        "outputId": "07a2ee60-2b73-482e-de93-58cd0cdb4ac7"
      },
      "source": [
        "# Ploting a multiline line plot\n",
        "plt.figure(figsize=(15, 7)) \n",
        "lines= nifty_df[:].plot.line()"
      ],
      "execution_count": 13,
      "outputs": [
        {
          "output_type": "display_data",
          "data": {
            "text/plain": [
              "<Figure size 1080x504 with 0 Axes>"
            ]
          },
          "metadata": {
            "tags": []
          }
        },
        {
          "output_type": "display_data",
          "data": {
            "image/png": "[encoded data removed]",
            "text/plain": [
              "<Figure size 432x288 with 1 Axes>"
            ]
          },
          "metadata": {
            "tags": [],
            "needs_background": "light"
          }
        }
      ]
    },
    {
      "cell_type": "code",
      "metadata": {
        "colab": {
          "base_uri": "https://localhost:8080/",
          "height": 446
        },
        "id": "mTWBPGDFUKjY",
        "outputId": "a2ad2642-4fb4-45e3-a42d-37703f34c344"
      },
      "source": [
        "# Closing price trend\n",
        "plt.figure(figsize=(15, 7))\n",
        "line= nifty_df['Close'].plot.line()"
      ],
      "execution_count": 14,
      "outputs": [
        {
          "output_type": "display_data",
          "data": {
            "image/png": "[encoded data removed]",
            "text/plain": [
              "<Figure size 1080x504 with 1 Axes>"
            ]
          },
          "metadata": {
            "tags": [],
            "needs_background": "light"
          }
        }
      ]
    },
    {
      "cell_type": "code",
      "metadata": {
        "colab": {
          "base_uri": "https://localhost:8080/",
          "height": 106
        },
        "id": "XqIZ8nPbpTPI",
        "outputId": "bc9a2285-93f3-422e-ad78-3e76997b612d"
      },
      "source": [
        "# Finding the rise in 2008\n",
        "nifty_df[nifty_df['Close']== max(nifty_df['Close'].loc['2007-01-01':'2009-01-01'])]"
      ],
      "execution_count": 15,
      "outputs": [
        {
          "output_type": "execute_result",
          "data": {
            "text/html": [
              "<div>\n",
              "<style scoped>\n",
              "    .dataframe tbody tr th:only-of-type {\n",
              "        vertical-align: middle;\n",
              "    }\n",
              "\n",
              "    .dataframe tbody tr th {\n",
              "        vertical-align: top;\n",
              "    }\n",
              "\n",
              "    .dataframe thead th {\n",
              "        text-align: right;\n",
              "    }\n",
              "</style>\n",
              "<table border=\"1\" class=\"dataframe\">\n",
              "  <thead>\n",
              "    <tr style=\"text-align: right;\">\n",
              "      <th></th>\n",
              "      <th>Open</th>\n",
              "      <th>High</th>\n",
              "      <th>Low</th>\n",
              "      <th>Close</th>\n",
              "    </tr>\n",
              "    <tr>\n",
              "      <th>Date</th>\n",
              "      <th></th>\n",
              "      <th></th>\n",
              "      <th></th>\n",
              "      <th></th>\n",
              "    </tr>\n",
              "  </thead>\n",
              "  <tbody>\n",
              "    <tr>\n",
              "      <th>2008-01-08</th>\n",
              "      <td>6282.450195</td>\n",
              "      <td>6357.100098</td>\n",
              "      <td>6221.600098</td>\n",
              "      <td>6287.850098</td>\n",
              "    </tr>\n",
              "  </tbody>\n",
              "</table>\n",
              "</div>"
            ],
            "text/plain": [
              "                   Open         High          Low        Close\n",
              "Date                                                          \n",
              "2008-01-08  6282.450195  6357.100098  6221.600098  6287.850098"
            ]
          },
          "metadata": {
            "tags": []
          },
          "execution_count": 15
        }
      ]
    },
    {
      "cell_type": "markdown",
      "metadata": {
        "id": "f5aGRh3bvP19"
      },
      "source": [
        "The 50-share Nifty opened at 6,282 levels, surpassing its previous intra-day high on January 8, 2008, after the outcome of the Assembly polls in Delhi, Rajasthan, Madhya Pradesh and Chattisgarh, that saw the Bharatiya Janata Party (BJP) emerge as the single largest party. The index finally ended at its record closing high of 6,287."
      ]
    },
    {
      "cell_type": "code",
      "metadata": {
        "colab": {
          "base_uri": "https://localhost:8080/",
          "height": 106
        },
        "id": "GpU_DG-S_007",
        "outputId": "9cac64f0-a8b1-4cef-aba3-24971806acbb"
      },
      "source": [
        "# Finding the fall in 2008\n",
        "nifty_df[nifty_df['Close']== min(nifty_df['Close'].loc['2007-01-01':'2009-01-01'])]"
      ],
      "execution_count": 16,
      "outputs": [
        {
          "output_type": "execute_result",
          "data": {
            "text/html": [
              "<div>\n",
              "<style scoped>\n",
              "    .dataframe tbody tr th:only-of-type {\n",
              "        vertical-align: middle;\n",
              "    }\n",
              "\n",
              "    .dataframe tbody tr th {\n",
              "        vertical-align: top;\n",
              "    }\n",
              "\n",
              "    .dataframe thead th {\n",
              "        text-align: right;\n",
              "    }\n",
              "</style>\n",
              "<table border=\"1\" class=\"dataframe\">\n",
              "  <thead>\n",
              "    <tr style=\"text-align: right;\">\n",
              "      <th></th>\n",
              "      <th>Open</th>\n",
              "      <th>High</th>\n",
              "      <th>Low</th>\n",
              "      <th>Close</th>\n",
              "    </tr>\n",
              "    <tr>\n",
              "      <th>Date</th>\n",
              "      <th></th>\n",
              "      <th></th>\n",
              "      <th></th>\n",
              "      <th></th>\n",
              "    </tr>\n",
              "  </thead>\n",
              "  <tbody>\n",
              "    <tr>\n",
              "      <th>2008-10-27</th>\n",
              "      <td>2583.75</td>\n",
              "      <td>2585.300049</td>\n",
              "      <td>2252.75</td>\n",
              "      <td>2524.199951</td>\n",
              "    </tr>\n",
              "  </tbody>\n",
              "</table>\n",
              "</div>"
            ],
            "text/plain": [
              "               Open         High      Low        Close\n",
              "Date                                                  \n",
              "2008-10-27  2583.75  2585.300049  2252.75  2524.199951"
            ]
          },
          "metadata": {
            "tags": []
          },
          "execution_count": 16
        }
      ]
    },
    {
      "cell_type": "markdown",
      "metadata": {
        "id": "xPgFDfFtwCMf"
      },
      "source": [
        "The 50 share Nifty open at 2583 and closed at 2524 on 2008-10-27 which was the outcome of the Global financial crisis."
      ]
    },
    {
      "cell_type": "code",
      "metadata": {
        "colab": {
          "base_uri": "https://localhost:8080/",
          "height": 106
        },
        "id": "xRLrIRBh8kbK",
        "outputId": "22175efe-e76b-498b-ad7b-bcf69ab02207"
      },
      "source": [
        "# Date of min closing price in 20 years\n",
        "nifty_df[nifty_df['Close']== nifty_df['Close'].min()]"
      ],
      "execution_count": 17,
      "outputs": [
        {
          "output_type": "execute_result",
          "data": {
            "text/html": [
              "<div>\n",
              "<style scoped>\n",
              "    .dataframe tbody tr th:only-of-type {\n",
              "        vertical-align: middle;\n",
              "    }\n",
              "\n",
              "    .dataframe tbody tr th {\n",
              "        vertical-align: top;\n",
              "    }\n",
              "\n",
              "    .dataframe thead th {\n",
              "        text-align: right;\n",
              "    }\n",
              "</style>\n",
              "<table border=\"1\" class=\"dataframe\">\n",
              "  <thead>\n",
              "    <tr style=\"text-align: right;\">\n",
              "      <th></th>\n",
              "      <th>Open</th>\n",
              "      <th>High</th>\n",
              "      <th>Low</th>\n",
              "      <th>Close</th>\n",
              "    </tr>\n",
              "    <tr>\n",
              "      <th>Date</th>\n",
              "      <th></th>\n",
              "      <th></th>\n",
              "      <th></th>\n",
              "      <th></th>\n",
              "    </tr>\n",
              "  </thead>\n",
              "  <tbody>\n",
              "    <tr>\n",
              "      <th>2001-09-21</th>\n",
              "      <td>903.75</td>\n",
              "      <td>903.75</td>\n",
              "      <td>849.95</td>\n",
              "      <td>854.2</td>\n",
              "    </tr>\n",
              "  </tbody>\n",
              "</table>\n",
              "</div>"
            ],
            "text/plain": [
              "              Open    High     Low  Close\n",
              "Date                                     \n",
              "2001-09-21  903.75  903.75  849.95  854.2"
            ]
          },
          "metadata": {
            "tags": []
          },
          "execution_count": 17
        }
      ]
    },
    {
      "cell_type": "markdown",
      "metadata": {
        "id": "j8YV8DGex47U"
      },
      "source": [
        "On 2001-09-21 the nifty50 was at it's low"
      ]
    },
    {
      "cell_type": "code",
      "metadata": {
        "colab": {
          "base_uri": "https://localhost:8080/",
          "height": 106
        },
        "id": "hK2ls52RXw86",
        "outputId": "d162ee34-f3cc-4812-d4eb-503778444033"
      },
      "source": [
        "# Date of maximum closing price in 20 years\n",
        "nifty_df[nifty_df['Close']== nifty_df['Close'].max()]"
      ],
      "execution_count": 18,
      "outputs": [
        {
          "output_type": "execute_result",
          "data": {
            "text/html": [
              "<div>\n",
              "<style scoped>\n",
              "    .dataframe tbody tr th:only-of-type {\n",
              "        vertical-align: middle;\n",
              "    }\n",
              "\n",
              "    .dataframe tbody tr th {\n",
              "        vertical-align: top;\n",
              "    }\n",
              "\n",
              "    .dataframe thead th {\n",
              "        text-align: right;\n",
              "    }\n",
              "</style>\n",
              "<table border=\"1\" class=\"dataframe\">\n",
              "  <thead>\n",
              "    <tr style=\"text-align: right;\">\n",
              "      <th></th>\n",
              "      <th>Open</th>\n",
              "      <th>High</th>\n",
              "      <th>Low</th>\n",
              "      <th>Close</th>\n",
              "    </tr>\n",
              "    <tr>\n",
              "      <th>Date</th>\n",
              "      <th></th>\n",
              "      <th></th>\n",
              "      <th></th>\n",
              "      <th></th>\n",
              "    </tr>\n",
              "  </thead>\n",
              "  <tbody>\n",
              "    <tr>\n",
              "      <th>2021-02-15</th>\n",
              "      <td>15270.299805</td>\n",
              "      <td>15340.150391</td>\n",
              "      <td>15243.400391</td>\n",
              "      <td>15314.700195</td>\n",
              "    </tr>\n",
              "  </tbody>\n",
              "</table>\n",
              "</div>"
            ],
            "text/plain": [
              "                    Open          High           Low         Close\n",
              "Date                                                              \n",
              "2021-02-15  15270.299805  15340.150391  15243.400391  15314.700195"
            ]
          },
          "metadata": {
            "tags": []
          },
          "execution_count": 18
        }
      ]
    },
    {
      "cell_type": "markdown",
      "metadata": {
        "id": "p2eJVUO_xj3F"
      },
      "source": [
        "on 2021-02-15 the nifty was at it's all time high. This was outcome of more Investments coming in India as an alternative to china due to the global pendamic."
      ]
    },
    {
      "cell_type": "code",
      "metadata": {
        "id": "T21HJMEqZnU5"
      },
      "source": [
        "#index jump\n",
        "index_jump= np.array(nifty_df['Close'].iloc[1:]) - np.array(nifty_df['Close'].iloc[:-1])"
      ],
      "execution_count": 19,
      "outputs": []
    },
    {
      "cell_type": "code",
      "metadata": {
        "colab": {
          "base_uri": "https://localhost:8080/"
        },
        "id": "MT4FwojwZtcJ",
        "outputId": "f4483828-d8a6-444a-ff42-7e8e3dfc1111"
      },
      "source": [
        "#date of maximum price jump\n",
        "nifty_df.iloc[np.argmax(index_jump),:]"
      ],
      "execution_count": 20,
      "outputs": [
        {
          "output_type": "execute_result",
          "data": {
            "text/plain": [
              "Open     8356.549805\n",
              "High     8356.549805\n",
              "Low      8055.799805\n",
              "Close    8083.799805\n",
              "Name: 2020-04-03, dtype: float64"
            ]
          },
          "metadata": {
            "tags": []
          },
          "execution_count": 20
        }
      ]
    },
    {
      "cell_type": "markdown",
      "metadata": {
        "id": "5FfEcFEWyLfL"
      },
      "source": [
        "on 2020-04-03 there was higest rise in the index "
      ]
    },
    {
      "cell_type": "code",
      "metadata": {
        "id": "BXwq3GmM9ssq"
      },
      "source": [
        "#index fall\n",
        "index_fall= np.array(nifty_df['Close'].iloc[:-1]) - np.array(nifty_df['Close'].iloc[1:])"
      ],
      "execution_count": 21,
      "outputs": []
    },
    {
      "cell_type": "code",
      "metadata": {
        "colab": {
          "base_uri": "https://localhost:8080/"
        },
        "id": "aPpK1m-P-FgI",
        "outputId": "80095ca6-b0ed-4880-e5da-4c9c774f4ef5"
      },
      "source": [
        "#date of maximum index fall\n",
        "nifty_df.iloc[np.argmax(index_fall),:]"
      ],
      "execution_count": 22,
      "outputs": [
        {
          "output_type": "execute_result",
          "data": {
            "text/plain": [
              "Open     8284.450195\n",
              "High     8883.000000\n",
              "Low      8178.200195\n",
              "Close    8745.450195\n",
              "Name: 2020-03-20, dtype: float64"
            ]
          },
          "metadata": {
            "tags": []
          },
          "execution_count": 22
        }
      ]
    },
    {
      "cell_type": "markdown",
      "metadata": {
        "id": "M9B5L56_qllV"
      },
      "source": [
        "On 2020-03-20 there was maximum fall in the nifty index which was the outcome of country wide lockdown."
      ]
    },
    {
      "cell_type": "markdown",
      "metadata": {
        "id": "yJwl4IrL-qag"
      },
      "source": [
        "### 1.2 Decomposition of Time Series\n",
        "\n",
        "#### Additive Model:  \n",
        "This model is used when the variations around the trend does not vary with the level of the time series. Here the components of a time series are simply added together using the formula:  \n",
        "y(t) = Level(t) + Trend(t) + Seasonality(t) + Noise(t)\n"
      ]
    },
    {
      "cell_type": "code",
      "metadata": {
        "id": "PbazNx43qoAU",
        "colab": {
          "base_uri": "https://localhost:8080/"
        },
        "outputId": "9fcd8515-cff9-40f2-f863-35ca662bc880"
      },
      "source": [
        "import pandas as pd\n",
        "from statsmodels.tsa.seasonal import seasonal_decompose"
      ],
      "execution_count": 23,
      "outputs": [
        {
          "output_type": "stream",
          "text": [
            "/usr/local/lib/python3.7/dist-packages/statsmodels/tools/_testing.py:19: FutureWarning: pandas.util.testing is deprecated. Use the functions in the public API at pandas.testing instead.\n",
            "  import pandas.util.testing as tm\n"
          ],
          "name": "stderr"
        }
      ]
    },
    {
      "cell_type": "code",
      "metadata": {
        "id": "v7PfOozeJvve",
        "colab": {
          "base_uri": "https://localhost:8080/",
          "height": 297
        },
        "outputId": "917a6902-156b-4427-d150-83df43366566"
      },
      "source": [
        "df= pd.DataFrame(nifty_df['Close'])\n",
        "s=seasonal_decompose(df, model= 'additive', freq= 1)\n",
        "fig = s.plot()"
      ],
      "execution_count": 25,
      "outputs": [
        {
          "output_type": "display_data",
          "data": {
            "image/png": "[encoded data removed]",
            "text/plain": [
              "<Figure size 432x288 with 4 Axes>"
            ]
          },
          "metadata": {
            "tags": [],
            "needs_background": "light"
          }
        }
      ]
    },
    {
      "cell_type": "markdown",
      "metadata": {
        "id": "O7bGZrw5oFry"
      },
      "source": [
        "# Objective 1: \n",
        "To perform time series analysis on the NIFTY stock price and forecusting using univarate ARIMA and ARIMAX modeling technique."
      ]
    },
    {
      "cell_type": "markdown",
      "metadata": {
        "id": "T3M0afeQtl6G"
      },
      "source": [
        "### Using ARIMA for forcusting"
      ]
    },
    {
      "cell_type": "code",
      "metadata": {
        "id": "XGoV6sSUvvyp"
      },
      "source": [
        "!pip install pmdarima"
      ],
      "execution_count": null,
      "outputs": []
    },
    {
      "cell_type": "code",
      "metadata": {
        "id": "l4QWbiD8vw0-"
      },
      "source": [
        "from pmdarima import auto_arima"
      ],
      "execution_count": 22,
      "outputs": []
    },
    {
      "cell_type": "code",
      "metadata": {
        "id": "H4fmGqutrrqN"
      },
      "source": [
        "df= nifty_data.copy()\n",
        "df.dropna(inplace=True)"
      ],
      "execution_count": 23,
      "outputs": []
    },
    {
      "cell_type": "code",
      "metadata": {
        "id": "vzNlXFkKyfGb"
      },
      "source": [
        "df.set_index(\"Date\", drop=True, inplace=True)"
      ],
      "execution_count": 24,
      "outputs": []
    },
    {
      "cell_type": "code",
      "metadata": {
        "id": "SKFQHpC_yBED"
      },
      "source": [
        "df_train = df[df.index < \"2019\"]\n",
        "df_valid = df[df.index >= \"2019\"]"
      ],
      "execution_count": 25,
      "outputs": []
    },
    {
      "cell_type": "code",
      "metadata": {
        "id": "fyp1qfOeiK80"
      },
      "source": [
        "model = auto_arima(df_train.Close, trace=True, error_action=\"ignore\", suppress_warnings=True)\n",
        "model.fit(df_train.Close)\n",
        "\n",
        "forecast = model.predict(n_periods=len(df_valid))\n",
        "df_valid[\"Forecast_ARIMA\"] = forecast"
      ],
      "execution_count": null,
      "outputs": []
    },
    {
      "cell_type": "code",
      "metadata": {
        "colab": {
          "base_uri": "https://localhost:8080/",
          "height": 884
        },
        "id": "ULZ0req5iK5p",
        "outputId": "38dc6e3b-8ac4-43ef-97d4-7ffe8328c00d"
      },
      "source": [
        "df_train.plot(figsize=(14, 7))\n",
        "df_valid[[\"Close\", \"Forecast_ARIMA\"]].plot(figsize=(14, 7))"
      ],
      "execution_count": 28,
      "outputs": [
        {
          "output_type": "execute_result",
          "data": {
            "text/plain": [
              "<matplotlib.axes._subplots.AxesSubplot at 0x7fde68ef1a50>"
            ]
          },
          "metadata": {
            "tags": []
          },
          "execution_count": 28
        },
        {
          "output_type": "display_data",
          "data": {
            "image/png": "[encoded data removed]",
            "text/plain": [
              "<Figure size 1008x504 with 1 Axes>"
            ]
          },
          "metadata": {
            "tags": [],
            "needs_background": "light"
          }
        },
        {
          "output_type": "display_data",
          "data": {
            "image/png": "[encoded data removed]",
            "text/plain": [
              "<Figure size 1008x504 with 1 Axes>"
            ]
          },
          "metadata": {
            "tags": [],
            "needs_background": "light"
          }
        }
      ]
    },
    {
      "cell_type": "code",
      "metadata": {
        "id": "HfMKvkKLBxXN"
      },
      "source": [
        "# Plot forcasting Close price\n",
        "forecast_df = pd.DataFrame(forecast,index = df_valid.index,columns=['Prediction'])\n",
        "plt.plot(df_train['Close'],label='Close Training Data')\n",
        "plt.plot(df_valid['Close'],label='Close Test Data')\n",
        "plt.plot(forecast_df['Prediction'],label='Close Forecasting Data')\n",
        "plt.legend()"
      ],
      "execution_count": null,
      "outputs": []
    },
    {
      "cell_type": "code",
      "metadata": {
        "id": "BTflMcSMCCZu"
      },
      "source": [
        "from sklearn.metrics import mean_absolute_error, mean_squared_error\n",
        "print(\"RMSE of Auto ARIMA:\", np.sqrt(mean_squared_error(df_valid.Close, df_valid.Forecast_ARIMAX)))\n",
        "print(\"\\nMAE of Auto ARIMA:\", mean_absolute_error(df_valid.Close, df_valid.Forecast_ARIMAX))"
      ],
      "execution_count": null,
      "outputs": []
    },
    {
      "cell_type": "markdown",
      "metadata": {
        "id": "E3o_Ozk4yKBh"
      },
      "source": [
        "# Using ARIMAX for forcasting:"
      ]
    },
    {
      "cell_type": "code",
      "metadata": {
        "colab": {
          "base_uri": "https://localhost:8080/",
          "height": 195
        },
        "id": "G0urHrYhLaay",
        "outputId": "c23b905a-3ade-4013-ff15-9d416b05f914"
      },
      "source": [
        "nifty_data.head()"
      ],
      "execution_count": 37,
      "outputs": [
        {
          "output_type": "execute_result",
          "data": {
            "text/html": [
              "<div>\n",
              "<style scoped>\n",
              "    .dataframe tbody tr th:only-of-type {\n",
              "        vertical-align: middle;\n",
              "    }\n",
              "\n",
              "    .dataframe tbody tr th {\n",
              "        vertical-align: top;\n",
              "    }\n",
              "\n",
              "    .dataframe thead th {\n",
              "        text-align: right;\n",
              "    }\n",
              "</style>\n",
              "<table border=\"1\" class=\"dataframe\">\n",
              "  <thead>\n",
              "    <tr style=\"text-align: right;\">\n",
              "      <th></th>\n",
              "      <th>Date</th>\n",
              "      <th>Open</th>\n",
              "      <th>High</th>\n",
              "      <th>Low</th>\n",
              "      <th>Close</th>\n",
              "    </tr>\n",
              "  </thead>\n",
              "  <tbody>\n",
              "    <tr>\n",
              "      <th>0</th>\n",
              "      <td>2000-01-03</td>\n",
              "      <td>1482.15</td>\n",
              "      <td>1592.90</td>\n",
              "      <td>1482.15</td>\n",
              "      <td>1592.2</td>\n",
              "    </tr>\n",
              "    <tr>\n",
              "      <th>1</th>\n",
              "      <td>2000-01-04</td>\n",
              "      <td>1594.40</td>\n",
              "      <td>1641.95</td>\n",
              "      <td>1594.40</td>\n",
              "      <td>1638.7</td>\n",
              "    </tr>\n",
              "    <tr>\n",
              "      <th>2</th>\n",
              "      <td>2000-01-05</td>\n",
              "      <td>1634.55</td>\n",
              "      <td>1635.50</td>\n",
              "      <td>1555.05</td>\n",
              "      <td>1595.8</td>\n",
              "    </tr>\n",
              "    <tr>\n",
              "      <th>3</th>\n",
              "      <td>2000-01-06</td>\n",
              "      <td>1595.80</td>\n",
              "      <td>1639.00</td>\n",
              "      <td>1595.80</td>\n",
              "      <td>1617.6</td>\n",
              "    </tr>\n",
              "    <tr>\n",
              "      <th>4</th>\n",
              "      <td>2000-01-07</td>\n",
              "      <td>1616.60</td>\n",
              "      <td>1628.25</td>\n",
              "      <td>1597.20</td>\n",
              "      <td>1613.3</td>\n",
              "    </tr>\n",
              "  </tbody>\n",
              "</table>\n",
              "</div>"
            ],
            "text/plain": [
              "         Date     Open     High      Low   Close\n",
              "0  2000-01-03  1482.15  1592.90  1482.15  1592.2\n",
              "1  2000-01-04  1594.40  1641.95  1594.40  1638.7\n",
              "2  2000-01-05  1634.55  1635.50  1555.05  1595.8\n",
              "3  2000-01-06  1595.80  1639.00  1595.80  1617.6\n",
              "4  2000-01-07  1616.60  1628.25  1597.20  1613.3"
            ]
          },
          "metadata": {
            "tags": []
          },
          "execution_count": 37
        }
      ]
    },
    {
      "cell_type": "code",
      "metadata": {
        "id": "6-yo8n7Ly1We"
      },
      "source": [
        "df= nifty_data.copy()\n",
        "df.dropna(inplace=True)"
      ],
      "execution_count": 40,
      "outputs": []
    },
    {
      "cell_type": "code",
      "metadata": {
        "colab": {
          "base_uri": "https://localhost:8080/",
          "height": 329
        },
        "id": "UdtUsM6X9_nW",
        "outputId": "5dceb446-33c8-49f2-959c-0ffdf8ff064a"
      },
      "source": [
        "df.reset_index(drop=True, inplace=True)\n",
        "lag_features = [\"Open\",\"High\", \"Low\", \"Close\"]\n",
        "window1 = 3\n",
        "window2 = 7\n",
        "window3 = 30\n",
        "\n",
        "df_rolled_3d = df[lag_features].rolling(window=window1, min_periods=0)\n",
        "df_rolled_7d = df[lag_features].rolling(window=window2, min_periods=0)\n",
        "df_rolled_30d = df[lag_features].rolling(window=window3, min_periods=0)\n",
        "\n",
        "df_mean_3d = df_rolled_3d.mean().shift(1).reset_index().astype(np.float32)\n",
        "df_mean_7d = df_rolled_7d.mean().shift(1).reset_index().astype(np.float32)\n",
        "df_mean_30d = df_rolled_30d.mean().shift(1).reset_index().astype(np.float32)\n",
        "\n",
        "df_std_3d = df_rolled_3d.std().shift(1).reset_index().astype(np.float32)\n",
        "df_std_7d = df_rolled_7d.std().shift(1).reset_index().astype(np.float32)\n",
        "df_std_30d = df_rolled_30d.std().shift(1).reset_index().astype(np.float32)\n",
        "\n",
        "for feature in lag_features:\n",
        "    df[f\"{feature}_mean_lag{window1}\"] = df_mean_3d[feature]\n",
        "    df[f\"{feature}_mean_lag{window2}\"] = df_mean_7d[feature]\n",
        "    df[f\"{feature}_mean_lag{window3}\"] = df_mean_30d[feature]\n",
        "    \n",
        "    df[f\"{feature}_std_lag{window1}\"] = df_std_3d[feature]\n",
        "    df[f\"{feature}_std_lag{window2}\"] = df_std_7d[feature]\n",
        "    df[f\"{feature}_std_lag{window3}\"] = df_std_30d[feature]\n",
        "\n",
        "df.fillna(df.mean(), inplace=True)\n",
        "df.set_index(\"Date\", drop=True, inplace=True)\n",
        "df.head()"
      ],
      "execution_count": 41,
      "outputs": [
        {
          "output_type": "execute_result",
          "data": {
            "text/html": [
              "<div>\n",
              "<style scoped>\n",
              "    .dataframe tbody tr th:only-of-type {\n",
              "        vertical-align: middle;\n",
              "    }\n",
              "\n",
              "    .dataframe tbody tr th {\n",
              "        vertical-align: top;\n",
              "    }\n",
              "\n",
              "    .dataframe thead th {\n",
              "        text-align: right;\n",
              "    }\n",
              "</style>\n",
              "<table border=\"1\" class=\"dataframe\">\n",
              "  <thead>\n",
              "    <tr style=\"text-align: right;\">\n",
              "      <th></th>\n",
              "      <th>Open</th>\n",
              "      <th>High</th>\n",
              "      <th>Low</th>\n",
              "      <th>Close</th>\n",
              "      <th>Open_mean_lag3</th>\n",
              "      <th>Open_mean_lag7</th>\n",
              "      <th>Open_mean_lag30</th>\n",
              "      <th>Open_std_lag3</th>\n",
              "      <th>Open_std_lag7</th>\n",
              "      <th>Open_std_lag30</th>\n",
              "      <th>High_mean_lag3</th>\n",
              "      <th>High_mean_lag7</th>\n",
              "      <th>High_mean_lag30</th>\n",
              "      <th>High_std_lag3</th>\n",
              "      <th>High_std_lag7</th>\n",
              "      <th>High_std_lag30</th>\n",
              "      <th>Low_mean_lag3</th>\n",
              "      <th>Low_mean_lag7</th>\n",
              "      <th>Low_mean_lag30</th>\n",
              "      <th>Low_std_lag3</th>\n",
              "      <th>Low_std_lag7</th>\n",
              "      <th>Low_std_lag30</th>\n",
              "      <th>Close_mean_lag3</th>\n",
              "      <th>Close_mean_lag7</th>\n",
              "      <th>Close_mean_lag30</th>\n",
              "      <th>Close_std_lag3</th>\n",
              "      <th>Close_std_lag7</th>\n",
              "      <th>Close_std_lag30</th>\n",
              "    </tr>\n",
              "    <tr>\n",
              "      <th>Date</th>\n",
              "      <th></th>\n",
              "      <th></th>\n",
              "      <th></th>\n",
              "      <th></th>\n",
              "      <th></th>\n",
              "      <th></th>\n",
              "      <th></th>\n",
              "      <th></th>\n",
              "      <th></th>\n",
              "      <th></th>\n",
              "      <th></th>\n",
              "      <th></th>\n",
              "      <th></th>\n",
              "      <th></th>\n",
              "      <th></th>\n",
              "      <th></th>\n",
              "      <th></th>\n",
              "      <th></th>\n",
              "      <th></th>\n",
              "      <th></th>\n",
              "      <th></th>\n",
              "      <th></th>\n",
              "      <th></th>\n",
              "      <th></th>\n",
              "      <th></th>\n",
              "      <th></th>\n",
              "      <th></th>\n",
              "      <th></th>\n",
              "    </tr>\n",
              "  </thead>\n",
              "  <tbody>\n",
              "    <tr>\n",
              "      <th>2000-01-03</th>\n",
              "      <td>1482.15</td>\n",
              "      <td>1592.90</td>\n",
              "      <td>1482.15</td>\n",
              "      <td>1592.2</td>\n",
              "      <td>5547.483398</td>\n",
              "      <td>5542.514160</td>\n",
              "      <td>5514.119141</td>\n",
              "      <td>45.522327</td>\n",
              "      <td>68.892075</td>\n",
              "      <td>141.049759</td>\n",
              "      <td>5584.558594</td>\n",
              "      <td>5579.578125</td>\n",
              "      <td>5551.036133</td>\n",
              "      <td>38.862560</td>\n",
              "      <td>62.409687</td>\n",
              "      <td>135.257034</td>\n",
              "      <td>5502.552246</td>\n",
              "      <td>5497.606445</td>\n",
              "      <td>5469.410156</td>\n",
              "      <td>43.983521</td>\n",
              "      <td>69.701912</td>\n",
              "      <td>144.373383</td>\n",
              "      <td>5544.258789</td>\n",
              "      <td>5539.302246</td>\n",
              "      <td>5510.930664</td>\n",
              "      <td>44.819336</td>\n",
              "      <td>68.637215</td>\n",
              "      <td>140.728851</td>\n",
              "    </tr>\n",
              "    <tr>\n",
              "      <th>2000-01-04</th>\n",
              "      <td>1594.40</td>\n",
              "      <td>1641.95</td>\n",
              "      <td>1594.40</td>\n",
              "      <td>1638.7</td>\n",
              "      <td>1482.150024</td>\n",
              "      <td>1482.150024</td>\n",
              "      <td>1482.150024</td>\n",
              "      <td>45.522327</td>\n",
              "      <td>68.892075</td>\n",
              "      <td>141.049759</td>\n",
              "      <td>1592.900024</td>\n",
              "      <td>1592.900024</td>\n",
              "      <td>1592.900024</td>\n",
              "      <td>38.862560</td>\n",
              "      <td>62.409687</td>\n",
              "      <td>135.257034</td>\n",
              "      <td>1482.150024</td>\n",
              "      <td>1482.150024</td>\n",
              "      <td>1482.150024</td>\n",
              "      <td>43.983521</td>\n",
              "      <td>69.701912</td>\n",
              "      <td>144.373383</td>\n",
              "      <td>1592.199951</td>\n",
              "      <td>1592.199951</td>\n",
              "      <td>1592.199951</td>\n",
              "      <td>44.819336</td>\n",
              "      <td>68.637215</td>\n",
              "      <td>140.728851</td>\n",
              "    </tr>\n",
              "    <tr>\n",
              "      <th>2000-01-05</th>\n",
              "      <td>1634.55</td>\n",
              "      <td>1635.50</td>\n",
              "      <td>1555.05</td>\n",
              "      <td>1595.8</td>\n",
              "      <td>1538.275024</td>\n",
              "      <td>1538.275024</td>\n",
              "      <td>1538.275024</td>\n",
              "      <td>79.372734</td>\n",
              "      <td>79.372734</td>\n",
              "      <td>79.372734</td>\n",
              "      <td>1617.425049</td>\n",
              "      <td>1617.425049</td>\n",
              "      <td>1617.425049</td>\n",
              "      <td>34.683586</td>\n",
              "      <td>34.683586</td>\n",
              "      <td>34.683586</td>\n",
              "      <td>1538.275024</td>\n",
              "      <td>1538.275024</td>\n",
              "      <td>1538.275024</td>\n",
              "      <td>79.372734</td>\n",
              "      <td>79.372734</td>\n",
              "      <td>79.372734</td>\n",
              "      <td>1615.449951</td>\n",
              "      <td>1615.449951</td>\n",
              "      <td>1615.449951</td>\n",
              "      <td>32.880466</td>\n",
              "      <td>32.880466</td>\n",
              "      <td>32.880466</td>\n",
              "    </tr>\n",
              "    <tr>\n",
              "      <th>2000-01-06</th>\n",
              "      <td>1595.80</td>\n",
              "      <td>1639.00</td>\n",
              "      <td>1595.80</td>\n",
              "      <td>1617.6</td>\n",
              "      <td>1570.366699</td>\n",
              "      <td>1570.366699</td>\n",
              "      <td>1570.366699</td>\n",
              "      <td>78.991394</td>\n",
              "      <td>78.991394</td>\n",
              "      <td>78.991394</td>\n",
              "      <td>1623.449951</td>\n",
              "      <td>1623.449951</td>\n",
              "      <td>1623.449951</td>\n",
              "      <td>26.652908</td>\n",
              "      <td>26.652908</td>\n",
              "      <td>26.652908</td>\n",
              "      <td>1543.866699</td>\n",
              "      <td>1543.866699</td>\n",
              "      <td>1543.866699</td>\n",
              "      <td>56.954506</td>\n",
              "      <td>56.954506</td>\n",
              "      <td>56.954506</td>\n",
              "      <td>1608.900024</td>\n",
              "      <td>1608.900024</td>\n",
              "      <td>1608.900024</td>\n",
              "      <td>25.870253</td>\n",
              "      <td>25.870253</td>\n",
              "      <td>25.870253</td>\n",
              "    </tr>\n",
              "    <tr>\n",
              "      <th>2000-01-07</th>\n",
              "      <td>1616.60</td>\n",
              "      <td>1628.25</td>\n",
              "      <td>1597.20</td>\n",
              "      <td>1613.3</td>\n",
              "      <td>1608.250000</td>\n",
              "      <td>1576.724976</td>\n",
              "      <td>1576.724976</td>\n",
              "      <td>22.787222</td>\n",
              "      <td>65.737923</td>\n",
              "      <td>65.737923</td>\n",
              "      <td>1638.816650</td>\n",
              "      <td>1627.337524</td>\n",
              "      <td>1627.337524</td>\n",
              "      <td>3.228906</td>\n",
              "      <td>23.109211</td>\n",
              "      <td>23.109211</td>\n",
              "      <td>1581.750000</td>\n",
              "      <td>1556.849976</td>\n",
              "      <td>1556.849976</td>\n",
              "      <td>23.133471</td>\n",
              "      <td>53.261726</td>\n",
              "      <td>53.261726</td>\n",
              "      <td>1617.366699</td>\n",
              "      <td>1611.074951</td>\n",
              "      <td>1611.074951</td>\n",
              "      <td>21.450953</td>\n",
              "      <td>21.566235</td>\n",
              "      <td>21.566235</td>\n",
              "    </tr>\n",
              "  </tbody>\n",
              "</table>\n",
              "</div>"
            ],
            "text/plain": [
              "               Open     High  ...  Close_std_lag7  Close_std_lag30\n",
              "Date                          ...                                 \n",
              "2000-01-03  1482.15  1592.90  ...       68.637215       140.728851\n",
              "2000-01-04  1594.40  1641.95  ...       68.637215       140.728851\n",
              "2000-01-05  1634.55  1635.50  ...       32.880466        32.880466\n",
              "2000-01-06  1595.80  1639.00  ...       25.870253        25.870253\n",
              "2000-01-07  1616.60  1628.25  ...       21.566235        21.566235\n",
              "\n",
              "[5 rows x 28 columns]"
            ]
          },
          "metadata": {
            "tags": []
          },
          "execution_count": 41
        }
      ]
    },
    {
      "cell_type": "code",
      "metadata": {
        "id": "_6h4e9-fuPEL"
      },
      "source": [
        "df_train = df[df.index < \"2019\"]\n",
        "df_valid = df[df.index >= \"2019\"]"
      ],
      "execution_count": 42,
      "outputs": []
    },
    {
      "cell_type": "code",
      "metadata": {
        "id": "G8ALo9JXumf_"
      },
      "source": [
        "exogenous_features= ['Open_mean_lag3', 'Open_mean_lag7',\n",
        "       'Open_mean_lag30', 'Open_std_lag3', 'Open_std_lag7', 'Open_std_lag30',\n",
        "       'High_mean_lag3', 'High_mean_lag7', 'High_mean_lag30', 'High_std_lag3',\n",
        "       'High_std_lag7', 'High_std_lag30', 'Low_mean_lag3', 'Low_mean_lag7',\n",
        "       'Low_mean_lag30', 'Low_std_lag3', 'Low_std_lag7', 'Low_std_lag30',\n",
        "       'Close_mean_lag3', 'Close_mean_lag7', 'Close_mean_lag30',\n",
        "       'Close_std_lag3', 'Close_std_lag7', 'Close_std_lag30']"
      ],
      "execution_count": 43,
      "outputs": []
    },
    {
      "cell_type": "code",
      "metadata": {
        "id": "v5srSwcpoL3-",
        "colab": {
          "base_uri": "https://localhost:8080/"
        },
        "outputId": "fb63ea1e-c70a-4fc3-8a9a-c38be2deb53e"
      },
      "source": [
        "model = auto_arima(df_train.Close, exogenous=df_train[exogenous_features], trace=True, error_action=\"ignore\", suppress_warnings=True)\n",
        "model.fit(df_train.Close, exogenous=df_train[exogenous_features])\n",
        "\n",
        "forecast = model.predict(n_periods=len(df_valid), exogenous=df_valid[exogenous_features])\n",
        "df_valid[\"Forecast_ARIMAX\"] = forecast"
      ],
      "execution_count": 44,
      "outputs": [
        {
          "output_type": "stream",
          "text": [
            "Performing stepwise search to minimize aic\n",
            " ARIMA(2,0,2)(0,0,0)[0] intercept   : AIC=55849.574, Time=46.75 sec\n",
            " ARIMA(0,0,0)(0,0,0)[0] intercept   : AIC=55645.695, Time=6.14 sec\n",
            " ARIMA(1,0,0)(0,0,0)[0] intercept   : AIC=55587.972, Time=26.25 sec\n",
            " ARIMA(0,0,1)(0,0,0)[0] intercept   : AIC=56024.239, Time=37.30 sec\n",
            " ARIMA(0,0,0)(0,0,0)[0]             : AIC=57996.930, Time=35.88 sec\n",
            " ARIMA(2,0,0)(0,0,0)[0] intercept   : AIC=55781.521, Time=39.47 sec\n",
            " ARIMA(1,0,1)(0,0,0)[0] intercept   : AIC=55615.998, Time=46.10 sec\n",
            " ARIMA(2,0,1)(0,0,0)[0] intercept   : AIC=56163.215, Time=36.32 sec\n",
            " ARIMA(1,0,0)(0,0,0)[0]             : AIC=55685.094, Time=26.89 sec\n",
            "\n",
            "Best model:  ARIMA(1,0,0)(0,0,0)[0] intercept\n",
            "Total fit time: 301.147 seconds\n"
          ],
          "name": "stdout"
        },
        {
          "output_type": "stream",
          "text": [
            "/usr/local/lib/python3.7/dist-packages/statsmodels/tsa/base/tsa_model.py:379: ValueWarning: No supported index is available. Prediction results will be given with an integer index beginning at `start`.\n",
            "  ValueWarning)\n",
            "/usr/local/lib/python3.7/dist-packages/ipykernel_launcher.py:5: SettingWithCopyWarning: \n",
            "A value is trying to be set on a copy of a slice from a DataFrame.\n",
            "Try using .loc[row_indexer,col_indexer] = value instead\n",
            "\n",
            "See the caveats in the documentation: https://pandas.pydata.org/pandas-docs/stable/user_guide/indexing.html#returning-a-view-versus-a-copy\n",
            "  \"\"\"\n"
          ],
          "name": "stderr"
        }
      ]
    },
    {
      "cell_type": "code",
      "metadata": {
        "colab": {
          "base_uri": "https://localhost:8080/",
          "height": 923
        },
        "id": "zk_NFOK-oL08",
        "outputId": "df9f9b5d-233d-4976-b216-855820652a46"
      },
      "source": [
        "df_train.plot(figsize=(14, 7))\n",
        "df_valid[[\"Close\", \"Forecast_ARIMAX\"]].plot(figsize=(14, 7))"
      ],
      "execution_count": 45,
      "outputs": [
        {
          "output_type": "execute_result",
          "data": {
            "text/plain": [
              "<matplotlib.axes._subplots.AxesSubplot at 0x7fde68b34fd0>"
            ]
          },
          "metadata": {
            "tags": []
          },
          "execution_count": 45
        },
        {
          "output_type": "display_data",
          "data": {
            "image/png": "[encoded data removed]",
            "text/plain": [
              "<Figure size 1008x504 with 1 Axes>"
            ]
          },
          "metadata": {
            "tags": [],
            "needs_background": "light"
          }
        },
        {
          "output_type": "display_data",
          "data": {
            "image/png": "[encoded data removed]",
            "text/plain": [
              "<Figure size 1008x504 with 1 Axes>"
            ]
          },
          "metadata": {
            "tags": [],
            "needs_background": "light"
          }
        }
      ]
    },
    {
      "cell_type": "code",
      "metadata": {
        "colab": {
          "base_uri": "https://localhost:8080/"
        },
        "id": "W6wQjksbApoQ",
        "outputId": "3190ab82-6864-4d04-d50e-714d34f2c061"
      },
      "source": [
        "df_valid['Close']"
      ],
      "execution_count": 75,
      "outputs": [
        {
          "output_type": "execute_result",
          "data": {
            "text/plain": [
              "Date\n",
              "2019-01-02    10792.500000\n",
              "2019-01-03    10672.250000\n",
              "2019-01-04    10727.349609\n",
              "2019-01-07    10771.799805\n",
              "2019-01-08    10802.150391\n",
              "                  ...     \n",
              "2021-05-04    14496.500000\n",
              "2021-05-05    14617.849609\n",
              "2021-05-06    14724.799805\n",
              "2021-05-07    14823.150391\n",
              "2021-05-10    14942.349609\n",
              "Name: Close, Length: 576, dtype: float64"
            ]
          },
          "metadata": {
            "tags": []
          },
          "execution_count": 75
        }
      ]
    },
    {
      "cell_type": "code",
      "metadata": {
        "colab": {
          "base_uri": "https://localhost:8080/",
          "height": 286
        },
        "id": "1Y3APGMq_7Ai",
        "outputId": "460ad9d2-280b-4e16-cf07-57228457c45b"
      },
      "source": [
        "# Plot forcasting Close price\n",
        "forecast_df = pd.DataFrame(forecast,index = df_valid.index,columns=['Prediction'])\n",
        "plt.plot(df_train['Close'],label='Close Training Data')\n",
        "plt.plot(df_valid['Close'],label='Close Test Data')\n",
        "plt.plot(forecast_df['Prediction'],label='Close Forecasting Data')\n",
        "plt.legend()"
      ],
      "execution_count": 78,
      "outputs": [
        {
          "output_type": "execute_result",
          "data": {
            "text/plain": [
              "<matplotlib.legend.Legend at 0x7fde59f63a10>"
            ]
          },
          "metadata": {
            "tags": []
          },
          "execution_count": 78
        },
        {
          "output_type": "display_data",
          "data": {
            "image/png": "[encoded data removed]",
            "text/plain": [
              "<Figure size 432x288 with 1 Axes>"
            ]
          },
          "metadata": {
            "tags": [],
            "needs_background": "light"
          }
        }
      ]
    },
    {
      "cell_type": "code",
      "metadata": {
        "colab": {
          "base_uri": "https://localhost:8080/"
        },
        "id": "o_lxNNePoLtg",
        "outputId": "77dfe3dc-3309-4378-fdc8-e23930555237"
      },
      "source": [
        "from sklearn.metrics import mean_absolute_error, mean_squared_error\n",
        "print(\"RMSE of Auto ARIMAX:\", np.sqrt(mean_squared_error(df_valid.Close, df_valid.Forecast_ARIMAX)))\n",
        "print(\"\\nMAE of Auto ARIMAX:\", mean_absolute_error(df_valid.Close, df_valid.Forecast_ARIMAX))"
      ],
      "execution_count": 46,
      "outputs": [
        {
          "output_type": "stream",
          "text": [
            "RMSE of Auto ARIMAX: 666.2609346258823\n",
            "\n",
            "MAE of Auto ARIMAX: 496.2560709657612\n"
          ],
          "name": "stdout"
        }
      ]
    },
    {
      "cell_type": "markdown",
      "metadata": {
        "id": "xeAFijG1pbXw"
      },
      "source": [
        "## Objective 2: \n",
        "The problem is further simplified to just predict the direction of nifty index movements in the next N days (throughout our experiments N can take values 1, 5, and 30). Initially, we will take N=1, that means we want to predict the NIFTY 50 index movement in the next day. This is represented as a classification task where there are two possible outcomes (either the index went up in the next day or it went down)."
      ]
    },
    {
      "cell_type": "markdown",
      "metadata": {
        "id": "8NcRrNQuGZtR"
      },
      "source": [
        "### Creating the dependent variable which we want to predict"
      ]
    },
    {
      "cell_type": "code",
      "metadata": {
        "id": "4NpNjk60-S2u"
      },
      "source": [
        "df= nifty_df.copy()"
      ],
      "execution_count": 48,
      "outputs": []
    },
    {
      "cell_type": "code",
      "metadata": {
        "id": "1viRHF36GZtS"
      },
      "source": [
        "# Create the dependent variable..we want to predict the directionality of index movement in nexrt 5 minutes\n",
        "df.loc[(df['Close']-df['Close'].shift(-1)) < 0,'target']=1\n",
        "df.loc[(df['Close']-df['Close'].shift(-1)) >= 0,'target']=0"
      ],
      "execution_count": 49,
      "outputs": []
    },
    {
      "cell_type": "markdown",
      "metadata": {
        "id": "hIdDdy5SGZtS"
      },
      "source": [
        "### Obtaining the class distribution of both classes of our dependent variable"
      ]
    },
    {
      "cell_type": "code",
      "metadata": {
        "id": "nv24qVXyGZtS",
        "colab": {
          "base_uri": "https://localhost:8080/"
        },
        "outputId": "bab19670-c41e-43ce-e773-e8282e7ba0b0"
      },
      "source": [
        "df.target.value_counts()"
      ],
      "execution_count": 50,
      "outputs": [
        {
          "output_type": "execute_result",
          "data": {
            "text/plain": [
              "1.0    2834\n",
              "0.0    2431\n",
              "Name: target, dtype: int64"
            ]
          },
          "metadata": {
            "tags": []
          },
          "execution_count": 50
        }
      ]
    },
    {
      "cell_type": "code",
      "metadata": {
        "id": "sJmlTXwtGZtT",
        "colab": {
          "base_uri": "https://localhost:8080/"
        },
        "outputId": "9267d377-152f-4b9e-da51-5d14cc5b6721"
      },
      "source": [
        "df.shape"
      ],
      "execution_count": 51,
      "outputs": [
        {
          "output_type": "execute_result",
          "data": {
            "text/plain": [
              "(5266, 5)"
            ]
          },
          "metadata": {
            "tags": []
          },
          "execution_count": 51
        }
      ]
    },
    {
      "cell_type": "code",
      "metadata": {
        "colab": {
          "base_uri": "https://localhost:8080/",
          "height": 449
        },
        "id": "0CXOaEPLJCFs",
        "outputId": "3df7ebc9-da50-4dfa-dd56-1310ba3a9e8e"
      },
      "source": [
        " ## Correlation heat map\n",
        "import seaborn as sns\n",
        "plt.figure(figsize=(14,7))\n",
        "correlation = df.corr()\n",
        "sns.heatmap(correlation, annot=True, cmap='coolwarm')"
      ],
      "execution_count": 55,
      "outputs": [
        {
          "output_type": "execute_result",
          "data": {
            "text/plain": [
              "<matplotlib.axes._subplots.AxesSubplot at 0x7fde66a7dbd0>"
            ]
          },
          "metadata": {
            "tags": []
          },
          "execution_count": 55
        },
        {
          "output_type": "display_data",
          "data": {
            "image/png": "[encoded data removed]",
            "text/plain": [
              "<Figure size 1008x504 with 2 Axes>"
            ]
          },
          "metadata": {
            "tags": [],
            "needs_background": "light"
          }
        }
      ]
    },
    {
      "cell_type": "markdown",
      "metadata": {
        "id": "qgk3EuUsGZtU"
      },
      "source": [
        "## Feature Engineering"
      ]
    },
    {
      "cell_type": "code",
      "metadata": {
        "id": "-1otHvhsG64r"
      },
      "source": [
        "# Creating features with lags\n",
        "def create_lag_vars(df,lags,col):   \n",
        "  var_name = col+'_lag_' + str(lags)\n",
        "  df[var_name] = df[col].shift(lags)"
      ],
      "execution_count": 56,
      "outputs": []
    },
    {
      "cell_type": "code",
      "metadata": {
        "id": "19UutLL6G62C"
      },
      "source": [
        "cols= ['High','Low','Open','Close']\n",
        "lags = [1,5,6,7,8,10,12]\n",
        "for col in cols:\n",
        "   for lag in lags:\n",
        "     create_lag_vars(df,lag,col)\n",
        "\n"
      ],
      "execution_count": 57,
      "outputs": []
    },
    {
      "cell_type": "code",
      "metadata": {
        "colab": {
          "base_uri": "https://localhost:8080/",
          "height": 561
        },
        "id": "RC2k5UfdG6zd",
        "outputId": "be948c3c-0f05-4ffc-e62c-0234c640ea15"
      },
      "source": [
        "df.head(10)"
      ],
      "execution_count": 58,
      "outputs": [
        {
          "output_type": "execute_result",
          "data": {
            "text/html": [
              "<div>\n",
              "<style scoped>\n",
              "    .dataframe tbody tr th:only-of-type {\n",
              "        vertical-align: middle;\n",
              "    }\n",
              "\n",
              "    .dataframe tbody tr th {\n",
              "        vertical-align: top;\n",
              "    }\n",
              "\n",
              "    .dataframe thead th {\n",
              "        text-align: right;\n",
              "    }\n",
              "</style>\n",
              "<table border=\"1\" class=\"dataframe\">\n",
              "  <thead>\n",
              "    <tr style=\"text-align: right;\">\n",
              "      <th></th>\n",
              "      <th>Open</th>\n",
              "      <th>High</th>\n",
              "      <th>Low</th>\n",
              "      <th>Close</th>\n",
              "      <th>target</th>\n",
              "      <th>High_lag_1</th>\n",
              "      <th>High_lag_5</th>\n",
              "      <th>High_lag_6</th>\n",
              "      <th>High_lag_7</th>\n",
              "      <th>High_lag_8</th>\n",
              "      <th>High_lag_10</th>\n",
              "      <th>High_lag_12</th>\n",
              "      <th>Low_lag_1</th>\n",
              "      <th>Low_lag_5</th>\n",
              "      <th>Low_lag_6</th>\n",
              "      <th>Low_lag_7</th>\n",
              "      <th>Low_lag_8</th>\n",
              "      <th>Low_lag_10</th>\n",
              "      <th>Low_lag_12</th>\n",
              "      <th>Open_lag_1</th>\n",
              "      <th>Open_lag_5</th>\n",
              "      <th>Open_lag_6</th>\n",
              "      <th>Open_lag_7</th>\n",
              "      <th>Open_lag_8</th>\n",
              "      <th>Open_lag_10</th>\n",
              "      <th>Open_lag_12</th>\n",
              "      <th>Close_lag_1</th>\n",
              "      <th>Close_lag_5</th>\n",
              "      <th>Close_lag_6</th>\n",
              "      <th>Close_lag_7</th>\n",
              "      <th>Close_lag_8</th>\n",
              "      <th>Close_lag_10</th>\n",
              "      <th>Close_lag_12</th>\n",
              "    </tr>\n",
              "    <tr>\n",
              "      <th>Date</th>\n",
              "      <th></th>\n",
              "      <th></th>\n",
              "      <th></th>\n",
              "      <th></th>\n",
              "      <th></th>\n",
              "      <th></th>\n",
              "      <th></th>\n",
              "      <th></th>\n",
              "      <th></th>\n",
              "      <th></th>\n",
              "      <th></th>\n",
              "      <th></th>\n",
              "      <th></th>\n",
              "      <th></th>\n",
              "      <th></th>\n",
              "      <th></th>\n",
              "      <th></th>\n",
              "      <th></th>\n",
              "      <th></th>\n",
              "      <th></th>\n",
              "      <th></th>\n",
              "      <th></th>\n",
              "      <th></th>\n",
              "      <th></th>\n",
              "      <th></th>\n",
              "      <th></th>\n",
              "      <th></th>\n",
              "      <th></th>\n",
              "      <th></th>\n",
              "      <th></th>\n",
              "      <th></th>\n",
              "      <th></th>\n",
              "      <th></th>\n",
              "    </tr>\n",
              "  </thead>\n",
              "  <tbody>\n",
              "    <tr>\n",
              "      <th>2000-01-03</th>\n",
              "      <td>1482.15</td>\n",
              "      <td>1592.90</td>\n",
              "      <td>1482.15</td>\n",
              "      <td>1592.20</td>\n",
              "      <td>1.0</td>\n",
              "      <td>NaN</td>\n",
              "      <td>NaN</td>\n",
              "      <td>NaN</td>\n",
              "      <td>NaN</td>\n",
              "      <td>NaN</td>\n",
              "      <td>NaN</td>\n",
              "      <td>NaN</td>\n",
              "      <td>NaN</td>\n",
              "      <td>NaN</td>\n",
              "      <td>NaN</td>\n",
              "      <td>NaN</td>\n",
              "      <td>NaN</td>\n",
              "      <td>NaN</td>\n",
              "      <td>NaN</td>\n",
              "      <td>NaN</td>\n",
              "      <td>NaN</td>\n",
              "      <td>NaN</td>\n",
              "      <td>NaN</td>\n",
              "      <td>NaN</td>\n",
              "      <td>NaN</td>\n",
              "      <td>NaN</td>\n",
              "      <td>NaN</td>\n",
              "      <td>NaN</td>\n",
              "      <td>NaN</td>\n",
              "      <td>NaN</td>\n",
              "      <td>NaN</td>\n",
              "      <td>NaN</td>\n",
              "      <td>NaN</td>\n",
              "    </tr>\n",
              "    <tr>\n",
              "      <th>2000-01-04</th>\n",
              "      <td>1594.40</td>\n",
              "      <td>1641.95</td>\n",
              "      <td>1594.40</td>\n",
              "      <td>1638.70</td>\n",
              "      <td>0.0</td>\n",
              "      <td>1592.90</td>\n",
              "      <td>NaN</td>\n",
              "      <td>NaN</td>\n",
              "      <td>NaN</td>\n",
              "      <td>NaN</td>\n",
              "      <td>NaN</td>\n",
              "      <td>NaN</td>\n",
              "      <td>1482.15</td>\n",
              "      <td>NaN</td>\n",
              "      <td>NaN</td>\n",
              "      <td>NaN</td>\n",
              "      <td>NaN</td>\n",
              "      <td>NaN</td>\n",
              "      <td>NaN</td>\n",
              "      <td>1482.15</td>\n",
              "      <td>NaN</td>\n",
              "      <td>NaN</td>\n",
              "      <td>NaN</td>\n",
              "      <td>NaN</td>\n",
              "      <td>NaN</td>\n",
              "      <td>NaN</td>\n",
              "      <td>1592.20</td>\n",
              "      <td>NaN</td>\n",
              "      <td>NaN</td>\n",
              "      <td>NaN</td>\n",
              "      <td>NaN</td>\n",
              "      <td>NaN</td>\n",
              "      <td>NaN</td>\n",
              "    </tr>\n",
              "    <tr>\n",
              "      <th>2000-01-05</th>\n",
              "      <td>1634.55</td>\n",
              "      <td>1635.50</td>\n",
              "      <td>1555.05</td>\n",
              "      <td>1595.80</td>\n",
              "      <td>1.0</td>\n",
              "      <td>1641.95</td>\n",
              "      <td>NaN</td>\n",
              "      <td>NaN</td>\n",
              "      <td>NaN</td>\n",
              "      <td>NaN</td>\n",
              "      <td>NaN</td>\n",
              "      <td>NaN</td>\n",
              "      <td>1594.40</td>\n",
              "      <td>NaN</td>\n",
              "      <td>NaN</td>\n",
              "      <td>NaN</td>\n",
              "      <td>NaN</td>\n",
              "      <td>NaN</td>\n",
              "      <td>NaN</td>\n",
              "      <td>1594.40</td>\n",
              "      <td>NaN</td>\n",
              "      <td>NaN</td>\n",
              "      <td>NaN</td>\n",
              "      <td>NaN</td>\n",
              "      <td>NaN</td>\n",
              "      <td>NaN</td>\n",
              "      <td>1638.70</td>\n",
              "      <td>NaN</td>\n",
              "      <td>NaN</td>\n",
              "      <td>NaN</td>\n",
              "      <td>NaN</td>\n",
              "      <td>NaN</td>\n",
              "      <td>NaN</td>\n",
              "    </tr>\n",
              "    <tr>\n",
              "      <th>2000-01-06</th>\n",
              "      <td>1595.80</td>\n",
              "      <td>1639.00</td>\n",
              "      <td>1595.80</td>\n",
              "      <td>1617.60</td>\n",
              "      <td>0.0</td>\n",
              "      <td>1635.50</td>\n",
              "      <td>NaN</td>\n",
              "      <td>NaN</td>\n",
              "      <td>NaN</td>\n",
              "      <td>NaN</td>\n",
              "      <td>NaN</td>\n",
              "      <td>NaN</td>\n",
              "      <td>1555.05</td>\n",
              "      <td>NaN</td>\n",
              "      <td>NaN</td>\n",
              "      <td>NaN</td>\n",
              "      <td>NaN</td>\n",
              "      <td>NaN</td>\n",
              "      <td>NaN</td>\n",
              "      <td>1634.55</td>\n",
              "      <td>NaN</td>\n",
              "      <td>NaN</td>\n",
              "      <td>NaN</td>\n",
              "      <td>NaN</td>\n",
              "      <td>NaN</td>\n",
              "      <td>NaN</td>\n",
              "      <td>1595.80</td>\n",
              "      <td>NaN</td>\n",
              "      <td>NaN</td>\n",
              "      <td>NaN</td>\n",
              "      <td>NaN</td>\n",
              "      <td>NaN</td>\n",
              "      <td>NaN</td>\n",
              "    </tr>\n",
              "    <tr>\n",
              "      <th>2000-01-07</th>\n",
              "      <td>1616.60</td>\n",
              "      <td>1628.25</td>\n",
              "      <td>1597.20</td>\n",
              "      <td>1613.30</td>\n",
              "      <td>1.0</td>\n",
              "      <td>1639.00</td>\n",
              "      <td>NaN</td>\n",
              "      <td>NaN</td>\n",
              "      <td>NaN</td>\n",
              "      <td>NaN</td>\n",
              "      <td>NaN</td>\n",
              "      <td>NaN</td>\n",
              "      <td>1595.80</td>\n",
              "      <td>NaN</td>\n",
              "      <td>NaN</td>\n",
              "      <td>NaN</td>\n",
              "      <td>NaN</td>\n",
              "      <td>NaN</td>\n",
              "      <td>NaN</td>\n",
              "      <td>1595.80</td>\n",
              "      <td>NaN</td>\n",
              "      <td>NaN</td>\n",
              "      <td>NaN</td>\n",
              "      <td>NaN</td>\n",
              "      <td>NaN</td>\n",
              "      <td>NaN</td>\n",
              "      <td>1617.60</td>\n",
              "      <td>NaN</td>\n",
              "      <td>NaN</td>\n",
              "      <td>NaN</td>\n",
              "      <td>NaN</td>\n",
              "      <td>NaN</td>\n",
              "      <td>NaN</td>\n",
              "    </tr>\n",
              "    <tr>\n",
              "      <th>2000-01-10</th>\n",
              "      <td>1615.65</td>\n",
              "      <td>1662.10</td>\n",
              "      <td>1614.95</td>\n",
              "      <td>1632.95</td>\n",
              "      <td>0.0</td>\n",
              "      <td>1628.25</td>\n",
              "      <td>1592.90</td>\n",
              "      <td>NaN</td>\n",
              "      <td>NaN</td>\n",
              "      <td>NaN</td>\n",
              "      <td>NaN</td>\n",
              "      <td>NaN</td>\n",
              "      <td>1597.20</td>\n",
              "      <td>1482.15</td>\n",
              "      <td>NaN</td>\n",
              "      <td>NaN</td>\n",
              "      <td>NaN</td>\n",
              "      <td>NaN</td>\n",
              "      <td>NaN</td>\n",
              "      <td>1616.60</td>\n",
              "      <td>1482.15</td>\n",
              "      <td>NaN</td>\n",
              "      <td>NaN</td>\n",
              "      <td>NaN</td>\n",
              "      <td>NaN</td>\n",
              "      <td>NaN</td>\n",
              "      <td>1613.30</td>\n",
              "      <td>1592.2</td>\n",
              "      <td>NaN</td>\n",
              "      <td>NaN</td>\n",
              "      <td>NaN</td>\n",
              "      <td>NaN</td>\n",
              "      <td>NaN</td>\n",
              "    </tr>\n",
              "    <tr>\n",
              "      <th>2000-01-11</th>\n",
              "      <td>1633.25</td>\n",
              "      <td>1639.90</td>\n",
              "      <td>1548.25</td>\n",
              "      <td>1572.50</td>\n",
              "      <td>1.0</td>\n",
              "      <td>1662.10</td>\n",
              "      <td>1641.95</td>\n",
              "      <td>1592.90</td>\n",
              "      <td>NaN</td>\n",
              "      <td>NaN</td>\n",
              "      <td>NaN</td>\n",
              "      <td>NaN</td>\n",
              "      <td>1614.95</td>\n",
              "      <td>1594.40</td>\n",
              "      <td>1482.15</td>\n",
              "      <td>NaN</td>\n",
              "      <td>NaN</td>\n",
              "      <td>NaN</td>\n",
              "      <td>NaN</td>\n",
              "      <td>1615.65</td>\n",
              "      <td>1594.40</td>\n",
              "      <td>1482.15</td>\n",
              "      <td>NaN</td>\n",
              "      <td>NaN</td>\n",
              "      <td>NaN</td>\n",
              "      <td>NaN</td>\n",
              "      <td>1632.95</td>\n",
              "      <td>1638.7</td>\n",
              "      <td>1592.2</td>\n",
              "      <td>NaN</td>\n",
              "      <td>NaN</td>\n",
              "      <td>NaN</td>\n",
              "      <td>NaN</td>\n",
              "    </tr>\n",
              "    <tr>\n",
              "      <th>2000-01-12</th>\n",
              "      <td>1572.30</td>\n",
              "      <td>1631.55</td>\n",
              "      <td>1571.70</td>\n",
              "      <td>1624.80</td>\n",
              "      <td>0.0</td>\n",
              "      <td>1639.90</td>\n",
              "      <td>1635.50</td>\n",
              "      <td>1641.95</td>\n",
              "      <td>1592.90</td>\n",
              "      <td>NaN</td>\n",
              "      <td>NaN</td>\n",
              "      <td>NaN</td>\n",
              "      <td>1548.25</td>\n",
              "      <td>1555.05</td>\n",
              "      <td>1594.40</td>\n",
              "      <td>1482.15</td>\n",
              "      <td>NaN</td>\n",
              "      <td>NaN</td>\n",
              "      <td>NaN</td>\n",
              "      <td>1633.25</td>\n",
              "      <td>1634.55</td>\n",
              "      <td>1594.40</td>\n",
              "      <td>1482.15</td>\n",
              "      <td>NaN</td>\n",
              "      <td>NaN</td>\n",
              "      <td>NaN</td>\n",
              "      <td>1572.50</td>\n",
              "      <td>1595.8</td>\n",
              "      <td>1638.7</td>\n",
              "      <td>1592.2</td>\n",
              "      <td>NaN</td>\n",
              "      <td>NaN</td>\n",
              "      <td>NaN</td>\n",
              "    </tr>\n",
              "    <tr>\n",
              "      <th>2000-01-13</th>\n",
              "      <td>1627.85</td>\n",
              "      <td>1671.15</td>\n",
              "      <td>1613.65</td>\n",
              "      <td>1621.40</td>\n",
              "      <td>1.0</td>\n",
              "      <td>1631.55</td>\n",
              "      <td>1639.00</td>\n",
              "      <td>1635.50</td>\n",
              "      <td>1641.95</td>\n",
              "      <td>1592.90</td>\n",
              "      <td>NaN</td>\n",
              "      <td>NaN</td>\n",
              "      <td>1571.70</td>\n",
              "      <td>1595.80</td>\n",
              "      <td>1555.05</td>\n",
              "      <td>1594.40</td>\n",
              "      <td>1482.15</td>\n",
              "      <td>NaN</td>\n",
              "      <td>NaN</td>\n",
              "      <td>1572.30</td>\n",
              "      <td>1595.80</td>\n",
              "      <td>1634.55</td>\n",
              "      <td>1594.40</td>\n",
              "      <td>1482.15</td>\n",
              "      <td>NaN</td>\n",
              "      <td>NaN</td>\n",
              "      <td>1624.80</td>\n",
              "      <td>1617.6</td>\n",
              "      <td>1595.8</td>\n",
              "      <td>1638.7</td>\n",
              "      <td>1592.2</td>\n",
              "      <td>NaN</td>\n",
              "      <td>NaN</td>\n",
              "    </tr>\n",
              "    <tr>\n",
              "      <th>2000-01-14</th>\n",
              "      <td>1622.15</td>\n",
              "      <td>1627.40</td>\n",
              "      <td>1591.40</td>\n",
              "      <td>1622.75</td>\n",
              "      <td>0.0</td>\n",
              "      <td>1671.15</td>\n",
              "      <td>1628.25</td>\n",
              "      <td>1639.00</td>\n",
              "      <td>1635.50</td>\n",
              "      <td>1641.95</td>\n",
              "      <td>NaN</td>\n",
              "      <td>NaN</td>\n",
              "      <td>1613.65</td>\n",
              "      <td>1597.20</td>\n",
              "      <td>1595.80</td>\n",
              "      <td>1555.05</td>\n",
              "      <td>1594.40</td>\n",
              "      <td>NaN</td>\n",
              "      <td>NaN</td>\n",
              "      <td>1627.85</td>\n",
              "      <td>1616.60</td>\n",
              "      <td>1595.80</td>\n",
              "      <td>1634.55</td>\n",
              "      <td>1594.40</td>\n",
              "      <td>NaN</td>\n",
              "      <td>NaN</td>\n",
              "      <td>1621.40</td>\n",
              "      <td>1613.3</td>\n",
              "      <td>1617.6</td>\n",
              "      <td>1595.8</td>\n",
              "      <td>1638.7</td>\n",
              "      <td>NaN</td>\n",
              "      <td>NaN</td>\n",
              "    </tr>\n",
              "  </tbody>\n",
              "</table>\n",
              "</div>"
            ],
            "text/plain": [
              "               Open     High      Low  ...  Close_lag_8  Close_lag_10  Close_lag_12\n",
              "Date                                   ...                                         \n",
              "2000-01-03  1482.15  1592.90  1482.15  ...          NaN           NaN           NaN\n",
              "2000-01-04  1594.40  1641.95  1594.40  ...          NaN           NaN           NaN\n",
              "2000-01-05  1634.55  1635.50  1555.05  ...          NaN           NaN           NaN\n",
              "2000-01-06  1595.80  1639.00  1595.80  ...          NaN           NaN           NaN\n",
              "2000-01-07  1616.60  1628.25  1597.20  ...          NaN           NaN           NaN\n",
              "2000-01-10  1615.65  1662.10  1614.95  ...          NaN           NaN           NaN\n",
              "2000-01-11  1633.25  1639.90  1548.25  ...          NaN           NaN           NaN\n",
              "2000-01-12  1572.30  1631.55  1571.70  ...          NaN           NaN           NaN\n",
              "2000-01-13  1627.85  1671.15  1613.65  ...       1592.2           NaN           NaN\n",
              "2000-01-14  1622.15  1627.40  1591.40  ...       1638.7           NaN           NaN\n",
              "\n",
              "[10 rows x 33 columns]"
            ]
          },
          "metadata": {
            "tags": []
          },
          "execution_count": 58
        }
      ]
    },
    {
      "cell_type": "code",
      "metadata": {
        "colab": {
          "base_uri": "https://localhost:8080/",
          "height": 505
        },
        "id": "VJKUDLryOT3x",
        "outputId": "68015dcb-8c1f-4ee0-e747-e491769c9bf2"
      },
      "source": [
        "plt.figure(figsize=(14,7))\n",
        "correlation = df.corr()\n",
        "sns.heatmap(correlation, annot=True, cmap='coolwarm')"
      ],
      "execution_count": 72,
      "outputs": [
        {
          "output_type": "execute_result",
          "data": {
            "text/plain": [
              "<matplotlib.axes._subplots.AxesSubplot at 0x7fde61482750>"
            ]
          },
          "metadata": {
            "tags": []
          },
          "execution_count": 72
        },
        {
          "output_type": "display_data",
          "data": {
            "image/png": "[encoded data removed]",
            "text/plain": [
              "<Figure size 1008x504 with 2 Axes>"
            ]
          },
          "metadata": {
            "tags": [],
            "needs_background": "light"
          }
        }
      ]
    },
    {
      "cell_type": "code",
      "metadata": {
        "colab": {
          "base_uri": "https://localhost:8080/",
          "height": 446
        },
        "id": "CQOPQbj_PomC",
        "outputId": "4476590b-a52c-40c9-f350-0790f099bad8"
      },
      "source": [
        "plt.figure(figsize=(14,7))\n",
        "plt.bar(correlation.index,correlation.values) "
      ],
      "execution_count": 70,
      "outputs": [
        {
          "output_type": "execute_result",
          "data": {
            "text/plain": [
              "<BarContainer object of 33 artists>"
            ]
          },
          "metadata": {
            "tags": []
          },
          "execution_count": 70
        },
        {
          "output_type": "display_data",
          "data": {
            "image/png": "[encoded data removed]",
            "text/plain": [
              "<Figure size 1008x504 with 1 Axes>"
            ]
          },
          "metadata": {
            "tags": [],
            "needs_background": "light"
          }
        }
      ]
    },
    {
      "cell_type": "markdown",
      "metadata": {
        "id": "Xs3-kR5IGZuE"
      },
      "source": [
        "### Drop observations which have any NULL value"
      ]
    },
    {
      "cell_type": "code",
      "metadata": {
        "id": "kIl7T1tyGZuE",
        "colab": {
          "base_uri": "https://localhost:8080/"
        },
        "outputId": "564e6c0f-cb15-4c00-ecec-a5e8bf704155"
      },
      "source": [
        "df.shape"
      ],
      "execution_count": null,
      "outputs": [
        {
          "output_type": "execute_result",
          "data": {
            "text/plain": [
              "(5266, 33)"
            ]
          },
          "metadata": {
            "tags": []
          },
          "execution_count": 142
        }
      ]
    },
    {
      "cell_type": "code",
      "metadata": {
        "id": "63Hz5HlFZQxq"
      },
      "source": [
        "df_target = df.target"
      ],
      "execution_count": null,
      "outputs": []
    },
    {
      "cell_type": "code",
      "metadata": {
        "id": "BxSnKZJQZD4F"
      },
      "source": [
        "df.dropna(inplace=True)"
      ],
      "execution_count": null,
      "outputs": []
    },
    {
      "cell_type": "code",
      "metadata": {
        "colab": {
          "base_uri": "https://localhost:8080/"
        },
        "id": "Yg63_OOiZory",
        "outputId": "4b8bea56-e9ee-433d-9377-a199437f60a6"
      },
      "source": [
        "df.shape"
      ],
      "execution_count": null,
      "outputs": [
        {
          "output_type": "execute_result",
          "data": {
            "text/plain": [
              "(5253, 33)"
            ]
          },
          "metadata": {
            "tags": []
          },
          "execution_count": 147
        }
      ]
    },
    {
      "cell_type": "code",
      "metadata": {
        "colab": {
          "base_uri": "https://localhost:8080/"
        },
        "id": "XkDpOMJ8Z0Oy",
        "outputId": "16ce0f44-33e3-4cfd-9abd-19182ec5b51f"
      },
      "source": [
        "5266 - 5253"
      ],
      "execution_count": null,
      "outputs": [
        {
          "output_type": "execute_result",
          "data": {
            "text/plain": [
              "13"
            ]
          },
          "metadata": {
            "tags": []
          },
          "execution_count": 149
        }
      ]
    },
    {
      "cell_type": "code",
      "metadata": {
        "id": "pP8Pqcd9GZuF"
      },
      "source": [
        "df = df.dropna()"
      ],
      "execution_count": null,
      "outputs": []
    },
    {
      "cell_type": "code",
      "metadata": {
        "id": "7Npn6F22GZuG",
        "colab": {
          "base_uri": "https://localhost:8080/"
        },
        "outputId": "68e97b0f-911f-48bc-b87d-96b3fa41760a"
      },
      "source": [
        "df.shape"
      ],
      "execution_count": null,
      "outputs": [
        {
          "output_type": "execute_result",
          "data": {
            "text/plain": [
              "(5253, 33)"
            ]
          },
          "metadata": {
            "tags": []
          },
          "execution_count": 106
        }
      ]
    },
    {
      "cell_type": "markdown",
      "metadata": {
        "id": "gnChFKD7GZuH"
      },
      "source": [
        "### Splitting data into train, validation and test"
      ]
    },
    {
      "cell_type": "code",
      "metadata": {
        "id": "ciFW5CemGZuH"
      },
      "source": [
        "def temporal_splitting(data,date1,date2,date3):\n",
        "    train=data.loc[(data.index >= date1) & (data.index < date2)]\n",
        "    val=data.loc[(data.index >= date2) & (data.index < date3),:]\n",
        "    test=data.loc[data.index >= date3]\n",
        "    \n",
        "    return train, val, test"
      ],
      "execution_count": null,
      "outputs": []
    },
    {
      "cell_type": "code",
      "metadata": {
        "id": "wiwm5dKCGZuI"
      },
      "source": [
        "train, val,test=temporal_splitting(df,'2014-01-01','2019-01-01','2020-01-01')"
      ],
      "execution_count": null,
      "outputs": []
    },
    {
      "cell_type": "markdown",
      "metadata": {
        "id": "7z0NObtiGZuJ"
      },
      "source": [
        "### Obtaining the distribution of the three datasets : Train, Validation and Test"
      ]
    },
    {
      "cell_type": "code",
      "metadata": {
        "id": "mUbaYmsAGZuJ",
        "colab": {
          "base_uri": "https://localhost:8080/"
        },
        "outputId": "9a3cd691-c0f8-4762-a4de-a73341baa7ff"
      },
      "source": [
        "train.shape,val.shape,test.shape"
      ],
      "execution_count": null,
      "outputs": [
        {
          "output_type": "execute_result",
          "data": {
            "text/plain": [
              "((1221, 33), (241, 33), (334, 33))"
            ]
          },
          "metadata": {
            "tags": []
          },
          "execution_count": 109
        }
      ]
    },
    {
      "cell_type": "markdown",
      "metadata": {
        "id": "tYDoPFhuGZuJ"
      },
      "source": [
        "### Dropping variables which we don't want to be part of model variables"
      ]
    },
    {
      "cell_type": "code",
      "metadata": {
        "id": "YW98adkTGZuK"
      },
      "source": [
        "def my_var_columns(data,cols_to_remove):\n",
        "    vars__ = list(data.columns[~data.columns.isin(cols_to_remove)])\n",
        "    return vars__"
      ],
      "execution_count": null,
      "outputs": []
    },
    {
      "cell_type": "code",
      "metadata": {
        "id": "ooMEL4xQGZuL",
        "colab": {
          "base_uri": "https://localhost:8080/"
        },
        "outputId": "47916806-ddb1-478f-fe6d-ddca891410af"
      },
      "source": [
        "df.columns"
      ],
      "execution_count": null,
      "outputs": [
        {
          "output_type": "execute_result",
          "data": {
            "text/plain": [
              "Index(['Open', 'High', 'Low', 'Close', 'target', 'High_lag_5', 'High_lag_6',\n",
              "       'High_lag_7', 'High_lag_8', 'High_lag_10', 'High_lag_12', 'Low_lag_5',\n",
              "       'Low_lag_6', 'Low_lag_7', 'Low_lag_8', 'Low_lag_10', 'Low_lag_12',\n",
              "       'Open_lag_5', 'Open_lag_6', 'Open_lag_7', 'Open_lag_8', 'Open_lag_10',\n",
              "       'Open_lag_12', 'Close_lag_5', 'Close_lag_6', 'Close_lag_7',\n",
              "       'Close_lag_8', 'Close_lag_10', 'Close_lag_12', 'High_lag_1',\n",
              "       'Low_lag_1', 'Open_lag_1', 'Close_lag_1'],\n",
              "      dtype='object')"
            ]
          },
          "metadata": {
            "tags": []
          },
          "execution_count": 111
        }
      ]
    },
    {
      "cell_type": "code",
      "metadata": {
        "id": "QGCYB4vyGZuL"
      },
      "source": [
        "DV='target'\n",
        "\n",
        "# Drop columns which are not required\n",
        "cols_to_remove=[DV,'Open', 'High', 'Low', 'Close', 'target']"
      ],
      "execution_count": null,
      "outputs": []
    },
    {
      "cell_type": "code",
      "metadata": {
        "id": "iKuov1PRGZuM"
      },
      "source": [
        "train_cols = my_var_columns(df,cols_to_remove)"
      ],
      "execution_count": null,
      "outputs": []
    },
    {
      "cell_type": "markdown",
      "metadata": {
        "id": "ibEFvhu2GZuM"
      },
      "source": [
        "### Final set of training variables"
      ]
    },
    {
      "cell_type": "code",
      "metadata": {
        "scrolled": true,
        "id": "odFeeCGiGZuN",
        "colab": {
          "base_uri": "https://localhost:8080/"
        },
        "outputId": "470d4bfb-4082-404d-ccc4-8cdc61bfbfc6"
      },
      "source": [
        "train_cols"
      ],
      "execution_count": null,
      "outputs": [
        {
          "output_type": "execute_result",
          "data": {
            "text/plain": [
              "['High_lag_5',\n",
              " 'High_lag_6',\n",
              " 'High_lag_7',\n",
              " 'High_lag_8',\n",
              " 'High_lag_10',\n",
              " 'High_lag_12',\n",
              " 'Low_lag_5',\n",
              " 'Low_lag_6',\n",
              " 'Low_lag_7',\n",
              " 'Low_lag_8',\n",
              " 'Low_lag_10',\n",
              " 'Low_lag_12',\n",
              " 'Open_lag_5',\n",
              " 'Open_lag_6',\n",
              " 'Open_lag_7',\n",
              " 'Open_lag_8',\n",
              " 'Open_lag_10',\n",
              " 'Open_lag_12',\n",
              " 'Close_lag_5',\n",
              " 'Close_lag_6',\n",
              " 'Close_lag_7',\n",
              " 'Close_lag_8',\n",
              " 'Close_lag_10',\n",
              " 'Close_lag_12',\n",
              " 'High_lag_1',\n",
              " 'Low_lag_1',\n",
              " 'Open_lag_1',\n",
              " 'Close_lag_1']"
            ]
          },
          "metadata": {
            "tags": []
          },
          "execution_count": 114
        }
      ]
    },
    {
      "cell_type": "markdown",
      "metadata": {
        "id": "_09YovLwGZuN"
      },
      "source": [
        "### Defining our training data consisting of independent variables and the dependent variable"
      ]
    },
    {
      "cell_type": "code",
      "metadata": {
        "id": "Ck1hOWI4GZuN"
      },
      "source": [
        "X_train=train[train_cols]\n",
        "X_val=val[train_cols]\n",
        "X_test=test[train_cols]\n",
        "\n",
        "Y_train=train[DV]\n",
        "Y_val=val[DV]\n",
        "Y_test=test[DV]"
      ],
      "execution_count": null,
      "outputs": []
    },
    {
      "cell_type": "code",
      "metadata": {
        "id": "bHEg_CKeGZuO",
        "colab": {
          "base_uri": "https://localhost:8080/",
          "height": 329
        },
        "outputId": "0c976140-1cf2-418e-8113-01029ad35e65"
      },
      "source": [
        "X_train.tail()"
      ],
      "execution_count": null,
      "outputs": [
        {
          "output_type": "execute_result",
          "data": {
            "text/html": [
              "<div>\n",
              "<style scoped>\n",
              "    .dataframe tbody tr th:only-of-type {\n",
              "        vertical-align: middle;\n",
              "    }\n",
              "\n",
              "    .dataframe tbody tr th {\n",
              "        vertical-align: top;\n",
              "    }\n",
              "\n",
              "    .dataframe thead th {\n",
              "        text-align: right;\n",
              "    }\n",
              "</style>\n",
              "<table border=\"1\" class=\"dataframe\">\n",
              "  <thead>\n",
              "    <tr style=\"text-align: right;\">\n",
              "      <th></th>\n",
              "      <th>High_lag_5</th>\n",
              "      <th>High_lag_6</th>\n",
              "      <th>High_lag_7</th>\n",
              "      <th>High_lag_8</th>\n",
              "      <th>High_lag_10</th>\n",
              "      <th>High_lag_12</th>\n",
              "      <th>Low_lag_5</th>\n",
              "      <th>Low_lag_6</th>\n",
              "      <th>Low_lag_7</th>\n",
              "      <th>Low_lag_8</th>\n",
              "      <th>Low_lag_10</th>\n",
              "      <th>Low_lag_12</th>\n",
              "      <th>Open_lag_5</th>\n",
              "      <th>Open_lag_6</th>\n",
              "      <th>Open_lag_7</th>\n",
              "      <th>Open_lag_8</th>\n",
              "      <th>Open_lag_10</th>\n",
              "      <th>Open_lag_12</th>\n",
              "      <th>Close_lag_5</th>\n",
              "      <th>Close_lag_6</th>\n",
              "      <th>Close_lag_7</th>\n",
              "      <th>Close_lag_8</th>\n",
              "      <th>Close_lag_10</th>\n",
              "      <th>Close_lag_12</th>\n",
              "      <th>High_lag_1</th>\n",
              "      <th>Low_lag_1</th>\n",
              "      <th>Open_lag_1</th>\n",
              "      <th>Close_lag_1</th>\n",
              "    </tr>\n",
              "    <tr>\n",
              "      <th>Date</th>\n",
              "      <th></th>\n",
              "      <th></th>\n",
              "      <th></th>\n",
              "      <th></th>\n",
              "      <th></th>\n",
              "      <th></th>\n",
              "      <th></th>\n",
              "      <th></th>\n",
              "      <th></th>\n",
              "      <th></th>\n",
              "      <th></th>\n",
              "      <th></th>\n",
              "      <th></th>\n",
              "      <th></th>\n",
              "      <th></th>\n",
              "      <th></th>\n",
              "      <th></th>\n",
              "      <th></th>\n",
              "      <th></th>\n",
              "      <th></th>\n",
              "      <th></th>\n",
              "      <th></th>\n",
              "      <th></th>\n",
              "      <th></th>\n",
              "      <th></th>\n",
              "      <th></th>\n",
              "      <th></th>\n",
              "      <th></th>\n",
              "    </tr>\n",
              "  </thead>\n",
              "  <tbody>\n",
              "    <tr>\n",
              "      <th>2018-12-24</th>\n",
              "      <td>10900.349609</td>\n",
              "      <td>10815.750000</td>\n",
              "      <td>10838.599609</td>\n",
              "      <td>10752.200195</td>\n",
              "      <td>10558.849609</td>\n",
              "      <td>10722.650391</td>\n",
              "      <td>10844.849609</td>\n",
              "      <td>10752.099609</td>\n",
              "      <td>10749.500000</td>\n",
              "      <td>10560.799805</td>\n",
              "      <td>10474.950195</td>\n",
              "      <td>10588.250000</td>\n",
              "      <td>10853.200195</td>\n",
              "      <td>10784.500000</td>\n",
              "      <td>10810.750000</td>\n",
              "      <td>10591.000000</td>\n",
              "      <td>10508.700195</td>\n",
              "      <td>10718.150391</td>\n",
              "      <td>10888.349609</td>\n",
              "      <td>10805.450195</td>\n",
              "      <td>10791.549805</td>\n",
              "      <td>10737.599609</td>\n",
              "      <td>10488.450195</td>\n",
              "      <td>10601.150391</td>\n",
              "      <td>10963.650391</td>\n",
              "      <td>10738.650391</td>\n",
              "      <td>10944.250000</td>\n",
              "      <td>10754.000000</td>\n",
              "    </tr>\n",
              "    <tr>\n",
              "      <th>2018-12-26</th>\n",
              "      <td>10915.400391</td>\n",
              "      <td>10900.349609</td>\n",
              "      <td>10815.750000</td>\n",
              "      <td>10838.599609</td>\n",
              "      <td>10567.150391</td>\n",
              "      <td>10704.549805</td>\n",
              "      <td>10819.099609</td>\n",
              "      <td>10844.849609</td>\n",
              "      <td>10752.099609</td>\n",
              "      <td>10749.500000</td>\n",
              "      <td>10333.849609</td>\n",
              "      <td>10599.349609</td>\n",
              "      <td>10850.900391</td>\n",
              "      <td>10853.200195</td>\n",
              "      <td>10784.500000</td>\n",
              "      <td>10810.750000</td>\n",
              "      <td>10350.049805</td>\n",
              "      <td>10644.799805</td>\n",
              "      <td>10908.700195</td>\n",
              "      <td>10888.349609</td>\n",
              "      <td>10805.450195</td>\n",
              "      <td>10791.549805</td>\n",
              "      <td>10549.150391</td>\n",
              "      <td>10693.700195</td>\n",
              "      <td>10782.299805</td>\n",
              "      <td>10649.250000</td>\n",
              "      <td>10780.900391</td>\n",
              "      <td>10663.500000</td>\n",
              "    </tr>\n",
              "    <tr>\n",
              "      <th>2018-12-27</th>\n",
              "      <td>10985.150391</td>\n",
              "      <td>10915.400391</td>\n",
              "      <td>10900.349609</td>\n",
              "      <td>10815.750000</td>\n",
              "      <td>10752.200195</td>\n",
              "      <td>10558.849609</td>\n",
              "      <td>10928.000000</td>\n",
              "      <td>10819.099609</td>\n",
              "      <td>10844.849609</td>\n",
              "      <td>10752.099609</td>\n",
              "      <td>10560.799805</td>\n",
              "      <td>10474.950195</td>\n",
              "      <td>10930.549805</td>\n",
              "      <td>10850.900391</td>\n",
              "      <td>10853.200195</td>\n",
              "      <td>10784.500000</td>\n",
              "      <td>10591.000000</td>\n",
              "      <td>10508.700195</td>\n",
              "      <td>10967.299805</td>\n",
              "      <td>10908.700195</td>\n",
              "      <td>10888.349609</td>\n",
              "      <td>10805.450195</td>\n",
              "      <td>10737.599609</td>\n",
              "      <td>10488.450195</td>\n",
              "      <td>10747.500000</td>\n",
              "      <td>10534.549805</td>\n",
              "      <td>10635.450195</td>\n",
              "      <td>10729.849609</td>\n",
              "    </tr>\n",
              "    <tr>\n",
              "      <th>2018-12-28</th>\n",
              "      <td>10962.549805</td>\n",
              "      <td>10985.150391</td>\n",
              "      <td>10915.400391</td>\n",
              "      <td>10900.349609</td>\n",
              "      <td>10838.599609</td>\n",
              "      <td>10567.150391</td>\n",
              "      <td>10880.049805</td>\n",
              "      <td>10928.000000</td>\n",
              "      <td>10819.099609</td>\n",
              "      <td>10844.849609</td>\n",
              "      <td>10749.500000</td>\n",
              "      <td>10333.849609</td>\n",
              "      <td>10885.200195</td>\n",
              "      <td>10930.549805</td>\n",
              "      <td>10850.900391</td>\n",
              "      <td>10853.200195</td>\n",
              "      <td>10810.750000</td>\n",
              "      <td>10350.049805</td>\n",
              "      <td>10951.700195</td>\n",
              "      <td>10967.299805</td>\n",
              "      <td>10908.700195</td>\n",
              "      <td>10888.349609</td>\n",
              "      <td>10791.549805</td>\n",
              "      <td>10549.150391</td>\n",
              "      <td>10834.200195</td>\n",
              "      <td>10764.450195</td>\n",
              "      <td>10817.900391</td>\n",
              "      <td>10779.799805</td>\n",
              "    </tr>\n",
              "    <tr>\n",
              "      <th>2018-12-31</th>\n",
              "      <td>10963.650391</td>\n",
              "      <td>10962.549805</td>\n",
              "      <td>10985.150391</td>\n",
              "      <td>10915.400391</td>\n",
              "      <td>10815.750000</td>\n",
              "      <td>10752.200195</td>\n",
              "      <td>10738.650391</td>\n",
              "      <td>10880.049805</td>\n",
              "      <td>10928.000000</td>\n",
              "      <td>10819.099609</td>\n",
              "      <td>10752.099609</td>\n",
              "      <td>10560.799805</td>\n",
              "      <td>10944.250000</td>\n",
              "      <td>10885.200195</td>\n",
              "      <td>10930.549805</td>\n",
              "      <td>10850.900391</td>\n",
              "      <td>10784.500000</td>\n",
              "      <td>10591.000000</td>\n",
              "      <td>10754.000000</td>\n",
              "      <td>10951.700195</td>\n",
              "      <td>10967.299805</td>\n",
              "      <td>10908.700195</td>\n",
              "      <td>10805.450195</td>\n",
              "      <td>10737.599609</td>\n",
              "      <td>10893.599609</td>\n",
              "      <td>10817.150391</td>\n",
              "      <td>10820.950195</td>\n",
              "      <td>10859.900391</td>\n",
              "    </tr>\n",
              "  </tbody>\n",
              "</table>\n",
              "</div>"
            ],
            "text/plain": [
              "              High_lag_5    High_lag_6  ...    Open_lag_1   Close_lag_1\n",
              "Date                                    ...                            \n",
              "2018-12-24  10900.349609  10815.750000  ...  10944.250000  10754.000000\n",
              "2018-12-26  10915.400391  10900.349609  ...  10780.900391  10663.500000\n",
              "2018-12-27  10985.150391  10915.400391  ...  10635.450195  10729.849609\n",
              "2018-12-28  10962.549805  10985.150391  ...  10817.900391  10779.799805\n",
              "2018-12-31  10963.650391  10962.549805  ...  10820.950195  10859.900391\n",
              "\n",
              "[5 rows x 28 columns]"
            ]
          },
          "metadata": {
            "tags": []
          },
          "execution_count": 116
        }
      ]
    },
    {
      "cell_type": "markdown",
      "metadata": {
        "id": "ABMD_sucGZuR"
      },
      "source": [
        "### Obtaining the distribution of classes of dependent variable across three datasets"
      ]
    },
    {
      "cell_type": "code",
      "metadata": {
        "id": "h7lLPNPrGZuS",
        "colab": {
          "base_uri": "https://localhost:8080/"
        },
        "outputId": "786aec38-7b53-497e-fec1-d3aeda443677"
      },
      "source": [
        "print(Y_train.value_counts())\n",
        "print(Y_val.value_counts())\n",
        "print(Y_test.value_counts())"
      ],
      "execution_count": null,
      "outputs": [
        {
          "output_type": "stream",
          "text": [
            "1.0    656\n",
            "0.0    565\n",
            "Name: target, dtype: int64\n",
            "1.0    128\n",
            "0.0    113\n",
            "Name: target, dtype: int64\n",
            "1.0    193\n",
            "0.0    141\n",
            "Name: target, dtype: int64\n"
          ],
          "name": "stdout"
        }
      ]
    },
    {
      "cell_type": "markdown",
      "metadata": {
        "id": "PSSEYzEiGZuS"
      },
      "source": [
        "\n",
        "### Training LGB classifier"
      ]
    },
    {
      "cell_type": "code",
      "metadata": {
        "colab": {
          "base_uri": "https://localhost:8080/"
        },
        "id": "AHcvjtAwVy4d",
        "outputId": "bf6e8f1e-6b1c-4463-9f7e-d0fd1b2eba3e"
      },
      "source": [
        "!pip install bayesian-optimization"
      ],
      "execution_count": null,
      "outputs": [
        {
          "output_type": "stream",
          "text": [
            "Collecting bayesian-optimization\n",
            "  Downloading https://files.pythonhosted.org/packages/bb/7a/fd8059a3881d3ab37ac8f72f56b73937a14e8bb14a9733e68cc8b17dbe3c/bayesian-optimization-1.2.0.tar.gz\n",
            "Requirement already satisfied: numpy>=1.9.0 in /usr/local/lib/python3.7/dist-packages (from bayesian-optimization) (1.19.5)\n",
            "Requirement already satisfied: scipy>=0.14.0 in /usr/local/lib/python3.7/dist-packages (from bayesian-optimization) (1.4.1)\n",
            "Requirement already satisfied: scikit-learn>=0.18.0 in /usr/local/lib/python3.7/dist-packages (from bayesian-optimization) (0.22.2.post1)\n",
            "Requirement already satisfied: joblib>=0.11 in /usr/local/lib/python3.7/dist-packages (from scikit-learn>=0.18.0->bayesian-optimization) (1.0.1)\n",
            "Building wheels for collected packages: bayesian-optimization\n",
            "  Building wheel for bayesian-optimization (setup.py) ... \u001b[?25l\u001b[?25hdone\n",
            "  Created wheel for bayesian-optimization: filename=bayesian_optimization-1.2.0-cp37-none-any.whl size=11687 sha256=24d55f074b20160952ce92efc2e073417b1dd7612268cd057c71e9c4a84273a1\n",
            "  Stored in directory: /root/.cache/pip/wheels/5a/56/ae/e0e3c1fc1954dc3ec712e2df547235ed072b448094d8f94aec\n",
            "Successfully built bayesian-optimization\n",
            "Installing collected packages: bayesian-optimization\n",
            "Successfully installed bayesian-optimization-1.2.0\n"
          ],
          "name": "stdout"
        }
      ]
    },
    {
      "cell_type": "code",
      "metadata": {
        "id": "iTseGcVoGZuT"
      },
      "source": [
        "import warnings\n",
        "warnings.filterwarnings('ignore')\n",
        "import numpy as np\n",
        "import pandas as pd\n",
        "from datetime import datetime\n",
        "from sklearn.model_selection import RandomizedSearchCV, GridSearchCV\n",
        "from sklearn.metrics import roc_auc_score\n",
        "from xgboost import XGBClassifier\n",
        "from sklearn.model_selection import TimeSeriesSplit\n",
        "\n",
        "import xgboost as xgb\n",
        "import lightgbm as lgb\n",
        "import bayes_opt as bayso\n",
        "from sklearn.metrics import accuracy_score,confusion_matrix"
      ],
      "execution_count": null,
      "outputs": []
    },
    {
      "cell_type": "code",
      "metadata": {
        "id": "V--hUE3FGZuT"
      },
      "source": [
        "def lgbcv1(min_child_weight,\n",
        "           colsample_bytree,\n",
        "           max_depth,\n",
        "           subsample,\n",
        "           min_gain_to_split,\n",
        "           reg_alpha,\n",
        "           reg_lambda):\n",
        "\n",
        "    params = {\n",
        "        'objective': 'binary',\n",
        "        'metric': 'auc',\n",
        "        'boosting': 'gbdt',\n",
        "        'random_state' : 501, # Updated from 'seed'\n",
        "        'n_estimators' : 200,\n",
        "        'learning_rate': 0.1,\n",
        "        'early_stopping_round' : 10,\n",
        "        'verbose': 20,\n",
        "        'num_leaves': 65,\n",
        "        'min_data_in_leaf': 500,\n",
        "        'bagging_freq': 1,\n",
        "        'bagging_seed': RS,\n",
        "        'feature_fraction_seed': RS,\n",
        "        'max_bin': 50,\n",
        "        'min_child_weight': int(min_child_weight),\n",
        "        'colsample_bytree': max(min(colsample_bytree, 1), 0),\n",
        "        'max_depth': int(max_depth),\n",
        "        'subsample': max(min(subsample, 1), 0),\n",
        "        'min_gain_to_split': max(min_gain_to_split,0),\n",
        "        'reg_alpha': max(reg_alpha,0),\n",
        "        'reg_lambda': max(reg_lambda,0)\n",
        "    }\n",
        "\n",
        "\n",
        "    cv_result = lgb.cv(params, lgtrain, nfold=5, seed=0, verbose_eval =200,stratified=False,shuffle=False)\n",
        "\n",
        "    return max(cv_result['auc-mean'])"
      ],
      "execution_count": null,
      "outputs": []
    },
    {
      "cell_type": "code",
      "metadata": {
        "id": "VflCwTrjGZuU"
      },
      "source": [
        "def prepare_data():\n",
        "    lgtrain = lgb.Dataset(X_train, label=Y_train)\n",
        "\n",
        "    return lgtrain"
      ],
      "execution_count": null,
      "outputs": []
    },
    {
      "cell_type": "code",
      "metadata": {
        "scrolled": true,
        "id": "VkzNADFFGZuU",
        "colab": {
          "base_uri": "https://localhost:8080/"
        },
        "outputId": "91ddc300-b9ff-4883-f6fc-5358238c9580"
      },
      "source": [
        "if __name__ == '__main__':\n",
        "    lgtrain =  prepare_data()\n",
        "    random_state = 2020\n",
        "    init_points = 30\n",
        "    numitems=30\n",
        "    RS = 20200801\n",
        "    np.random.seed(RS)\n",
        "    lgbo = bayso.BayesianOptimization(lgbcv1,\n",
        "                                      {'min_child_weight': (300, 500),\n",
        "                                      'colsample_bytree': (0.4, 0.7),\n",
        "                                      'max_depth': (5, 7),\n",
        "                                      'subsample': (0.3, 1.0),\n",
        "                                      'min_gain_to_split': (0, 20),\n",
        "                                      'reg_alpha': (0, 20),\n",
        "                                      'reg_lambda': (0, 50)})\n",
        "    \n",
        "    lgbo.maximize(init_points=init_points, n_iter=numitems)"
      ],
      "execution_count": null,
      "outputs": [
        {
          "output_type": "stream",
          "text": [
            "|   iter    |  target   | colsam... | max_depth | min_ch... | min_ga... | reg_alpha | reg_la... | subsample |\n",
            "-------------------------------------------------------------------------------------------------------------\n",
            "| \u001b[0m 1       \u001b[0m | \u001b[0m 0.5     \u001b[0m | \u001b[0m 0.5712  \u001b[0m | \u001b[0m 6.99    \u001b[0m | \u001b[0m 449.8   \u001b[0m | \u001b[0m 19.07   \u001b[0m | \u001b[0m 13.69   \u001b[0m | \u001b[0m 27.14   \u001b[0m | \u001b[0m 0.6788  \u001b[0m |\n",
            "| \u001b[0m 2       \u001b[0m | \u001b[0m 0.5     \u001b[0m | \u001b[0m 0.5386  \u001b[0m | \u001b[0m 5.342   \u001b[0m | \u001b[0m 343.3   \u001b[0m | \u001b[0m 14.18   \u001b[0m | \u001b[0m 4.584   \u001b[0m | \u001b[0m 25.93   \u001b[0m | \u001b[0m 0.399   \u001b[0m |\n",
            "| \u001b[0m 3       \u001b[0m | \u001b[0m 0.5     \u001b[0m | \u001b[0m 0.4996  \u001b[0m | \u001b[0m 6.198   \u001b[0m | \u001b[0m 357.9   \u001b[0m | \u001b[0m 17.98   \u001b[0m | \u001b[0m 10.91   \u001b[0m | \u001b[0m 16.76   \u001b[0m | \u001b[0m 0.4864  \u001b[0m |\n",
            "| \u001b[0m 4       \u001b[0m | \u001b[0m 0.5     \u001b[0m | \u001b[0m 0.6239  \u001b[0m | \u001b[0m 5.557   \u001b[0m | \u001b[0m 334.0   \u001b[0m | \u001b[0m 4.183   \u001b[0m | \u001b[0m 9.043   \u001b[0m | \u001b[0m 7.132   \u001b[0m | \u001b[0m 0.714   \u001b[0m |\n",
            "| \u001b[0m 5       \u001b[0m | \u001b[0m 0.5     \u001b[0m | \u001b[0m 0.5628  \u001b[0m | \u001b[0m 6.693   \u001b[0m | \u001b[0m 376.7   \u001b[0m | \u001b[0m 18.25   \u001b[0m | \u001b[0m 8.009   \u001b[0m | \u001b[0m 41.06   \u001b[0m | \u001b[0m 0.6768  \u001b[0m |\n",
            "| \u001b[0m 6       \u001b[0m | \u001b[0m 0.5     \u001b[0m | \u001b[0m 0.5174  \u001b[0m | \u001b[0m 6.675   \u001b[0m | \u001b[0m 340.9   \u001b[0m | \u001b[0m 16.8    \u001b[0m | \u001b[0m 9.759   \u001b[0m | \u001b[0m 11.86   \u001b[0m | \u001b[0m 0.7385  \u001b[0m |\n",
            "| \u001b[0m 7       \u001b[0m | \u001b[0m 0.5     \u001b[0m | \u001b[0m 0.6581  \u001b[0m | \u001b[0m 6.754   \u001b[0m | \u001b[0m 378.2   \u001b[0m | \u001b[0m 17.39   \u001b[0m | \u001b[0m 5.649   \u001b[0m | \u001b[0m 3.613   \u001b[0m | \u001b[0m 0.439   \u001b[0m |\n",
            "| \u001b[0m 8       \u001b[0m | \u001b[0m 0.5     \u001b[0m | \u001b[0m 0.6476  \u001b[0m | \u001b[0m 6.647   \u001b[0m | \u001b[0m 400.3   \u001b[0m | \u001b[0m 18.92   \u001b[0m | \u001b[0m 1.046   \u001b[0m | \u001b[0m 26.83   \u001b[0m | \u001b[0m 0.6164  \u001b[0m |\n",
            "| \u001b[0m 9       \u001b[0m | \u001b[0m 0.5     \u001b[0m | \u001b[0m 0.6319  \u001b[0m | \u001b[0m 6.405   \u001b[0m | \u001b[0m 445.2   \u001b[0m | \u001b[0m 7.255   \u001b[0m | \u001b[0m 2.333   \u001b[0m | \u001b[0m 0.0971  \u001b[0m | \u001b[0m 0.3633  \u001b[0m |\n",
            "| \u001b[0m 10      \u001b[0m | \u001b[0m 0.5     \u001b[0m | \u001b[0m 0.6449  \u001b[0m | \u001b[0m 5.453   \u001b[0m | \u001b[0m 405.7   \u001b[0m | \u001b[0m 10.27   \u001b[0m | \u001b[0m 13.32   \u001b[0m | \u001b[0m 28.92   \u001b[0m | \u001b[0m 0.489   \u001b[0m |\n",
            "| \u001b[0m 11      \u001b[0m | \u001b[0m 0.5     \u001b[0m | \u001b[0m 0.4662  \u001b[0m | \u001b[0m 5.359   \u001b[0m | \u001b[0m 407.0   \u001b[0m | \u001b[0m 19.08   \u001b[0m | \u001b[0m 19.6    \u001b[0m | \u001b[0m 20.06   \u001b[0m | \u001b[0m 0.5468  \u001b[0m |\n",
            "| \u001b[0m 12      \u001b[0m | \u001b[0m 0.5     \u001b[0m | \u001b[0m 0.5864  \u001b[0m | \u001b[0m 5.613   \u001b[0m | \u001b[0m 413.0   \u001b[0m | \u001b[0m 2.993   \u001b[0m | \u001b[0m 15.81   \u001b[0m | \u001b[0m 14.92   \u001b[0m | \u001b[0m 0.9572  \u001b[0m |\n",
            "| \u001b[0m 13      \u001b[0m | \u001b[0m 0.5     \u001b[0m | \u001b[0m 0.4207  \u001b[0m | \u001b[0m 6.827   \u001b[0m | \u001b[0m 442.7   \u001b[0m | \u001b[0m 19.47   \u001b[0m | \u001b[0m 9.639   \u001b[0m | \u001b[0m 25.3    \u001b[0m | \u001b[0m 0.5452  \u001b[0m |\n",
            "| \u001b[0m 14      \u001b[0m | \u001b[0m 0.5     \u001b[0m | \u001b[0m 0.4867  \u001b[0m | \u001b[0m 6.558   \u001b[0m | \u001b[0m 484.9   \u001b[0m | \u001b[0m 5.421   \u001b[0m | \u001b[0m 19.22   \u001b[0m | \u001b[0m 34.45   \u001b[0m | \u001b[0m 0.5351  \u001b[0m |\n",
            "| \u001b[0m 15      \u001b[0m | \u001b[0m 0.5     \u001b[0m | \u001b[0m 0.6008  \u001b[0m | \u001b[0m 5.974   \u001b[0m | \u001b[0m 438.0   \u001b[0m | \u001b[0m 7.774   \u001b[0m | \u001b[0m 2.448   \u001b[0m | \u001b[0m 26.45   \u001b[0m | \u001b[0m 0.4358  \u001b[0m |\n",
            "| \u001b[0m 16      \u001b[0m | \u001b[0m 0.5     \u001b[0m | \u001b[0m 0.6044  \u001b[0m | \u001b[0m 6.682   \u001b[0m | \u001b[0m 388.8   \u001b[0m | \u001b[0m 8.432   \u001b[0m | \u001b[0m 1.181   \u001b[0m | \u001b[0m 1.544   \u001b[0m | \u001b[0m 0.4935  \u001b[0m |\n",
            "| \u001b[0m 17      \u001b[0m | \u001b[0m 0.5     \u001b[0m | \u001b[0m 0.4673  \u001b[0m | \u001b[0m 5.293   \u001b[0m | \u001b[0m 345.5   \u001b[0m | \u001b[0m 9.392   \u001b[0m | \u001b[0m 7.63    \u001b[0m | \u001b[0m 44.18   \u001b[0m | \u001b[0m 0.6683  \u001b[0m |\n",
            "| \u001b[0m 18      \u001b[0m | \u001b[0m 0.5     \u001b[0m | \u001b[0m 0.6697  \u001b[0m | \u001b[0m 5.544   \u001b[0m | \u001b[0m 332.6   \u001b[0m | \u001b[0m 15.8    \u001b[0m | \u001b[0m 6.761   \u001b[0m | \u001b[0m 25.48   \u001b[0m | \u001b[0m 0.8174  \u001b[0m |\n",
            "| \u001b[0m 19      \u001b[0m | \u001b[0m 0.5     \u001b[0m | \u001b[0m 0.4262  \u001b[0m | \u001b[0m 6.359   \u001b[0m | \u001b[0m 467.2   \u001b[0m | \u001b[0m 14.64   \u001b[0m | \u001b[0m 7.585   \u001b[0m | \u001b[0m 35.96   \u001b[0m | \u001b[0m 0.7708  \u001b[0m |\n",
            "| \u001b[0m 20      \u001b[0m | \u001b[0m 0.5     \u001b[0m | \u001b[0m 0.4037  \u001b[0m | \u001b[0m 6.297   \u001b[0m | \u001b[0m 459.1   \u001b[0m | \u001b[0m 17.95   \u001b[0m | \u001b[0m 10.87   \u001b[0m | \u001b[0m 45.84   \u001b[0m | \u001b[0m 0.6773  \u001b[0m |\n",
            "| \u001b[0m 21      \u001b[0m | \u001b[0m 0.5     \u001b[0m | \u001b[0m 0.6004  \u001b[0m | \u001b[0m 5.597   \u001b[0m | \u001b[0m 482.3   \u001b[0m | \u001b[0m 7.5     \u001b[0m | \u001b[0m 13.74   \u001b[0m | \u001b[0m 1.975   \u001b[0m | \u001b[0m 0.4853  \u001b[0m |\n",
            "| \u001b[0m 22      \u001b[0m | \u001b[0m 0.5     \u001b[0m | \u001b[0m 0.5272  \u001b[0m | \u001b[0m 5.492   \u001b[0m | \u001b[0m 372.3   \u001b[0m | \u001b[0m 3.216   \u001b[0m | \u001b[0m 5.593   \u001b[0m | \u001b[0m 2.246   \u001b[0m | \u001b[0m 0.3665  \u001b[0m |\n",
            "| \u001b[0m 23      \u001b[0m | \u001b[0m 0.5     \u001b[0m | \u001b[0m 0.4042  \u001b[0m | \u001b[0m 5.391   \u001b[0m | \u001b[0m 410.5   \u001b[0m | \u001b[0m 2.538   \u001b[0m | \u001b[0m 19.0    \u001b[0m | \u001b[0m 5.363   \u001b[0m | \u001b[0m 0.7979  \u001b[0m |\n",
            "| \u001b[0m 24      \u001b[0m | \u001b[0m 0.5     \u001b[0m | \u001b[0m 0.6697  \u001b[0m | \u001b[0m 6.772   \u001b[0m | \u001b[0m 473.1   \u001b[0m | \u001b[0m 12.21   \u001b[0m | \u001b[0m 2.02    \u001b[0m | \u001b[0m 33.25   \u001b[0m | \u001b[0m 0.9345  \u001b[0m |\n",
            "| \u001b[0m 25      \u001b[0m | \u001b[0m 0.5     \u001b[0m | \u001b[0m 0.6115  \u001b[0m | \u001b[0m 5.134   \u001b[0m | \u001b[0m 429.4   \u001b[0m | \u001b[0m 13.45   \u001b[0m | \u001b[0m 18.03   \u001b[0m | \u001b[0m 48.85   \u001b[0m | \u001b[0m 0.7992  \u001b[0m |\n",
            "| \u001b[0m 26      \u001b[0m | \u001b[0m 0.5     \u001b[0m | \u001b[0m 0.461   \u001b[0m | \u001b[0m 5.351   \u001b[0m | \u001b[0m 392.3   \u001b[0m | \u001b[0m 12.06   \u001b[0m | \u001b[0m 19.6    \u001b[0m | \u001b[0m 30.11   \u001b[0m | \u001b[0m 0.5862  \u001b[0m |\n",
            "| \u001b[0m 27      \u001b[0m | \u001b[0m 0.5     \u001b[0m | \u001b[0m 0.4985  \u001b[0m | \u001b[0m 6.034   \u001b[0m | \u001b[0m 439.4   \u001b[0m | \u001b[0m 14.06   \u001b[0m | \u001b[0m 8.06    \u001b[0m | \u001b[0m 20.63   \u001b[0m | \u001b[0m 0.529   \u001b[0m |\n",
            "| \u001b[0m 28      \u001b[0m | \u001b[0m 0.5     \u001b[0m | \u001b[0m 0.6872  \u001b[0m | \u001b[0m 5.968   \u001b[0m | \u001b[0m 452.8   \u001b[0m | \u001b[0m 19.83   \u001b[0m | \u001b[0m 0.7729  \u001b[0m | \u001b[0m 31.64   \u001b[0m | \u001b[0m 0.6398  \u001b[0m |\n",
            "| \u001b[0m 29      \u001b[0m | \u001b[0m 0.5     \u001b[0m | \u001b[0m 0.536   \u001b[0m | \u001b[0m 5.514   \u001b[0m | \u001b[0m 486.8   \u001b[0m | \u001b[0m 14.3    \u001b[0m | \u001b[0m 1.156   \u001b[0m | \u001b[0m 0.2685  \u001b[0m | \u001b[0m 0.3448  \u001b[0m |\n",
            "| \u001b[0m 30      \u001b[0m | \u001b[0m 0.5     \u001b[0m | \u001b[0m 0.4351  \u001b[0m | \u001b[0m 5.656   \u001b[0m | \u001b[0m 400.0   \u001b[0m | \u001b[0m 0.1798  \u001b[0m | \u001b[0m 15.92   \u001b[0m | \u001b[0m 20.09   \u001b[0m | \u001b[0m 0.5428  \u001b[0m |\n",
            "| \u001b[0m 31      \u001b[0m | \u001b[0m 0.5     \u001b[0m | \u001b[0m 0.4106  \u001b[0m | \u001b[0m 5.975   \u001b[0m | \u001b[0m 305.3   \u001b[0m | \u001b[0m 1.813   \u001b[0m | \u001b[0m 0.8515  \u001b[0m | \u001b[0m 49.93   \u001b[0m | \u001b[0m 0.8586  \u001b[0m |\n",
            "| \u001b[0m 32      \u001b[0m | \u001b[0m 0.5     \u001b[0m | \u001b[0m 0.6631  \u001b[0m | \u001b[0m 6.87    \u001b[0m | \u001b[0m 302.0   \u001b[0m | \u001b[0m 2.142   \u001b[0m | \u001b[0m 19.87   \u001b[0m | \u001b[0m 46.29   \u001b[0m | \u001b[0m 0.6725  \u001b[0m |\n",
            "| \u001b[0m 33      \u001b[0m | \u001b[0m 0.5     \u001b[0m | \u001b[0m 0.4753  \u001b[0m | \u001b[0m 6.475   \u001b[0m | \u001b[0m 497.1   \u001b[0m | \u001b[0m 0.01258 \u001b[0m | \u001b[0m 3.204   \u001b[0m | \u001b[0m 48.96   \u001b[0m | \u001b[0m 0.6437  \u001b[0m |\n",
            "| \u001b[0m 34      \u001b[0m | \u001b[0m 0.5     \u001b[0m | \u001b[0m 0.6818  \u001b[0m | \u001b[0m 6.027   \u001b[0m | \u001b[0m 301.9   \u001b[0m | \u001b[0m 18.45   \u001b[0m | \u001b[0m 2.379   \u001b[0m | \u001b[0m 0.056   \u001b[0m | \u001b[0m 0.7015  \u001b[0m |\n",
            "| \u001b[0m 35      \u001b[0m | \u001b[0m 0.5     \u001b[0m | \u001b[0m 0.4864  \u001b[0m | \u001b[0m 5.479   \u001b[0m | \u001b[0m 300.0   \u001b[0m | \u001b[0m 1.788   \u001b[0m | \u001b[0m 18.58   \u001b[0m | \u001b[0m 49.88   \u001b[0m | \u001b[0m 0.7164  \u001b[0m |\n",
            "| \u001b[0m 36      \u001b[0m | \u001b[0m 0.5     \u001b[0m | \u001b[0m 0.5858  \u001b[0m | \u001b[0m 5.888   \u001b[0m | \u001b[0m 302.1   \u001b[0m | \u001b[0m 1.533   \u001b[0m | \u001b[0m 1.722   \u001b[0m | \u001b[0m 0.1178  \u001b[0m | \u001b[0m 0.4999  \u001b[0m |\n",
            "| \u001b[0m 37      \u001b[0m | \u001b[0m 0.5     \u001b[0m | \u001b[0m 0.5673  \u001b[0m | \u001b[0m 5.099   \u001b[0m | \u001b[0m 493.0   \u001b[0m | \u001b[0m 0.4     \u001b[0m | \u001b[0m 19.71   \u001b[0m | \u001b[0m 0.04503 \u001b[0m | \u001b[0m 0.4878  \u001b[0m |\n",
            "| \u001b[0m 38      \u001b[0m | \u001b[0m 0.5     \u001b[0m | \u001b[0m 0.6784  \u001b[0m | \u001b[0m 5.178   \u001b[0m | \u001b[0m 301.5   \u001b[0m | \u001b[0m 0.3848  \u001b[0m | \u001b[0m 0.06104 \u001b[0m | \u001b[0m 49.0    \u001b[0m | \u001b[0m 0.6666  \u001b[0m |\n",
            "| \u001b[0m 39      \u001b[0m | \u001b[0m 0.5     \u001b[0m | \u001b[0m 0.5413  \u001b[0m | \u001b[0m 6.306   \u001b[0m | \u001b[0m 497.4   \u001b[0m | \u001b[0m 0.6344  \u001b[0m | \u001b[0m 1.685   \u001b[0m | \u001b[0m 46.73   \u001b[0m | \u001b[0m 0.3947  \u001b[0m |\n",
            "| \u001b[0m 40      \u001b[0m | \u001b[0m 0.5     \u001b[0m | \u001b[0m 0.4273  \u001b[0m | \u001b[0m 5.23    \u001b[0m | \u001b[0m 497.9   \u001b[0m | \u001b[0m 1.309   \u001b[0m | \u001b[0m 1.323   \u001b[0m | \u001b[0m 49.2    \u001b[0m | \u001b[0m 0.4646  \u001b[0m |\n",
            "| \u001b[0m 41      \u001b[0m | \u001b[0m 0.5     \u001b[0m | \u001b[0m 0.6227  \u001b[0m | \u001b[0m 6.314   \u001b[0m | \u001b[0m 305.4   \u001b[0m | \u001b[0m 19.59   \u001b[0m | \u001b[0m 18.51   \u001b[0m | \u001b[0m 49.21   \u001b[0m | \u001b[0m 0.8505  \u001b[0m |\n",
            "| \u001b[0m 42      \u001b[0m | \u001b[0m 0.5     \u001b[0m | \u001b[0m 0.598   \u001b[0m | \u001b[0m 6.719   \u001b[0m | \u001b[0m 300.1   \u001b[0m | \u001b[0m 1.849   \u001b[0m | \u001b[0m 0.2949  \u001b[0m | \u001b[0m 0.5536  \u001b[0m | \u001b[0m 0.4193  \u001b[0m |\n",
            "| \u001b[0m 43      \u001b[0m | \u001b[0m 0.5     \u001b[0m | \u001b[0m 0.5822  \u001b[0m | \u001b[0m 5.642   \u001b[0m | \u001b[0m 495.2   \u001b[0m | \u001b[0m 0.8618  \u001b[0m | \u001b[0m 19.81   \u001b[0m | \u001b[0m 2.061   \u001b[0m | \u001b[0m 0.9673  \u001b[0m |\n",
            "| \u001b[0m 44      \u001b[0m | \u001b[0m 0.5     \u001b[0m | \u001b[0m 0.5341  \u001b[0m | \u001b[0m 5.353   \u001b[0m | \u001b[0m 305.5   \u001b[0m | \u001b[0m 0.8654  \u001b[0m | \u001b[0m 18.76   \u001b[0m | \u001b[0m 47.98   \u001b[0m | \u001b[0m 0.4711  \u001b[0m |\n",
            "| \u001b[0m 45      \u001b[0m | \u001b[0m 0.5     \u001b[0m | \u001b[0m 0.5429  \u001b[0m | \u001b[0m 6.793   \u001b[0m | \u001b[0m 301.7   \u001b[0m | \u001b[0m 19.78   \u001b[0m | \u001b[0m 19.31   \u001b[0m | \u001b[0m 0.3299  \u001b[0m | \u001b[0m 0.6557  \u001b[0m |\n",
            "| \u001b[0m 46      \u001b[0m | \u001b[0m 0.5     \u001b[0m | \u001b[0m 0.4207  \u001b[0m | \u001b[0m 5.304   \u001b[0m | \u001b[0m 498.9   \u001b[0m | \u001b[0m 19.87   \u001b[0m | \u001b[0m 18.79   \u001b[0m | \u001b[0m 48.6    \u001b[0m | \u001b[0m 0.6807  \u001b[0m |\n",
            "| \u001b[0m 47      \u001b[0m | \u001b[0m 0.5     \u001b[0m | \u001b[0m 0.4172  \u001b[0m | \u001b[0m 5.424   \u001b[0m | \u001b[0m 498.4   \u001b[0m | \u001b[0m 4.094   \u001b[0m | \u001b[0m 19.4    \u001b[0m | \u001b[0m 2.137   \u001b[0m | \u001b[0m 0.8313  \u001b[0m |\n",
            "| \u001b[0m 48      \u001b[0m | \u001b[0m 0.5     \u001b[0m | \u001b[0m 0.5483  \u001b[0m | \u001b[0m 5.646   \u001b[0m | \u001b[0m 497.5   \u001b[0m | \u001b[0m 19.37   \u001b[0m | \u001b[0m 0.3489  \u001b[0m | \u001b[0m 0.04107 \u001b[0m | \u001b[0m 0.5001  \u001b[0m |\n",
            "| \u001b[0m 49      \u001b[0m | \u001b[0m 0.5     \u001b[0m | \u001b[0m 0.6623  \u001b[0m | \u001b[0m 6.972   \u001b[0m | \u001b[0m 301.2   \u001b[0m | \u001b[0m 18.37   \u001b[0m | \u001b[0m 18.8    \u001b[0m | \u001b[0m 1.45    \u001b[0m | \u001b[0m 0.5639  \u001b[0m |\n",
            "| \u001b[0m 50      \u001b[0m | \u001b[0m 0.5     \u001b[0m | \u001b[0m 0.5585  \u001b[0m | \u001b[0m 6.044   \u001b[0m | \u001b[0m 497.2   \u001b[0m | \u001b[0m 19.9    \u001b[0m | \u001b[0m 3.263   \u001b[0m | \u001b[0m 49.57   \u001b[0m | \u001b[0m 0.4489  \u001b[0m |\n",
            "| \u001b[0m 51      \u001b[0m | \u001b[0m 0.5     \u001b[0m | \u001b[0m 0.6274  \u001b[0m | \u001b[0m 5.894   \u001b[0m | \u001b[0m 304.6   \u001b[0m | \u001b[0m 0.5796  \u001b[0m | \u001b[0m 1.685   \u001b[0m | \u001b[0m 49.79   \u001b[0m | \u001b[0m 0.9442  \u001b[0m |\n",
            "| \u001b[0m 52      \u001b[0m | \u001b[0m 0.5     \u001b[0m | \u001b[0m 0.5449  \u001b[0m | \u001b[0m 6.63    \u001b[0m | \u001b[0m 498.1   \u001b[0m | \u001b[0m 0.4393  \u001b[0m | \u001b[0m 17.71   \u001b[0m | \u001b[0m 0.1126  \u001b[0m | \u001b[0m 0.5436  \u001b[0m |\n",
            "| \u001b[0m 53      \u001b[0m | \u001b[0m 0.5     \u001b[0m | \u001b[0m 0.5647  \u001b[0m | \u001b[0m 5.277   \u001b[0m | \u001b[0m 301.1   \u001b[0m | \u001b[0m 19.1    \u001b[0m | \u001b[0m 19.91   \u001b[0m | \u001b[0m 1.726   \u001b[0m | \u001b[0m 0.3718  \u001b[0m |\n",
            "| \u001b[0m 54      \u001b[0m | \u001b[0m 0.5     \u001b[0m | \u001b[0m 0.4407  \u001b[0m | \u001b[0m 6.422   \u001b[0m | \u001b[0m 301.8   \u001b[0m | \u001b[0m 17.92   \u001b[0m | \u001b[0m 1.292   \u001b[0m | \u001b[0m 48.57   \u001b[0m | \u001b[0m 0.8906  \u001b[0m |\n",
            "| \u001b[0m 55      \u001b[0m | \u001b[0m 0.5     \u001b[0m | \u001b[0m 0.5338  \u001b[0m | \u001b[0m 6.11    \u001b[0m | \u001b[0m 497.4   \u001b[0m | \u001b[0m 2.736   \u001b[0m | \u001b[0m 19.69   \u001b[0m | \u001b[0m 49.53   \u001b[0m | \u001b[0m 0.3729  \u001b[0m |\n",
            "| \u001b[0m 56      \u001b[0m | \u001b[0m 0.5     \u001b[0m | \u001b[0m 0.4028  \u001b[0m | \u001b[0m 5.278   \u001b[0m | \u001b[0m 498.8   \u001b[0m | \u001b[0m 18.31   \u001b[0m | \u001b[0m 19.58   \u001b[0m | \u001b[0m 49.51   \u001b[0m | \u001b[0m 0.7243  \u001b[0m |\n",
            "| \u001b[0m 57      \u001b[0m | \u001b[0m 0.5     \u001b[0m | \u001b[0m 0.4774  \u001b[0m | \u001b[0m 6.085   \u001b[0m | \u001b[0m 301.0   \u001b[0m | \u001b[0m 0.02081 \u001b[0m | \u001b[0m 17.59   \u001b[0m | \u001b[0m 49.01   \u001b[0m | \u001b[0m 0.642   \u001b[0m |\n",
            "| \u001b[0m 58      \u001b[0m | \u001b[0m 0.5     \u001b[0m | \u001b[0m 0.4094  \u001b[0m | \u001b[0m 5.847   \u001b[0m | \u001b[0m 302.5   \u001b[0m | \u001b[0m 1.254   \u001b[0m | \u001b[0m 19.9    \u001b[0m | \u001b[0m 3.785   \u001b[0m | \u001b[0m 0.3997  \u001b[0m |\n",
            "| \u001b[0m 59      \u001b[0m | \u001b[0m 0.5     \u001b[0m | \u001b[0m 0.5838  \u001b[0m | \u001b[0m 5.665   \u001b[0m | \u001b[0m 493.3   \u001b[0m | \u001b[0m 0.8741  \u001b[0m | \u001b[0m 0.7719  \u001b[0m | \u001b[0m 49.23   \u001b[0m | \u001b[0m 0.7198  \u001b[0m |\n",
            "| \u001b[0m 60      \u001b[0m | \u001b[0m 0.5     \u001b[0m | \u001b[0m 0.6057  \u001b[0m | \u001b[0m 5.7     \u001b[0m | \u001b[0m 303.0   \u001b[0m | \u001b[0m 18.9    \u001b[0m | \u001b[0m 19.69   \u001b[0m | \u001b[0m 49.77   \u001b[0m | \u001b[0m 0.5726  \u001b[0m |\n",
            "=============================================================================================================\n"
          ],
          "name": "stdout"
        }
      ]
    },
    {
      "cell_type": "code",
      "metadata": {
        "id": "sTj2JyJ9GZuW",
        "colab": {
          "base_uri": "https://localhost:8080/"
        },
        "outputId": "94351be0-1eee-4201-d40e-6e11525d78fd"
      },
      "source": [
        "lgbo.res"
      ],
      "execution_count": null,
      "outputs": [
        {
          "output_type": "execute_result",
          "data": {
            "text/plain": [
              "[{'params': {'colsample_bytree': 0.5712340861081974,\n",
              "   'max_depth': 6.989523596610084,\n",
              "   'min_child_weight': 449.7945627497034,\n",
              "   'min_gain_to_split': 19.069532186542396,\n",
              "   'reg_alpha': 13.694062430130952,\n",
              "   'reg_lambda': 27.142461709890846,\n",
              "   'subsample': 0.6787926540489923},\n",
              "  'target': 0.5},\n",
              " {'params': {'colsample_bytree': 0.5385841972797623,\n",
              "   'max_depth': 5.341871468918219,\n",
              "   'min_child_weight': 343.3133258728175,\n",
              "   'min_gain_to_split': 14.178276141186998,\n",
              "   'reg_alpha': 4.583505836006414,\n",
              "   'reg_lambda': 25.927299225013158,\n",
              "   'subsample': 0.39901639394716504},\n",
              "  'target': 0.5},\n",
              " {'params': {'colsample_bytree': 0.49956073226813025,\n",
              "   'max_depth': 6.197686126660251,\n",
              "   'min_child_weight': 357.9316166560784,\n",
              "   'min_gain_to_split': 17.98354619117488,\n",
              "   'reg_alpha': 10.909100041330653,\n",
              "   'reg_lambda': 16.763874178113312,\n",
              "   'subsample': 0.48643228230538393},\n",
              "  'target': 0.5},\n",
              " {'params': {'colsample_bytree': 0.6238810100269583,\n",
              "   'max_depth': 5.556923614850282,\n",
              "   'min_child_weight': 334.04394189946566,\n",
              "   'min_gain_to_split': 4.182662110299685,\n",
              "   'reg_alpha': 9.043357442814997,\n",
              "   'reg_lambda': 7.132103666656292,\n",
              "   'subsample': 0.714037925738384},\n",
              "  'target': 0.5},\n",
              " {'params': {'colsample_bytree': 0.5628067187365493,\n",
              "   'max_depth': 6.692658196352124,\n",
              "   'min_child_weight': 376.73900713852726,\n",
              "   'min_gain_to_split': 18.24963359608922,\n",
              "   'reg_alpha': 8.00911753401008,\n",
              "   'reg_lambda': 41.0646378022148,\n",
              "   'subsample': 0.6768432915951914},\n",
              "  'target': 0.5},\n",
              " {'params': {'colsample_bytree': 0.5174322174034002,\n",
              "   'max_depth': 6.6746914207498085,\n",
              "   'min_child_weight': 340.9432010690018,\n",
              "   'min_gain_to_split': 16.800706794572683,\n",
              "   'reg_alpha': 9.75855376458102,\n",
              "   'reg_lambda': 11.861217490779929,\n",
              "   'subsample': 0.738458230364808},\n",
              "  'target': 0.5},\n",
              " {'params': {'colsample_bytree': 0.6580853258778554,\n",
              "   'max_depth': 6.753822533759551,\n",
              "   'min_child_weight': 378.2185036264058,\n",
              "   'min_gain_to_split': 17.393811797557476,\n",
              "   'reg_alpha': 5.648675441268585,\n",
              "   'reg_lambda': 3.613002715868996,\n",
              "   'subsample': 0.4389857261155856},\n",
              "  'target': 0.5},\n",
              " {'params': {'colsample_bytree': 0.6476411137619987,\n",
              "   'max_depth': 6.647189230573931,\n",
              "   'min_child_weight': 400.29723108216587,\n",
              "   'min_gain_to_split': 18.92400790782039,\n",
              "   'reg_alpha': 1.0460425954722563,\n",
              "   'reg_lambda': 26.83389759084799,\n",
              "   'subsample': 0.616376296160271},\n",
              "  'target': 0.5},\n",
              " {'params': {'colsample_bytree': 0.6318838105561566,\n",
              "   'max_depth': 6.4047447993276725,\n",
              "   'min_child_weight': 445.21006539233144,\n",
              "   'min_gain_to_split': 7.2549588872584,\n",
              "   'reg_alpha': 2.3334932992694957,\n",
              "   'reg_lambda': 0.09709514642274875,\n",
              "   'subsample': 0.3632553391152938},\n",
              "  'target': 0.5},\n",
              " {'params': {'colsample_bytree': 0.6448696877458417,\n",
              "   'max_depth': 5.453479647590475,\n",
              "   'min_child_weight': 405.738572486165,\n",
              "   'min_gain_to_split': 10.265087620551967,\n",
              "   'reg_alpha': 13.324131296914635,\n",
              "   'reg_lambda': 28.919575796035,\n",
              "   'subsample': 0.4889991268999787},\n",
              "  'target': 0.5},\n",
              " {'params': {'colsample_bytree': 0.46621655085637514,\n",
              "   'max_depth': 5.358956969294191,\n",
              "   'min_child_weight': 407.0009874100898,\n",
              "   'min_gain_to_split': 19.078387138352035,\n",
              "   'reg_alpha': 19.601879973747007,\n",
              "   'reg_lambda': 20.05610072158312,\n",
              "   'subsample': 0.5468036654182983},\n",
              "  'target': 0.5},\n",
              " {'params': {'colsample_bytree': 0.5864259432626925,\n",
              "   'max_depth': 5.612890791141446,\n",
              "   'min_child_weight': 413.0442082508919,\n",
              "   'min_gain_to_split': 2.993086525801698,\n",
              "   'reg_alpha': 15.80853899638307,\n",
              "   'reg_lambda': 14.9231807922519,\n",
              "   'subsample': 0.9572452965207805},\n",
              "  'target': 0.5},\n",
              " {'params': {'colsample_bytree': 0.4207421073361597,\n",
              "   'max_depth': 6.826634832800188,\n",
              "   'min_child_weight': 442.7331924979371,\n",
              "   'min_gain_to_split': 19.46745310855839,\n",
              "   'reg_alpha': 9.639413980833456,\n",
              "   'reg_lambda': 25.296300671582767,\n",
              "   'subsample': 0.5452047535682307},\n",
              "  'target': 0.5},\n",
              " {'params': {'colsample_bytree': 0.4867060584400931,\n",
              "   'max_depth': 6.558455871055726,\n",
              "   'min_child_weight': 484.9347318826491,\n",
              "   'min_gain_to_split': 5.420786532036517,\n",
              "   'reg_alpha': 19.223385450919682,\n",
              "   'reg_lambda': 34.44548202530692,\n",
              "   'subsample': 0.5351231536609977},\n",
              "  'target': 0.5},\n",
              " {'params': {'colsample_bytree': 0.6007555241081932,\n",
              "   'max_depth': 5.973901462929792,\n",
              "   'min_child_weight': 437.9525561651178,\n",
              "   'min_gain_to_split': 7.773665169740218,\n",
              "   'reg_alpha': 2.4475331843673565,\n",
              "   'reg_lambda': 26.45046303282916,\n",
              "   'subsample': 0.43579029105979256},\n",
              "  'target': 0.5},\n",
              " {'params': {'colsample_bytree': 0.6043929102157464,\n",
              "   'max_depth': 6.682489967633539,\n",
              "   'min_child_weight': 388.84409304437537,\n",
              "   'min_gain_to_split': 8.431771085601788,\n",
              "   'reg_alpha': 1.1806938736398043,\n",
              "   'reg_lambda': 1.5444000417847992,\n",
              "   'subsample': 0.4934625902342239},\n",
              "  'target': 0.5},\n",
              " {'params': {'colsample_bytree': 0.4673462356048484,\n",
              "   'max_depth': 5.29252815933768,\n",
              "   'min_child_weight': 345.47116646676994,\n",
              "   'min_gain_to_split': 9.391784872003264,\n",
              "   'reg_alpha': 7.630431051483737,\n",
              "   'reg_lambda': 44.18033884193073,\n",
              "   'subsample': 0.6682700962278298},\n",
              "  'target': 0.5},\n",
              " {'params': {'colsample_bytree': 0.6697156646187912,\n",
              "   'max_depth': 5.544197648237544,\n",
              "   'min_child_weight': 332.60965829003163,\n",
              "   'min_gain_to_split': 15.801028895388889,\n",
              "   'reg_alpha': 6.760798562092207,\n",
              "   'reg_lambda': 25.477017109796375,\n",
              "   'subsample': 0.8174434877667689},\n",
              "  'target': 0.5},\n",
              " {'params': {'colsample_bytree': 0.42619648237480834,\n",
              "   'max_depth': 6.359251845201462,\n",
              "   'min_child_weight': 467.2456094452415,\n",
              "   'min_gain_to_split': 14.644030726446527,\n",
              "   'reg_alpha': 7.584920222521971,\n",
              "   'reg_lambda': 35.96456350575589,\n",
              "   'subsample': 0.7707720214892089},\n",
              "  'target': 0.5},\n",
              " {'params': {'colsample_bytree': 0.4037215055978854,\n",
              "   'max_depth': 6.296739737548298,\n",
              "   'min_child_weight': 459.1228186266909,\n",
              "   'min_gain_to_split': 17.95434953429603,\n",
              "   'reg_alpha': 10.869276466314307,\n",
              "   'reg_lambda': 45.83859970437252,\n",
              "   'subsample': 0.6772965965729802},\n",
              "  'target': 0.5},\n",
              " {'params': {'colsample_bytree': 0.6004200922235111,\n",
              "   'max_depth': 5.597013808645996,\n",
              "   'min_child_weight': 482.27795305611147,\n",
              "   'min_gain_to_split': 7.499916995031148,\n",
              "   'reg_alpha': 13.743620972050131,\n",
              "   'reg_lambda': 1.9752921100436527,\n",
              "   'subsample': 0.48530178502825827},\n",
              "  'target': 0.5},\n",
              " {'params': {'colsample_bytree': 0.5271785585607094,\n",
              "   'max_depth': 5.491792068512455,\n",
              "   'min_child_weight': 372.2931666267598,\n",
              "   'min_gain_to_split': 3.216398415486792,\n",
              "   'reg_alpha': 5.592747921810252,\n",
              "   'reg_lambda': 2.2461978170871033,\n",
              "   'subsample': 0.36652442754511055},\n",
              "  'target': 0.5},\n",
              " {'params': {'colsample_bytree': 0.4042309076949121,\n",
              "   'max_depth': 5.391094274288843,\n",
              "   'min_child_weight': 410.54019332478873,\n",
              "   'min_gain_to_split': 2.5382088460170893,\n",
              "   'reg_alpha': 19.003132509653774,\n",
              "   'reg_lambda': 5.363124624311166,\n",
              "   'subsample': 0.797899988412477},\n",
              "  'target': 0.5},\n",
              " {'params': {'colsample_bytree': 0.6697373529370967,\n",
              "   'max_depth': 6.771678783823232,\n",
              "   'min_child_weight': 473.05807258334374,\n",
              "   'min_gain_to_split': 12.213901401410055,\n",
              "   'reg_alpha': 2.0202633065782627,\n",
              "   'reg_lambda': 33.24801108228251,\n",
              "   'subsample': 0.9345264855447808},\n",
              "  'target': 0.5},\n",
              " {'params': {'colsample_bytree': 0.6115458822114577,\n",
              "   'max_depth': 5.134139460423281,\n",
              "   'min_child_weight': 429.39077973590986,\n",
              "   'min_gain_to_split': 13.44728385688423,\n",
              "   'reg_alpha': 18.034742162034604,\n",
              "   'reg_lambda': 48.84582770619282,\n",
              "   'subsample': 0.7992235450591886},\n",
              "  'target': 0.5},\n",
              " {'params': {'colsample_bytree': 0.46100279592037563,\n",
              "   'max_depth': 5.350567319708102,\n",
              "   'min_child_weight': 392.3336057916871,\n",
              "   'min_gain_to_split': 12.06240423755969,\n",
              "   'reg_alpha': 19.60077811050708,\n",
              "   'reg_lambda': 30.107781367760822,\n",
              "   'subsample': 0.5861767211508997},\n",
              "  'target': 0.5},\n",
              " {'params': {'colsample_bytree': 0.4985361104805378,\n",
              "   'max_depth': 6.034037662517907,\n",
              "   'min_child_weight': 439.36277742190896,\n",
              "   'min_gain_to_split': 14.056215970239679,\n",
              "   'reg_alpha': 8.059795876040052,\n",
              "   'reg_lambda': 20.632223817838746,\n",
              "   'subsample': 0.5289605747919524},\n",
              "  'target': 0.5},\n",
              " {'params': {'colsample_bytree': 0.6871901961425597,\n",
              "   'max_depth': 5.967515002399533,\n",
              "   'min_child_weight': 452.78824516810147,\n",
              "   'min_gain_to_split': 19.828746883822433,\n",
              "   'reg_alpha': 0.7728872802861897,\n",
              "   'reg_lambda': 31.644170543851185,\n",
              "   'subsample': 0.6397773778174785},\n",
              "  'target': 0.5},\n",
              " {'params': {'colsample_bytree': 0.5360056811132393,\n",
              "   'max_depth': 5.514396144397452,\n",
              "   'min_child_weight': 486.84115700305665,\n",
              "   'min_gain_to_split': 14.301716243247444,\n",
              "   'reg_alpha': 1.1562028878653252,\n",
              "   'reg_lambda': 0.2685266434608369,\n",
              "   'subsample': 0.34481119914305713},\n",
              "  'target': 0.5},\n",
              " {'params': {'colsample_bytree': 0.435063459802974,\n",
              "   'max_depth': 5.65625621175705,\n",
              "   'min_child_weight': 400.0177773311141,\n",
              "   'min_gain_to_split': 0.1797953552869136,\n",
              "   'reg_alpha': 15.922046441330025,\n",
              "   'reg_lambda': 20.091862358849987,\n",
              "   'subsample': 0.5427912507361792},\n",
              "  'target': 0.5},\n",
              " {'params': {'colsample_bytree': 0.4105610818854261,\n",
              "   'max_depth': 5.97451572729139,\n",
              "   'min_child_weight': 305.25627061651363,\n",
              "   'min_gain_to_split': 1.812918756571702,\n",
              "   'reg_alpha': 0.8514888473159488,\n",
              "   'reg_lambda': 49.93148974044777,\n",
              "   'subsample': 0.8585911545964917},\n",
              "  'target': 0.5},\n",
              " {'params': {'colsample_bytree': 0.6631338620387819,\n",
              "   'max_depth': 6.870075055325055,\n",
              "   'min_child_weight': 302.0003721575286,\n",
              "   'min_gain_to_split': 2.141929700151328,\n",
              "   'reg_alpha': 19.867758406508376,\n",
              "   'reg_lambda': 46.288383725308975,\n",
              "   'subsample': 0.6725431309216989},\n",
              "  'target': 0.5},\n",
              " {'params': {'colsample_bytree': 0.47528593744628495,\n",
              "   'max_depth': 6.475185835847784,\n",
              "   'min_child_weight': 497.13019078431444,\n",
              "   'min_gain_to_split': 0.012583025131864822,\n",
              "   'reg_alpha': 3.203741962767297,\n",
              "   'reg_lambda': 48.95559164725161,\n",
              "   'subsample': 0.6437432965082084},\n",
              "  'target': 0.5},\n",
              " {'params': {'colsample_bytree': 0.6817875781047307,\n",
              "   'max_depth': 6.027182056122399,\n",
              "   'min_child_weight': 301.90025768050697,\n",
              "   'min_gain_to_split': 18.445257095514172,\n",
              "   'reg_alpha': 2.379282394403548,\n",
              "   'reg_lambda': 0.05600499634018652,\n",
              "   'subsample': 0.7015488021577492},\n",
              "  'target': 0.5},\n",
              " {'params': {'colsample_bytree': 0.48639544365281745,\n",
              "   'max_depth': 5.4786937887302285,\n",
              "   'min_child_weight': 300.02840106547006,\n",
              "   'min_gain_to_split': 1.7884099480751403,\n",
              "   'reg_alpha': 18.58351696346758,\n",
              "   'reg_lambda': 49.882052141982484,\n",
              "   'subsample': 0.7163836061204794},\n",
              "  'target': 0.5},\n",
              " {'params': {'colsample_bytree': 0.585763886706509,\n",
              "   'max_depth': 5.887903431437949,\n",
              "   'min_child_weight': 302.0997437985231,\n",
              "   'min_gain_to_split': 1.5332958471122793,\n",
              "   'reg_alpha': 1.722295391811297,\n",
              "   'reg_lambda': 0.11779809472735048,\n",
              "   'subsample': 0.49992835268839136},\n",
              "  'target': 0.5},\n",
              " {'params': {'colsample_bytree': 0.5672561862190526,\n",
              "   'max_depth': 5.098983872162101,\n",
              "   'min_child_weight': 492.98128822690524,\n",
              "   'min_gain_to_split': 0.3999849881638684,\n",
              "   'reg_alpha': 19.713422081899225,\n",
              "   'reg_lambda': 0.0450260410980452,\n",
              "   'subsample': 0.48779071181516576},\n",
              "  'target': 0.5},\n",
              " {'params': {'colsample_bytree': 0.67838549890673,\n",
              "   'max_depth': 5.17800216628454,\n",
              "   'min_child_weight': 301.47139830870765,\n",
              "   'min_gain_to_split': 0.38482326869081707,\n",
              "   'reg_alpha': 0.06104006091158132,\n",
              "   'reg_lambda': 48.99974642385957,\n",
              "   'subsample': 0.6665723806384543},\n",
              "  'target': 0.5},\n",
              " {'params': {'colsample_bytree': 0.5413475522388466,\n",
              "   'max_depth': 6.305996906859186,\n",
              "   'min_child_weight': 497.38576702563495,\n",
              "   'min_gain_to_split': 0.6343652137409506,\n",
              "   'reg_alpha': 1.6848928764164683,\n",
              "   'reg_lambda': 46.72910165264301,\n",
              "   'subsample': 0.3947231319935688},\n",
              "  'target': 0.5},\n",
              " {'params': {'colsample_bytree': 0.42731402358594145,\n",
              "   'max_depth': 5.230163264634726,\n",
              "   'min_child_weight': 497.8997460422754,\n",
              "   'min_gain_to_split': 1.3086853538233312,\n",
              "   'reg_alpha': 1.323057086426569,\n",
              "   'reg_lambda': 49.20406659309892,\n",
              "   'subsample': 0.46461270676043875},\n",
              "  'target': 0.5},\n",
              " {'params': {'colsample_bytree': 0.6226566710115659,\n",
              "   'max_depth': 6.313549744873399,\n",
              "   'min_child_weight': 305.3783398736122,\n",
              "   'min_gain_to_split': 19.591445927895712,\n",
              "   'reg_alpha': 18.507056270475758,\n",
              "   'reg_lambda': 49.21162580597277,\n",
              "   'subsample': 0.8504933677395401},\n",
              "  'target': 0.5},\n",
              " {'params': {'colsample_bytree': 0.5979695575726522,\n",
              "   'max_depth': 6.718519394612294,\n",
              "   'min_child_weight': 300.09044202955226,\n",
              "   'min_gain_to_split': 1.8493234928054592,\n",
              "   'reg_alpha': 0.29493452133921627,\n",
              "   'reg_lambda': 0.5536142099218877,\n",
              "   'subsample': 0.4192847285616027},\n",
              "  'target': 0.5},\n",
              " {'params': {'colsample_bytree': 0.5821706557140671,\n",
              "   'max_depth': 5.642260155556141,\n",
              "   'min_child_weight': 495.1950736898084,\n",
              "   'min_gain_to_split': 0.8618106421687699,\n",
              "   'reg_alpha': 19.805759975861324,\n",
              "   'reg_lambda': 2.0612016130081177,\n",
              "   'subsample': 0.9673067078798621},\n",
              "  'target': 0.5},\n",
              " {'params': {'colsample_bytree': 0.5341477795577843,\n",
              "   'max_depth': 5.353077687869749,\n",
              "   'min_child_weight': 305.47920562351356,\n",
              "   'min_gain_to_split': 0.8654041825709546,\n",
              "   'reg_alpha': 18.756412046308228,\n",
              "   'reg_lambda': 47.97908767966084,\n",
              "   'subsample': 0.47109942272144933},\n",
              "  'target': 0.5},\n",
              " {'params': {'colsample_bytree': 0.5429438201235068,\n",
              "   'max_depth': 6.792619038458175,\n",
              "   'min_child_weight': 301.7071795754995,\n",
              "   'min_gain_to_split': 19.777693053166022,\n",
              "   'reg_alpha': 19.306063247129817,\n",
              "   'reg_lambda': 0.3298635780689396,\n",
              "   'subsample': 0.6556770036528656},\n",
              "  'target': 0.5},\n",
              " {'params': {'colsample_bytree': 0.4206803676053686,\n",
              "   'max_depth': 5.303844889693047,\n",
              "   'min_child_weight': 498.8773108559024,\n",
              "   'min_gain_to_split': 19.87380003396848,\n",
              "   'reg_alpha': 18.785572385913675,\n",
              "   'reg_lambda': 48.60437647107826,\n",
              "   'subsample': 0.6807320484662993},\n",
              "  'target': 0.5},\n",
              " {'params': {'colsample_bytree': 0.4172429317941915,\n",
              "   'max_depth': 5.423686790025149,\n",
              "   'min_child_weight': 498.3525750534119,\n",
              "   'min_gain_to_split': 4.0942088937453285,\n",
              "   'reg_alpha': 19.400123733006723,\n",
              "   'reg_lambda': 2.1373835133249255,\n",
              "   'subsample': 0.831282512388223},\n",
              "  'target': 0.5},\n",
              " {'params': {'colsample_bytree': 0.5483323333631074,\n",
              "   'max_depth': 5.6455445223683505,\n",
              "   'min_child_weight': 497.4710242865482,\n",
              "   'min_gain_to_split': 19.372631244457153,\n",
              "   'reg_alpha': 0.3488570379146272,\n",
              "   'reg_lambda': 0.041070212067845224,\n",
              "   'subsample': 0.500140071474215},\n",
              "  'target': 0.5},\n",
              " {'params': {'colsample_bytree': 0.6622997796750605,\n",
              "   'max_depth': 6.971753261144883,\n",
              "   'min_child_weight': 301.2193574575234,\n",
              "   'min_gain_to_split': 18.368616019679507,\n",
              "   'reg_alpha': 18.798602906164113,\n",
              "   'reg_lambda': 1.449917640426246,\n",
              "   'subsample': 0.5639176586645303},\n",
              "  'target': 0.5},\n",
              " {'params': {'colsample_bytree': 0.5584930931009602,\n",
              "   'max_depth': 6.044363832613446,\n",
              "   'min_child_weight': 497.17633527025095,\n",
              "   'min_gain_to_split': 19.8993621915984,\n",
              "   'reg_alpha': 3.2633472940024943,\n",
              "   'reg_lambda': 49.56641457854645,\n",
              "   'subsample': 0.4489488954069698},\n",
              "  'target': 0.5},\n",
              " {'params': {'colsample_bytree': 0.6273600399322444,\n",
              "   'max_depth': 5.894034726648771,\n",
              "   'min_child_weight': 304.5501222140279,\n",
              "   'min_gain_to_split': 0.5795572782925085,\n",
              "   'reg_alpha': 1.6850581118392727,\n",
              "   'reg_lambda': 49.78742818238606,\n",
              "   'subsample': 0.944188185738748},\n",
              "  'target': 0.5},\n",
              " {'params': {'colsample_bytree': 0.5449316525493852,\n",
              "   'max_depth': 6.629811217879382,\n",
              "   'min_child_weight': 498.07407045515674,\n",
              "   'min_gain_to_split': 0.43930065347500546,\n",
              "   'reg_alpha': 17.7102427384904,\n",
              "   'reg_lambda': 0.11255221780130387,\n",
              "   'subsample': 0.5436180503241195},\n",
              "  'target': 0.5},\n",
              " {'params': {'colsample_bytree': 0.5647267316025961,\n",
              "   'max_depth': 5.277468920758196,\n",
              "   'min_child_weight': 301.0689166012761,\n",
              "   'min_gain_to_split': 19.098992681498174,\n",
              "   'reg_alpha': 19.90627756899192,\n",
              "   'reg_lambda': 1.7261327836152196,\n",
              "   'subsample': 0.37181586750981444},\n",
              "  'target': 0.5},\n",
              " {'params': {'colsample_bytree': 0.44069332434729075,\n",
              "   'max_depth': 6.421580687107859,\n",
              "   'min_child_weight': 301.75657297649656,\n",
              "   'min_gain_to_split': 17.92002621695094,\n",
              "   'reg_alpha': 1.2922762658091247,\n",
              "   'reg_lambda': 48.56979047560088,\n",
              "   'subsample': 0.8906057019361073},\n",
              "  'target': 0.5},\n",
              " {'params': {'colsample_bytree': 0.53382500162074,\n",
              "   'max_depth': 6.110047992884607,\n",
              "   'min_child_weight': 497.4010630284522,\n",
              "   'min_gain_to_split': 2.7357830340679445,\n",
              "   'reg_alpha': 19.69460792694911,\n",
              "   'reg_lambda': 49.525757746570505,\n",
              "   'subsample': 0.372946214440232},\n",
              "  'target': 0.5},\n",
              " {'params': {'colsample_bytree': 0.4028192667754755,\n",
              "   'max_depth': 5.278366302235958,\n",
              "   'min_child_weight': 498.8275070442803,\n",
              "   'min_gain_to_split': 18.312868749751164,\n",
              "   'reg_alpha': 19.580853468386714,\n",
              "   'reg_lambda': 49.513366274439626,\n",
              "   'subsample': 0.7242547495000163},\n",
              "  'target': 0.5},\n",
              " {'params': {'colsample_bytree': 0.477444004373313,\n",
              "   'max_depth': 6.085393265703587,\n",
              "   'min_child_weight': 300.98525713750945,\n",
              "   'min_gain_to_split': 0.02081105271075412,\n",
              "   'reg_alpha': 17.58703001462292,\n",
              "   'reg_lambda': 49.006747509843066,\n",
              "   'subsample': 0.6419718309544094},\n",
              "  'target': 0.5},\n",
              " {'params': {'colsample_bytree': 0.40935378994344457,\n",
              "   'max_depth': 5.84705749596444,\n",
              "   'min_child_weight': 302.47576046651284,\n",
              "   'min_gain_to_split': 1.2544743467991482,\n",
              "   'reg_alpha': 19.89939280805863,\n",
              "   'reg_lambda': 3.7846729431042334,\n",
              "   'subsample': 0.3996866200162418},\n",
              "  'target': 0.5},\n",
              " {'params': {'colsample_bytree': 0.5837984169010095,\n",
              "   'max_depth': 5.6649505991473985,\n",
              "   'min_child_weight': 493.34551232580367,\n",
              "   'min_gain_to_split': 0.8740975771412374,\n",
              "   'reg_alpha': 0.7718518084131154,\n",
              "   'reg_lambda': 49.225154498709855,\n",
              "   'subsample': 0.7197888873208227},\n",
              "  'target': 0.5},\n",
              " {'params': {'colsample_bytree': 0.6056841923883114,\n",
              "   'max_depth': 5.699538539975413,\n",
              "   'min_child_weight': 302.9824595579527,\n",
              "   'min_gain_to_split': 18.902000387861186,\n",
              "   'reg_alpha': 19.687473837763246,\n",
              "   'reg_lambda': 49.77332512703177,\n",
              "   'subsample': 0.5725689023395973},\n",
              "  'target': 0.5}]"
            ]
          },
          "metadata": {
            "tags": []
          },
          "execution_count": 125
        }
      ]
    },
    {
      "cell_type": "markdown",
      "metadata": {
        "id": "EWPcvDLVGZuY"
      },
      "source": [
        "### Finding optimal set of parameters"
      ]
    },
    {
      "cell_type": "code",
      "metadata": {
        "id": "aplb37DTGZuZ"
      },
      "source": [
        "max_target=max([lgbo.res[elem]['target'] for elem in range(len(lgbo.res))])\n",
        "opt_params=[elem['params'] for elem in lgbo.res if elem['target']==max_target][0]"
      ],
      "execution_count": null,
      "outputs": []
    },
    {
      "cell_type": "markdown",
      "metadata": {
        "id": "XC0peB5BGZuZ"
      },
      "source": [
        "### Updating the model parameters"
      ]
    },
    {
      "cell_type": "code",
      "metadata": {
        "id": "GfW5P6oWGZuc"
      },
      "source": [
        "opt_params.update({\n",
        "    'objective': 'binary',\n",
        "    'metric': 'auc',\n",
        "    'boosting': 'gbdt',\n",
        "    'random_state' : 501, # Updated from 'seed'\n",
        "    'n_estimators' : 200,\n",
        "    'learning_rate': 0.1,\n",
        "    'early_stopping_round' : 10,\n",
        "    'verbose': 20,\n",
        "    'num_leaves': 65,\n",
        "    'min_data_in_leaf': 500,\n",
        "    'bagging_freq': 1,\n",
        "    'bagging_seed': RS,\n",
        "    'feature_fraction_seed': RS,\n",
        "    'max_bin': 50})\n",
        "opt_params['min_child_weight'] = int(opt_params['min_child_weight'])\n",
        "opt_params['colsample_bytree'] = max(min(opt_params['colsample_bytree'], 1), 0)\n",
        "opt_params['max_depth'] = int(opt_params['max_depth'])\n",
        "opt_params['subsample'] = max(min(opt_params['subsample'], 1), 0)\n",
        "opt_params['min_gain_to_split'] = max(opt_params['min_gain_to_split'],0)\n",
        "opt_params['reg_alpha'] = max(opt_params['reg_alpha'],0)\n",
        "opt_params['reg_lambda'] = max(opt_params['reg_lambda'],0)"
      ],
      "execution_count": null,
      "outputs": []
    },
    {
      "cell_type": "code",
      "metadata": {
        "scrolled": true,
        "id": "5TMq_1YUGZuc",
        "colab": {
          "base_uri": "https://localhost:8080/"
        },
        "outputId": "ad3ed604-d02a-4782-a7b0-ed5c4972567b"
      },
      "source": [
        "opt_params"
      ],
      "execution_count": null,
      "outputs": [
        {
          "output_type": "execute_result",
          "data": {
            "text/plain": [
              "{'bagging_freq': 1,\n",
              " 'bagging_seed': 20200801,\n",
              " 'boosting': 'gbdt',\n",
              " 'colsample_bytree': 0.5712340861081974,\n",
              " 'early_stopping_round': 10,\n",
              " 'feature_fraction_seed': 20200801,\n",
              " 'learning_rate': 0.1,\n",
              " 'max_bin': 50,\n",
              " 'max_depth': 6,\n",
              " 'metric': 'auc',\n",
              " 'min_child_weight': 449,\n",
              " 'min_data_in_leaf': 500,\n",
              " 'min_gain_to_split': 19.069532186542396,\n",
              " 'n_estimators': 200,\n",
              " 'num_leaves': 65,\n",
              " 'objective': 'binary',\n",
              " 'random_state': 501,\n",
              " 'reg_alpha': 13.694062430130952,\n",
              " 'reg_lambda': 27.142461709890846,\n",
              " 'subsample': 0.6787926540489923,\n",
              " 'verbose': 20}"
            ]
          },
          "metadata": {
            "tags": []
          },
          "execution_count": 128
        }
      ]
    },
    {
      "cell_type": "markdown",
      "metadata": {
        "id": "dKy6iIzcGZud"
      },
      "source": [
        "### Training the model on our optimal set of parameters"
      ]
    },
    {
      "cell_type": "code",
      "metadata": {
        "id": "hbSZYF-uGZue"
      },
      "source": [
        "lgb_train = lgb.Dataset(X_train, Y_train)\n",
        "lgb_eval = lgb.Dataset(X_val, Y_val, reference=lgb_train)"
      ],
      "execution_count": null,
      "outputs": []
    },
    {
      "cell_type": "code",
      "metadata": {
        "scrolled": true,
        "id": "7akiNcitGZue",
        "colab": {
          "base_uri": "https://localhost:8080/"
        },
        "outputId": "130c60d6-e059-4069-92ab-7f0f7ab12fa1"
      },
      "source": [
        "lgb_model = lgb.train(opt_params, lgb_train, valid_sets=lgb_eval)"
      ],
      "execution_count": null,
      "outputs": [
        {
          "output_type": "stream",
          "text": [
            "[1]\tvalid_0's auc: 0.5\n",
            "Training until validation scores don't improve for 10 rounds.\n",
            "[2]\tvalid_0's auc: 0.5\n",
            "[3]\tvalid_0's auc: 0.5\n",
            "[4]\tvalid_0's auc: 0.5\n",
            "[5]\tvalid_0's auc: 0.5\n",
            "[6]\tvalid_0's auc: 0.5\n",
            "[7]\tvalid_0's auc: 0.5\n",
            "[8]\tvalid_0's auc: 0.5\n",
            "[9]\tvalid_0's auc: 0.5\n",
            "[10]\tvalid_0's auc: 0.5\n",
            "[11]\tvalid_0's auc: 0.5\n",
            "Early stopping, best iteration is:\n",
            "[1]\tvalid_0's auc: 0.5\n"
          ],
          "name": "stdout"
        }
      ]
    },
    {
      "cell_type": "markdown",
      "metadata": {
        "id": "oWWKH2j8GZue"
      },
      "source": [
        "### Getting model probabilities on the three datasets"
      ]
    },
    {
      "cell_type": "code",
      "metadata": {
        "id": "xVoZ6CPyGZuf"
      },
      "source": [
        "train_preds_lgb=lgb_model.predict(X_train)\n",
        "val_preds_lgb=lgb_model.predict(X_val)\n",
        "test_preds_lgb=lgb_model.predict(X_test)"
      ],
      "execution_count": null,
      "outputs": []
    },
    {
      "cell_type": "markdown",
      "metadata": {
        "id": "eM5VsPt8GZuf"
      },
      "source": [
        "### Evaluating model performance using metrics like roc-auc and confusion matrix"
      ]
    },
    {
      "cell_type": "code",
      "metadata": {
        "id": "JI9djzpLGZug"
      },
      "source": [
        "# Convert the probs to classes\n",
        "train_preds_lgb = np.where(train_preds_lgb > 0.5,1,0)\n",
        "val_preds_lgb   = np.where(val_preds_lgb > 0.5,1,0)\n",
        "test_preds_lgb  = np.where(test_preds_lgb > 0.5,1,0)"
      ],
      "execution_count": null,
      "outputs": []
    },
    {
      "cell_type": "code",
      "metadata": {
        "scrolled": true,
        "id": "9-Jmm9cBGZug",
        "colab": {
          "base_uri": "https://localhost:8080/"
        },
        "outputId": "0dfe8105-7b64-45fb-902d-1680d5f354b1"
      },
      "source": [
        "print(accuracy_score(Y_train,train_preds_lgb))\n",
        "print(accuracy_score(Y_val,val_preds_lgb))\n",
        "print(accuracy_score(Y_test,test_preds_lgb))"
      ],
      "execution_count": null,
      "outputs": [
        {
          "output_type": "stream",
          "text": [
            "0.5372645372645373\n",
            "0.5311203319502075\n",
            "0.5778443113772455\n"
          ],
          "name": "stdout"
        }
      ]
    }
  ]
}