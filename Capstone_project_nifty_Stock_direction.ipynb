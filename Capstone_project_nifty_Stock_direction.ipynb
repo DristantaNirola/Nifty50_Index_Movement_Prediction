{
  "nbformat": 4,
  "nbformat_minor": 0,
  "metadata": {
    "kernelspec": {
      "display_name": "Python 3",
      "language": "python",
      "name": "python3"
    },
    "language_info": {
      "codemirror_mode": {
        "name": "ipython",
        "version": 3
      },
      "file_extension": ".py",
      "mimetype": "text/x-python",
      "name": "python",
      "nbconvert_exporter": "python",
      "pygments_lexer": "ipython3",
      "version": "3.7.4"
    },
    "colab": {
      "name": "Capstone_project_nifty_Stock_direction.ipynb",
      "provenance": [],
      "collapsed_sections": [],
      "include_colab_link": true
    }
  },
  "cells": [
    {
      "cell_type": "markdown",
      "metadata": {
        "id": "view-in-github",
        "colab_type": "text"
      },
      "source": [
        "<a href=\"https://colab.research.google.com/github/DristantaNirola/Nifty50_Index_Movement_Prediction/blob/main/Capstone_project_nifty_Stock_direction.ipynb\" target=\"_parent\"><img src=\"https://colab.research.google.com/assets/colab-badge.svg\" alt=\"Open In Colab\"/></a>"
      ]
    },
    {
      "cell_type": "markdown",
      "metadata": {
        "id": "UncJrMOI_Y4n"
      },
      "source": [
        "## What is Nifty?\n",
        " \n",
        "#### National Stock Exchange Fifty or Nifty is the market indicator of NSE. It ideally is a collection of 50 stocks but presently has 51 listed in it. It is also referred to as Nifty 50 and CNX Nifty by some as it is owned and managed by India Index Services and Products Ltd. (IISL).\n",
        " \n"
      ]
    },
    {
      "cell_type": "markdown",
      "metadata": {
        "id": "5ZlUNZsjGZtB"
      },
      "source": [
        "##  Objective :\n",
        "* ### To perform time series analysis on the NIFTY stock price and forecusting using univariate ARIMA and ARIMAX modeling technique. \n",
        "* ### The problem is further simplified to just predict the direction of nifty index movements in the next N days (throughout our experiments N can take values 1, 5, and 30). Initially, we will take N=1, that means we want to predict the NIFTY 50 index movement in the next day. This is represented as a classification task where there are two possible outcomes (either the index went up in the next day or it went down)."
      ]
    },
    {
      "cell_type": "markdown",
      "metadata": {
        "id": "qT3UXFkaGZtF"
      },
      "source": [
        "### Importing required libraries"
      ]
    },
    {
      "cell_type": "code",
      "metadata": {
        "scrolled": false,
        "id": "NVncc4dPGZtH"
      },
      "source": [
        "# Libraries for data manipulation\n",
        "import pandas as pd\n",
        "import numpy as np\n",
        "import matplotlib.pyplot as plt\n",
        "\n",
        "\n",
        "# Datetime library for date and time functions\n",
        "from datetime import datetime"
      ],
      "execution_count": 11,
      "outputs": []
    },
    {
      "cell_type": "markdown",
      "metadata": {
        "id": "0Z1-LBh-GZtM"
      },
      "source": [
        "### Loading the Data "
      ]
    },
    {
      "cell_type": "code",
      "metadata": {
        "colab": {
          "base_uri": "https://localhost:8080/"
        },
        "id": "ATw09UVf25Hk",
        "outputId": "38f352f3-bc52-4da4-d3d5-2616263bb01d"
      },
      "source": [
        "# mounting the drive\n",
        "from google.colab import drive\n",
        "drive.mount('/content/drive')"
      ],
      "execution_count": 12,
      "outputs": [
        {
          "output_type": "stream",
          "text": [
            "Mounted at /content/drive\n"
          ],
          "name": "stdout"
        }
      ]
    },
    {
      "cell_type": "code",
      "metadata": {
        "colab": {
          "base_uri": "https://localhost:8080/"
        },
        "id": "n3LemS7n265V",
        "outputId": "291d65fd-fdf4-4620-ea11-3f9809d16e9a"
      },
      "source": [
        "nifty_data = pd.read_csv('/content/drive/MyDrive/AlmaBetter/Cohort Nilgiri/Module 5/Week 1/Day 1/c')\n",
        "\n",
        "# shape of the dataset \n",
        "nifty_data.shape"
      ],
      "execution_count": 13,
      "outputs": [
        {
          "output_type": "execute_result",
          "data": {
            "text/plain": [
              "(5301, 5)"
            ]
          },
          "metadata": {
            "tags": []
          },
          "execution_count": 13
        }
      ]
    },
    {
      "cell_type": "markdown",
      "metadata": {
        "id": "HD0amgAbGZtN"
      },
      "source": [
        "### Basic pre processing on our raw data"
      ]
    },
    {
      "cell_type": "code",
      "metadata": {
        "colab": {
          "base_uri": "https://localhost:8080/",
          "height": 195
        },
        "id": "zrWvu6A353Br",
        "outputId": "7fd9a051-fb05-4a89-bf31-c598800da3f6"
      },
      "source": [
        "# Top 5 values\n",
        "nifty_data.head()"
      ],
      "execution_count": 4,
      "outputs": [
        {
          "output_type": "execute_result",
          "data": {
            "text/html": [
              "<div>\n",
              "<style scoped>\n",
              "    .dataframe tbody tr th:only-of-type {\n",
              "        vertical-align: middle;\n",
              "    }\n",
              "\n",
              "    .dataframe tbody tr th {\n",
              "        vertical-align: top;\n",
              "    }\n",
              "\n",
              "    .dataframe thead th {\n",
              "        text-align: right;\n",
              "    }\n",
              "</style>\n",
              "<table border=\"1\" class=\"dataframe\">\n",
              "  <thead>\n",
              "    <tr style=\"text-align: right;\">\n",
              "      <th></th>\n",
              "      <th>Date</th>\n",
              "      <th>Open</th>\n",
              "      <th>High</th>\n",
              "      <th>Low</th>\n",
              "      <th>Close</th>\n",
              "    </tr>\n",
              "  </thead>\n",
              "  <tbody>\n",
              "    <tr>\n",
              "      <th>0</th>\n",
              "      <td>2000-01-03</td>\n",
              "      <td>1482.15</td>\n",
              "      <td>1592.90</td>\n",
              "      <td>1482.15</td>\n",
              "      <td>1592.2</td>\n",
              "    </tr>\n",
              "    <tr>\n",
              "      <th>1</th>\n",
              "      <td>2000-01-04</td>\n",
              "      <td>1594.40</td>\n",
              "      <td>1641.95</td>\n",
              "      <td>1594.40</td>\n",
              "      <td>1638.7</td>\n",
              "    </tr>\n",
              "    <tr>\n",
              "      <th>2</th>\n",
              "      <td>2000-01-05</td>\n",
              "      <td>1634.55</td>\n",
              "      <td>1635.50</td>\n",
              "      <td>1555.05</td>\n",
              "      <td>1595.8</td>\n",
              "    </tr>\n",
              "    <tr>\n",
              "      <th>3</th>\n",
              "      <td>2000-01-06</td>\n",
              "      <td>1595.80</td>\n",
              "      <td>1639.00</td>\n",
              "      <td>1595.80</td>\n",
              "      <td>1617.6</td>\n",
              "    </tr>\n",
              "    <tr>\n",
              "      <th>4</th>\n",
              "      <td>2000-01-07</td>\n",
              "      <td>1616.60</td>\n",
              "      <td>1628.25</td>\n",
              "      <td>1597.20</td>\n",
              "      <td>1613.3</td>\n",
              "    </tr>\n",
              "  </tbody>\n",
              "</table>\n",
              "</div>"
            ],
            "text/plain": [
              "         Date     Open     High      Low   Close\n",
              "0  2000-01-03  1482.15  1592.90  1482.15  1592.2\n",
              "1  2000-01-04  1594.40  1641.95  1594.40  1638.7\n",
              "2  2000-01-05  1634.55  1635.50  1555.05  1595.8\n",
              "3  2000-01-06  1595.80  1639.00  1595.80  1617.6\n",
              "4  2000-01-07  1616.60  1628.25  1597.20  1613.3"
            ]
          },
          "metadata": {
            "tags": []
          },
          "execution_count": 4
        }
      ]
    },
    {
      "cell_type": "code",
      "metadata": {
        "colab": {
          "base_uri": "https://localhost:8080/",
          "height": 195
        },
        "id": "tF20E16B6NEL",
        "outputId": "ffdf7bbf-b0cd-4389-8941-9f5f0871a100"
      },
      "source": [
        "# Bottom 5 values\n",
        "nifty_data.tail()"
      ],
      "execution_count": 5,
      "outputs": [
        {
          "output_type": "execute_result",
          "data": {
            "text/html": [
              "<div>\n",
              "<style scoped>\n",
              "    .dataframe tbody tr th:only-of-type {\n",
              "        vertical-align: middle;\n",
              "    }\n",
              "\n",
              "    .dataframe tbody tr th {\n",
              "        vertical-align: top;\n",
              "    }\n",
              "\n",
              "    .dataframe thead th {\n",
              "        text-align: right;\n",
              "    }\n",
              "</style>\n",
              "<table border=\"1\" class=\"dataframe\">\n",
              "  <thead>\n",
              "    <tr style=\"text-align: right;\">\n",
              "      <th></th>\n",
              "      <th>Date</th>\n",
              "      <th>Open</th>\n",
              "      <th>High</th>\n",
              "      <th>Low</th>\n",
              "      <th>Close</th>\n",
              "    </tr>\n",
              "  </thead>\n",
              "  <tbody>\n",
              "    <tr>\n",
              "      <th>5296</th>\n",
              "      <td>2021-05-04</td>\n",
              "      <td>14687.250000</td>\n",
              "      <td>14723.400391</td>\n",
              "      <td>14461.500000</td>\n",
              "      <td>14496.500000</td>\n",
              "    </tr>\n",
              "    <tr>\n",
              "      <th>5297</th>\n",
              "      <td>2021-05-05</td>\n",
              "      <td>14604.150391</td>\n",
              "      <td>14637.900391</td>\n",
              "      <td>14506.599609</td>\n",
              "      <td>14617.849609</td>\n",
              "    </tr>\n",
              "    <tr>\n",
              "      <th>5298</th>\n",
              "      <td>2021-05-06</td>\n",
              "      <td>14668.349609</td>\n",
              "      <td>14743.900391</td>\n",
              "      <td>14611.500000</td>\n",
              "      <td>14724.799805</td>\n",
              "    </tr>\n",
              "    <tr>\n",
              "      <th>5299</th>\n",
              "      <td>2021-05-07</td>\n",
              "      <td>14816.849609</td>\n",
              "      <td>14863.049805</td>\n",
              "      <td>14765.500000</td>\n",
              "      <td>14823.150391</td>\n",
              "    </tr>\n",
              "    <tr>\n",
              "      <th>5300</th>\n",
              "      <td>2021-05-10</td>\n",
              "      <td>14928.250000</td>\n",
              "      <td>14966.900391</td>\n",
              "      <td>14892.500000</td>\n",
              "      <td>14942.349609</td>\n",
              "    </tr>\n",
              "  </tbody>\n",
              "</table>\n",
              "</div>"
            ],
            "text/plain": [
              "            Date          Open          High           Low         Close\n",
              "5296  2021-05-04  14687.250000  14723.400391  14461.500000  14496.500000\n",
              "5297  2021-05-05  14604.150391  14637.900391  14506.599609  14617.849609\n",
              "5298  2021-05-06  14668.349609  14743.900391  14611.500000  14724.799805\n",
              "5299  2021-05-07  14816.849609  14863.049805  14765.500000  14823.150391\n",
              "5300  2021-05-10  14928.250000  14966.900391  14892.500000  14942.349609"
            ]
          },
          "metadata": {
            "tags": []
          },
          "execution_count": 5
        }
      ]
    },
    {
      "cell_type": "code",
      "metadata": {
        "id": "w0iE0uj76yYq"
      },
      "source": [
        "# setting dates as the index to the the dataframe\n",
        "nifty_df = nifty_data.set_index('Date')"
      ],
      "execution_count": 14,
      "outputs": []
    },
    {
      "cell_type": "code",
      "metadata": {
        "id": "YKiAp2KqGZtN",
        "colab": {
          "base_uri": "https://localhost:8080/",
          "height": 225
        },
        "outputId": "a520d3b3-b427-48c3-9a56-d306adc832af"
      },
      "source": [
        "nifty_df.head()"
      ],
      "execution_count": 7,
      "outputs": [
        {
          "output_type": "execute_result",
          "data": {
            "text/html": [
              "<div>\n",
              "<style scoped>\n",
              "    .dataframe tbody tr th:only-of-type {\n",
              "        vertical-align: middle;\n",
              "    }\n",
              "\n",
              "    .dataframe tbody tr th {\n",
              "        vertical-align: top;\n",
              "    }\n",
              "\n",
              "    .dataframe thead th {\n",
              "        text-align: right;\n",
              "    }\n",
              "</style>\n",
              "<table border=\"1\" class=\"dataframe\">\n",
              "  <thead>\n",
              "    <tr style=\"text-align: right;\">\n",
              "      <th></th>\n",
              "      <th>Open</th>\n",
              "      <th>High</th>\n",
              "      <th>Low</th>\n",
              "      <th>Close</th>\n",
              "    </tr>\n",
              "    <tr>\n",
              "      <th>Date</th>\n",
              "      <th></th>\n",
              "      <th></th>\n",
              "      <th></th>\n",
              "      <th></th>\n",
              "    </tr>\n",
              "  </thead>\n",
              "  <tbody>\n",
              "    <tr>\n",
              "      <th>2000-01-03</th>\n",
              "      <td>1482.15</td>\n",
              "      <td>1592.90</td>\n",
              "      <td>1482.15</td>\n",
              "      <td>1592.2</td>\n",
              "    </tr>\n",
              "    <tr>\n",
              "      <th>2000-01-04</th>\n",
              "      <td>1594.40</td>\n",
              "      <td>1641.95</td>\n",
              "      <td>1594.40</td>\n",
              "      <td>1638.7</td>\n",
              "    </tr>\n",
              "    <tr>\n",
              "      <th>2000-01-05</th>\n",
              "      <td>1634.55</td>\n",
              "      <td>1635.50</td>\n",
              "      <td>1555.05</td>\n",
              "      <td>1595.8</td>\n",
              "    </tr>\n",
              "    <tr>\n",
              "      <th>2000-01-06</th>\n",
              "      <td>1595.80</td>\n",
              "      <td>1639.00</td>\n",
              "      <td>1595.80</td>\n",
              "      <td>1617.6</td>\n",
              "    </tr>\n",
              "    <tr>\n",
              "      <th>2000-01-07</th>\n",
              "      <td>1616.60</td>\n",
              "      <td>1628.25</td>\n",
              "      <td>1597.20</td>\n",
              "      <td>1613.3</td>\n",
              "    </tr>\n",
              "  </tbody>\n",
              "</table>\n",
              "</div>"
            ],
            "text/plain": [
              "               Open     High      Low   Close\n",
              "Date                                         \n",
              "2000-01-03  1482.15  1592.90  1482.15  1592.2\n",
              "2000-01-04  1594.40  1641.95  1594.40  1638.7\n",
              "2000-01-05  1634.55  1635.50  1555.05  1595.8\n",
              "2000-01-06  1595.80  1639.00  1595.80  1617.6\n",
              "2000-01-07  1616.60  1628.25  1597.20  1613.3"
            ]
          },
          "metadata": {
            "tags": []
          },
          "execution_count": 7
        }
      ]
    },
    {
      "cell_type": "code",
      "metadata": {
        "colab": {
          "base_uri": "https://localhost:8080/"
        },
        "id": "gmC0QDVFOCgb",
        "outputId": "f6c4a92a-8dec-46a2-932c-5c5a1f62b335"
      },
      "source": [
        "# Finding the total null values\n",
        "nifty_df.isna().sum()"
      ],
      "execution_count": 8,
      "outputs": [
        {
          "output_type": "execute_result",
          "data": {
            "text/plain": [
              "Open     35\n",
              "High     35\n",
              "Low      35\n",
              "Close    35\n",
              "dtype: int64"
            ]
          },
          "metadata": {
            "tags": []
          },
          "execution_count": 8
        }
      ]
    },
    {
      "cell_type": "code",
      "metadata": {
        "colab": {
          "base_uri": "https://localhost:8080/",
          "height": 373
        },
        "id": "XlNRmy3wkJpR",
        "outputId": "aae833b3-5b93-4876-9264-91772a38e77e"
      },
      "source": [
        "nifty_df[nifty_df.isnull().any(axis=1)][:10]"
      ],
      "execution_count": 9,
      "outputs": [
        {
          "output_type": "execute_result",
          "data": {
            "text/html": [
              "<div>\n",
              "<style scoped>\n",
              "    .dataframe tbody tr th:only-of-type {\n",
              "        vertical-align: middle;\n",
              "    }\n",
              "\n",
              "    .dataframe tbody tr th {\n",
              "        vertical-align: top;\n",
              "    }\n",
              "\n",
              "    .dataframe thead th {\n",
              "        text-align: right;\n",
              "    }\n",
              "</style>\n",
              "<table border=\"1\" class=\"dataframe\">\n",
              "  <thead>\n",
              "    <tr style=\"text-align: right;\">\n",
              "      <th></th>\n",
              "      <th>Open</th>\n",
              "      <th>High</th>\n",
              "      <th>Low</th>\n",
              "      <th>Close</th>\n",
              "    </tr>\n",
              "    <tr>\n",
              "      <th>Date</th>\n",
              "      <th></th>\n",
              "      <th></th>\n",
              "      <th></th>\n",
              "      <th></th>\n",
              "    </tr>\n",
              "  </thead>\n",
              "  <tbody>\n",
              "    <tr>\n",
              "      <th>2008-11-27</th>\n",
              "      <td>NaN</td>\n",
              "      <td>NaN</td>\n",
              "      <td>NaN</td>\n",
              "      <td>NaN</td>\n",
              "    </tr>\n",
              "    <tr>\n",
              "      <th>2009-04-30</th>\n",
              "      <td>NaN</td>\n",
              "      <td>NaN</td>\n",
              "      <td>NaN</td>\n",
              "      <td>NaN</td>\n",
              "    </tr>\n",
              "    <tr>\n",
              "      <th>2009-10-13</th>\n",
              "      <td>NaN</td>\n",
              "      <td>NaN</td>\n",
              "      <td>NaN</td>\n",
              "      <td>NaN</td>\n",
              "    </tr>\n",
              "    <tr>\n",
              "      <th>2009-12-23</th>\n",
              "      <td>NaN</td>\n",
              "      <td>NaN</td>\n",
              "      <td>NaN</td>\n",
              "      <td>NaN</td>\n",
              "    </tr>\n",
              "    <tr>\n",
              "      <th>2009-12-24</th>\n",
              "      <td>NaN</td>\n",
              "      <td>NaN</td>\n",
              "      <td>NaN</td>\n",
              "      <td>NaN</td>\n",
              "    </tr>\n",
              "    <tr>\n",
              "      <th>2009-12-29</th>\n",
              "      <td>NaN</td>\n",
              "      <td>NaN</td>\n",
              "      <td>NaN</td>\n",
              "      <td>NaN</td>\n",
              "    </tr>\n",
              "    <tr>\n",
              "      <th>2009-12-30</th>\n",
              "      <td>NaN</td>\n",
              "      <td>NaN</td>\n",
              "      <td>NaN</td>\n",
              "      <td>NaN</td>\n",
              "    </tr>\n",
              "    <tr>\n",
              "      <th>2009-12-31</th>\n",
              "      <td>NaN</td>\n",
              "      <td>NaN</td>\n",
              "      <td>NaN</td>\n",
              "      <td>NaN</td>\n",
              "    </tr>\n",
              "    <tr>\n",
              "      <th>2010-02-06</th>\n",
              "      <td>NaN</td>\n",
              "      <td>NaN</td>\n",
              "      <td>NaN</td>\n",
              "      <td>NaN</td>\n",
              "    </tr>\n",
              "    <tr>\n",
              "      <th>2011-05-31</th>\n",
              "      <td>NaN</td>\n",
              "      <td>NaN</td>\n",
              "      <td>NaN</td>\n",
              "      <td>NaN</td>\n",
              "    </tr>\n",
              "  </tbody>\n",
              "</table>\n",
              "</div>"
            ],
            "text/plain": [
              "            Open  High  Low  Close\n",
              "Date                              \n",
              "2008-11-27   NaN   NaN  NaN    NaN\n",
              "2009-04-30   NaN   NaN  NaN    NaN\n",
              "2009-10-13   NaN   NaN  NaN    NaN\n",
              "2009-12-23   NaN   NaN  NaN    NaN\n",
              "2009-12-24   NaN   NaN  NaN    NaN\n",
              "2009-12-29   NaN   NaN  NaN    NaN\n",
              "2009-12-30   NaN   NaN  NaN    NaN\n",
              "2009-12-31   NaN   NaN  NaN    NaN\n",
              "2010-02-06   NaN   NaN  NaN    NaN\n",
              "2011-05-31   NaN   NaN  NaN    NaN"
            ]
          },
          "metadata": {
            "tags": []
          },
          "execution_count": 9
        }
      ]
    },
    {
      "cell_type": "code",
      "metadata": {
        "id": "ANjfntd0NG1Q"
      },
      "source": [
        "# Droping the null values \n",
        "nifty_df.dropna(inplace=True)"
      ],
      "execution_count": 10,
      "outputs": []
    },
    {
      "cell_type": "code",
      "metadata": {
        "colab": {
          "base_uri": "https://localhost:8080/"
        },
        "id": "SswK6lxZrvU-",
        "outputId": "1318ce6b-01cf-4b7b-f8de-fc06fb76b3f0"
      },
      "source": [
        "nifty_df.shape"
      ],
      "execution_count": 11,
      "outputs": [
        {
          "output_type": "execute_result",
          "data": {
            "text/plain": [
              "(5266, 4)"
            ]
          },
          "metadata": {
            "tags": []
          },
          "execution_count": 11
        }
      ]
    },
    {
      "cell_type": "markdown",
      "metadata": {
        "id": "7ITgB4JMQpZo"
      },
      "source": [
        "#### Conclusion:\n",
        "* The data has 5336 rows and 5 columns.\n",
        "* Their are 35 null values in the dataframe which includes the date when the trading didn't happen.\n",
        "* The null values are droped from the dataset for further analysis.\n"
      ]
    },
    {
      "cell_type": "markdown",
      "metadata": {
        "id": "RrAJxE2cST-r"
      },
      "source": [
        "## 1. Exploratory Data Analysis:"
      ]
    },
    {
      "cell_type": "code",
      "metadata": {
        "colab": {
          "base_uri": "https://localhost:8080/",
          "height": 284
        },
        "id": "ivCqOSPbLA23",
        "outputId": "c5e21947-72b5-45ef-c64a-8b6d1743a5d9"
      },
      "source": [
        "# finding the high level statistics for the continious features\n",
        "nifty_df.describe()"
      ],
      "execution_count": 12,
      "outputs": [
        {
          "output_type": "execute_result",
          "data": {
            "text/html": [
              "<div>\n",
              "<style scoped>\n",
              "    .dataframe tbody tr th:only-of-type {\n",
              "        vertical-align: middle;\n",
              "    }\n",
              "\n",
              "    .dataframe tbody tr th {\n",
              "        vertical-align: top;\n",
              "    }\n",
              "\n",
              "    .dataframe thead th {\n",
              "        text-align: right;\n",
              "    }\n",
              "</style>\n",
              "<table border=\"1\" class=\"dataframe\">\n",
              "  <thead>\n",
              "    <tr style=\"text-align: right;\">\n",
              "      <th></th>\n",
              "      <th>Open</th>\n",
              "      <th>High</th>\n",
              "      <th>Low</th>\n",
              "      <th>Close</th>\n",
              "    </tr>\n",
              "  </thead>\n",
              "  <tbody>\n",
              "    <tr>\n",
              "      <th>count</th>\n",
              "      <td>5266.000000</td>\n",
              "      <td>5266.000000</td>\n",
              "      <td>5266.000000</td>\n",
              "      <td>5266.000000</td>\n",
              "    </tr>\n",
              "    <tr>\n",
              "      <th>mean</th>\n",
              "      <td>5551.787316</td>\n",
              "      <td>5588.846043</td>\n",
              "      <td>5506.832156</td>\n",
              "      <td>5548.545092</td>\n",
              "    </tr>\n",
              "    <tr>\n",
              "      <th>std</th>\n",
              "      <td>3582.719644</td>\n",
              "      <td>3594.485464</td>\n",
              "      <td>3561.245855</td>\n",
              "      <td>3578.111274</td>\n",
              "    </tr>\n",
              "    <tr>\n",
              "      <th>min</th>\n",
              "      <td>853.000000</td>\n",
              "      <td>877.000000</td>\n",
              "      <td>849.950000</td>\n",
              "      <td>854.200000</td>\n",
              "    </tr>\n",
              "    <tr>\n",
              "      <th>25%</th>\n",
              "      <td>2057.987500</td>\n",
              "      <td>2074.525000</td>\n",
              "      <td>2045.950000</td>\n",
              "      <td>2058.750000</td>\n",
              "    </tr>\n",
              "    <tr>\n",
              "      <th>50%</th>\n",
              "      <td>5213.675049</td>\n",
              "      <td>5252.199951</td>\n",
              "      <td>5163.449951</td>\n",
              "      <td>5211.025000</td>\n",
              "    </tr>\n",
              "    <tr>\n",
              "      <th>75%</th>\n",
              "      <td>8261.987305</td>\n",
              "      <td>8308.112793</td>\n",
              "      <td>8216.375244</td>\n",
              "      <td>8262.199707</td>\n",
              "    </tr>\n",
              "    <tr>\n",
              "      <th>max</th>\n",
              "      <td>15371.450195</td>\n",
              "      <td>15431.750000</td>\n",
              "      <td>15243.400391</td>\n",
              "      <td>15314.700195</td>\n",
              "    </tr>\n",
              "  </tbody>\n",
              "</table>\n",
              "</div>"
            ],
            "text/plain": [
              "               Open          High           Low         Close\n",
              "count   5266.000000   5266.000000   5266.000000   5266.000000\n",
              "mean    5551.787316   5588.846043   5506.832156   5548.545092\n",
              "std     3582.719644   3594.485464   3561.245855   3578.111274\n",
              "min      853.000000    877.000000    849.950000    854.200000\n",
              "25%     2057.987500   2074.525000   2045.950000   2058.750000\n",
              "50%     5213.675049   5252.199951   5163.449951   5211.025000\n",
              "75%     8261.987305   8308.112793   8216.375244   8262.199707\n",
              "max    15371.450195  15431.750000  15243.400391  15314.700195"
            ]
          },
          "metadata": {
            "tags": []
          },
          "execution_count": 12
        }
      ]
    },
    {
      "cell_type": "markdown",
      "metadata": {
        "id": "-ZYRGSmpS-Mb"
      },
      "source": [
        "### 1.1. Line plot"
      ]
    },
    {
      "cell_type": "code",
      "metadata": {
        "colab": {
          "base_uri": "https://localhost:8080/",
          "height": 314
        },
        "id": "JQQ1gmCRTgdB",
        "outputId": "8d2da80d-f914-4a52-c38d-a05cfc9af990"
      },
      "source": [
        "# Ploting a multiline line plot\n",
        "plt.figure(figsize=(15, 7)) \n",
        "nifty_df[:].plot.line()"
      ],
      "execution_count": 72,
      "outputs": [
        {
          "output_type": "execute_result",
          "data": {
            "text/plain": [
              "<matplotlib.axes._subplots.AxesSubplot at 0x7febcc46abd0>"
            ]
          },
          "metadata": {
            "tags": []
          },
          "execution_count": 72
        },
        {
          "output_type": "display_data",
          "data": {
            "text/plain": [
              "<Figure size 1080x504 with 0 Axes>"
            ]
          },
          "metadata": {
            "tags": []
          }
        },
        {
          "output_type": "display_data",
          "data": {
            "image/png": "[encoded data removed]",
            "text/plain": [
              "<Figure size 432x288 with 1 Axes>"
            ]
          },
          "metadata": {
            "tags": [],
            "needs_background": "light"
          }
        }
      ]
    },
    {
      "cell_type": "code",
      "metadata": {
        "colab": {
          "base_uri": "https://localhost:8080/",
          "height": 446
        },
        "id": "mTWBPGDFUKjY",
        "outputId": "827e6307-8247-45d1-c1b8-037e45288dcf"
      },
      "source": [
        "# Closing price trend\n",
        "plt.figure(figsize=(15, 7))\n",
        "line= nifty_df['Close'].plot.line()"
      ],
      "execution_count": 14,
      "outputs": [
        {
          "output_type": "display_data",
          "data": {
            "image/png": "[encoded data removed]",
            "text/plain": [
              "<Figure size 1080x504 with 1 Axes>"
            ]
          },
          "metadata": {
            "tags": [],
            "needs_background": "light"
          }
        }
      ]
    },
    {
      "cell_type": "code",
      "metadata": {
        "colab": {
          "base_uri": "https://localhost:8080/",
          "height": 106
        },
        "id": "XqIZ8nPbpTPI",
        "outputId": "dde047e9-1f98-4571-ce71-c3a837a099c4"
      },
      "source": [
        "# Finding the rise in 2008\n",
        "nifty_df[nifty_df['Close']== max(nifty_df['Close'].loc['2007-01-01':'2009-01-01'])]"
      ],
      "execution_count": 15,
      "outputs": [
        {
          "output_type": "execute_result",
          "data": {
            "text/html": [
              "<div>\n",
              "<style scoped>\n",
              "    .dataframe tbody tr th:only-of-type {\n",
              "        vertical-align: middle;\n",
              "    }\n",
              "\n",
              "    .dataframe tbody tr th {\n",
              "        vertical-align: top;\n",
              "    }\n",
              "\n",
              "    .dataframe thead th {\n",
              "        text-align: right;\n",
              "    }\n",
              "</style>\n",
              "<table border=\"1\" class=\"dataframe\">\n",
              "  <thead>\n",
              "    <tr style=\"text-align: right;\">\n",
              "      <th></th>\n",
              "      <th>Open</th>\n",
              "      <th>High</th>\n",
              "      <th>Low</th>\n",
              "      <th>Close</th>\n",
              "    </tr>\n",
              "    <tr>\n",
              "      <th>Date</th>\n",
              "      <th></th>\n",
              "      <th></th>\n",
              "      <th></th>\n",
              "      <th></th>\n",
              "    </tr>\n",
              "  </thead>\n",
              "  <tbody>\n",
              "    <tr>\n",
              "      <th>2008-01-08</th>\n",
              "      <td>6282.450195</td>\n",
              "      <td>6357.100098</td>\n",
              "      <td>6221.600098</td>\n",
              "      <td>6287.850098</td>\n",
              "    </tr>\n",
              "  </tbody>\n",
              "</table>\n",
              "</div>"
            ],
            "text/plain": [
              "                   Open         High          Low        Close\n",
              "Date                                                          \n",
              "2008-01-08  6282.450195  6357.100098  6221.600098  6287.850098"
            ]
          },
          "metadata": {
            "tags": []
          },
          "execution_count": 15
        }
      ]
    },
    {
      "cell_type": "markdown",
      "metadata": {
        "id": "f5aGRh3bvP19"
      },
      "source": [
        "The 50-share Nifty opened at 6,282 levels, surpassing its previous intra-day high on January 8, 2008, after the outcome of the Assembly polls in Delhi, Rajasthan, Madhya Pradesh and Chattisgarh, that saw the Bharatiya Janata Party (BJP) emerge as the single largest party. The index finally ended at its record closing high of 6,287."
      ]
    },
    {
      "cell_type": "code",
      "metadata": {
        "colab": {
          "base_uri": "https://localhost:8080/",
          "height": 106
        },
        "id": "GpU_DG-S_007",
        "outputId": "e96ea331-01f3-4471-cdcd-62a8d70029d0"
      },
      "source": [
        "# Finding the fall in 2008\n",
        "nifty_df[nifty_df['Close']== min(nifty_df['Close'].loc['2007-01-01':'2009-01-01'])]"
      ],
      "execution_count": 16,
      "outputs": [
        {
          "output_type": "execute_result",
          "data": {
            "text/html": [
              "<div>\n",
              "<style scoped>\n",
              "    .dataframe tbody tr th:only-of-type {\n",
              "        vertical-align: middle;\n",
              "    }\n",
              "\n",
              "    .dataframe tbody tr th {\n",
              "        vertical-align: top;\n",
              "    }\n",
              "\n",
              "    .dataframe thead th {\n",
              "        text-align: right;\n",
              "    }\n",
              "</style>\n",
              "<table border=\"1\" class=\"dataframe\">\n",
              "  <thead>\n",
              "    <tr style=\"text-align: right;\">\n",
              "      <th></th>\n",
              "      <th>Open</th>\n",
              "      <th>High</th>\n",
              "      <th>Low</th>\n",
              "      <th>Close</th>\n",
              "    </tr>\n",
              "    <tr>\n",
              "      <th>Date</th>\n",
              "      <th></th>\n",
              "      <th></th>\n",
              "      <th></th>\n",
              "      <th></th>\n",
              "    </tr>\n",
              "  </thead>\n",
              "  <tbody>\n",
              "    <tr>\n",
              "      <th>2008-10-27</th>\n",
              "      <td>2583.75</td>\n",
              "      <td>2585.300049</td>\n",
              "      <td>2252.75</td>\n",
              "      <td>2524.199951</td>\n",
              "    </tr>\n",
              "  </tbody>\n",
              "</table>\n",
              "</div>"
            ],
            "text/plain": [
              "               Open         High      Low        Close\n",
              "Date                                                  \n",
              "2008-10-27  2583.75  2585.300049  2252.75  2524.199951"
            ]
          },
          "metadata": {
            "tags": []
          },
          "execution_count": 16
        }
      ]
    },
    {
      "cell_type": "markdown",
      "metadata": {
        "id": "xPgFDfFtwCMf"
      },
      "source": [
        "The 50 share Nifty open at 2583 and closed at 2524 on 2008-10-27 which was the outcome of the Global financial crisis."
      ]
    },
    {
      "cell_type": "code",
      "metadata": {
        "colab": {
          "base_uri": "https://localhost:8080/",
          "height": 106
        },
        "id": "xRLrIRBh8kbK",
        "outputId": "804f483c-953d-47fb-eb0a-ce7bb09cbd4f"
      },
      "source": [
        "# Date of min closing price in 20 years\n",
        "nifty_df[nifty_df['Close']== nifty_df['Close'].min()]"
      ],
      "execution_count": 17,
      "outputs": [
        {
          "output_type": "execute_result",
          "data": {
            "text/html": [
              "<div>\n",
              "<style scoped>\n",
              "    .dataframe tbody tr th:only-of-type {\n",
              "        vertical-align: middle;\n",
              "    }\n",
              "\n",
              "    .dataframe tbody tr th {\n",
              "        vertical-align: top;\n",
              "    }\n",
              "\n",
              "    .dataframe thead th {\n",
              "        text-align: right;\n",
              "    }\n",
              "</style>\n",
              "<table border=\"1\" class=\"dataframe\">\n",
              "  <thead>\n",
              "    <tr style=\"text-align: right;\">\n",
              "      <th></th>\n",
              "      <th>Open</th>\n",
              "      <th>High</th>\n",
              "      <th>Low</th>\n",
              "      <th>Close</th>\n",
              "    </tr>\n",
              "    <tr>\n",
              "      <th>Date</th>\n",
              "      <th></th>\n",
              "      <th></th>\n",
              "      <th></th>\n",
              "      <th></th>\n",
              "    </tr>\n",
              "  </thead>\n",
              "  <tbody>\n",
              "    <tr>\n",
              "      <th>2001-09-21</th>\n",
              "      <td>903.75</td>\n",
              "      <td>903.75</td>\n",
              "      <td>849.95</td>\n",
              "      <td>854.2</td>\n",
              "    </tr>\n",
              "  </tbody>\n",
              "</table>\n",
              "</div>"
            ],
            "text/plain": [
              "              Open    High     Low  Close\n",
              "Date                                     \n",
              "2001-09-21  903.75  903.75  849.95  854.2"
            ]
          },
          "metadata": {
            "tags": []
          },
          "execution_count": 17
        }
      ]
    },
    {
      "cell_type": "markdown",
      "metadata": {
        "id": "j8YV8DGex47U"
      },
      "source": [
        "On 2001-09-21 the nifty50 was at it's low"
      ]
    },
    {
      "cell_type": "code",
      "metadata": {
        "colab": {
          "base_uri": "https://localhost:8080/",
          "height": 106
        },
        "id": "hK2ls52RXw86",
        "outputId": "32af460f-cb02-44ea-c628-96304f77bf90"
      },
      "source": [
        "# Date of maximum closing price in 20 years\n",
        "nifty_df[nifty_df['Close']== nifty_df['Close'].max()]"
      ],
      "execution_count": 18,
      "outputs": [
        {
          "output_type": "execute_result",
          "data": {
            "text/html": [
              "<div>\n",
              "<style scoped>\n",
              "    .dataframe tbody tr th:only-of-type {\n",
              "        vertical-align: middle;\n",
              "    }\n",
              "\n",
              "    .dataframe tbody tr th {\n",
              "        vertical-align: top;\n",
              "    }\n",
              "\n",
              "    .dataframe thead th {\n",
              "        text-align: right;\n",
              "    }\n",
              "</style>\n",
              "<table border=\"1\" class=\"dataframe\">\n",
              "  <thead>\n",
              "    <tr style=\"text-align: right;\">\n",
              "      <th></th>\n",
              "      <th>Open</th>\n",
              "      <th>High</th>\n",
              "      <th>Low</th>\n",
              "      <th>Close</th>\n",
              "    </tr>\n",
              "    <tr>\n",
              "      <th>Date</th>\n",
              "      <th></th>\n",
              "      <th></th>\n",
              "      <th></th>\n",
              "      <th></th>\n",
              "    </tr>\n",
              "  </thead>\n",
              "  <tbody>\n",
              "    <tr>\n",
              "      <th>2021-02-15</th>\n",
              "      <td>15270.299805</td>\n",
              "      <td>15340.150391</td>\n",
              "      <td>15243.400391</td>\n",
              "      <td>15314.700195</td>\n",
              "    </tr>\n",
              "  </tbody>\n",
              "</table>\n",
              "</div>"
            ],
            "text/plain": [
              "                    Open          High           Low         Close\n",
              "Date                                                              \n",
              "2021-02-15  15270.299805  15340.150391  15243.400391  15314.700195"
            ]
          },
          "metadata": {
            "tags": []
          },
          "execution_count": 18
        }
      ]
    },
    {
      "cell_type": "markdown",
      "metadata": {
        "id": "p2eJVUO_xj3F"
      },
      "source": [
        "on 2021-02-15 the nifty was at it's all time high. This was outcome of more Investments coming in India as an alternative to china due to the global pendamic."
      ]
    },
    {
      "cell_type": "code",
      "metadata": {
        "id": "T21HJMEqZnU5"
      },
      "source": [
        "#index jump\n",
        "index_jump= np.array(nifty_df['Close'].iloc[1:]) - np.array(nifty_df['Close'].iloc[:-1])"
      ],
      "execution_count": 19,
      "outputs": []
    },
    {
      "cell_type": "code",
      "metadata": {
        "colab": {
          "base_uri": "https://localhost:8080/"
        },
        "id": "MT4FwojwZtcJ",
        "outputId": "2bcb5132-57ba-426d-d414-3df44f527aaa"
      },
      "source": [
        "#date of maximum price jump\n",
        "nifty_df.iloc[np.argmax(index_jump),:]"
      ],
      "execution_count": 20,
      "outputs": [
        {
          "output_type": "execute_result",
          "data": {
            "text/plain": [
              "Open     8356.549805\n",
              "High     8356.549805\n",
              "Low      8055.799805\n",
              "Close    8083.799805\n",
              "Name: 2020-04-03, dtype: float64"
            ]
          },
          "metadata": {
            "tags": []
          },
          "execution_count": 20
        }
      ]
    },
    {
      "cell_type": "markdown",
      "metadata": {
        "id": "5FfEcFEWyLfL"
      },
      "source": [
        "on 2020-04-03 there was higest rise in the index "
      ]
    },
    {
      "cell_type": "code",
      "metadata": {
        "id": "BXwq3GmM9ssq"
      },
      "source": [
        "#index fall\n",
        "index_fall= np.array(nifty_df['Close'].iloc[:-1]) - np.array(nifty_df['Close'].iloc[1:])"
      ],
      "execution_count": 21,
      "outputs": []
    },
    {
      "cell_type": "code",
      "metadata": {
        "colab": {
          "base_uri": "https://localhost:8080/"
        },
        "id": "aPpK1m-P-FgI",
        "outputId": "5269d9d8-a7b6-495a-e061-230b47b57a0a"
      },
      "source": [
        "#date of maximum index fall\n",
        "nifty_df.iloc[np.argmax(index_fall),:]"
      ],
      "execution_count": 22,
      "outputs": [
        {
          "output_type": "execute_result",
          "data": {
            "text/plain": [
              "Open     8284.450195\n",
              "High     8883.000000\n",
              "Low      8178.200195\n",
              "Close    8745.450195\n",
              "Name: 2020-03-20, dtype: float64"
            ]
          },
          "metadata": {
            "tags": []
          },
          "execution_count": 22
        }
      ]
    },
    {
      "cell_type": "markdown",
      "metadata": {
        "id": "M9B5L56_qllV"
      },
      "source": [
        "On 2020-03-20 there was maximum fall in the nifty index which was the outcome of country wide lockdown."
      ]
    },
    {
      "cell_type": "markdown",
      "metadata": {
        "id": "yJwl4IrL-qag"
      },
      "source": [
        "### 1.2 Decomposition of Time Series\n",
        "\n",
        "#### Additive Model:  \n",
        "This model is used when the variations around the trend does not vary with the level of the time series. Here the components of a time series are simply added together using the formula:  \n",
        "y(t) = Level(t) + Trend(t) + Seasonality(t) + Noise(t)\n"
      ]
    },
    {
      "cell_type": "code",
      "metadata": {
        "id": "PbazNx43qoAU"
      },
      "source": [
        "import pandas as pd\n",
        "from statsmodels.tsa.seasonal import seasonal_decompose"
      ],
      "execution_count": 23,
      "outputs": []
    },
    {
      "cell_type": "code",
      "metadata": {
        "id": "v7PfOozeJvve",
        "colab": {
          "base_uri": "https://localhost:8080/",
          "height": 332
        },
        "outputId": "222a0d44-85c2-4a0d-d4f8-806ade05f32c"
      },
      "source": [
        "df= pd.DataFrame(nifty_df['Close'])\n",
        "s=seasonal_decompose(df, model= 'additive', freq= 1)\n",
        "fig = s.plot()"
      ],
      "execution_count": 24,
      "outputs": [
        {
          "output_type": "stream",
          "text": [
            "/usr/local/lib/python3.7/dist-packages/ipykernel_launcher.py:2: FutureWarning: the 'freq'' keyword is deprecated, use 'period' instead\n",
            "  \n"
          ],
          "name": "stderr"
        },
        {
          "output_type": "display_data",
          "data": {
            "image/png": "[encoded data removed]",
            "text/plain": [
              "<Figure size 432x288 with 4 Axes>"
            ]
          },
          "metadata": {
            "tags": [],
            "needs_background": "light"
          }
        }
      ]
    },
    {
      "cell_type": "markdown",
      "metadata": {
        "id": "YbUYJV45MkAk"
      },
      "source": [
        "### Checking Stationary"
      ]
    },
    {
      "cell_type": "code",
      "metadata": {
        "colab": {
          "base_uri": "https://localhost:8080/",
          "height": 282
        },
        "id": "0Cgzjb2PMi3B",
        "outputId": "bf44eb3c-a208-49a7-b189-ca21d62fded6"
      },
      "source": [
        "df.Close.hist()"
      ],
      "execution_count": 25,
      "outputs": [
        {
          "output_type": "execute_result",
          "data": {
            "text/plain": [
              "<matplotlib.axes._subplots.AxesSubplot at 0x7f262ed5a090>"
            ]
          },
          "metadata": {
            "tags": []
          },
          "execution_count": 25
        },
        {
          "output_type": "display_data",
          "data": {
            "image/png": "[encoded data removed]",
            "text/plain": [
              "<Figure size 432x288 with 1 Axes>"
            ]
          },
          "metadata": {
            "tags": [],
            "needs_background": "light"
          }
        }
      ]
    },
    {
      "cell_type": "code",
      "metadata": {
        "colab": {
          "base_uri": "https://localhost:8080/"
        },
        "id": "it_y0s20Naxo",
        "outputId": "4d5ecef5-ce22-4bd9-b949-0f8ce94a7bdd"
      },
      "source": [
        "#define function for ADF test\n",
        "from statsmodels.tsa.stattools import adfuller\n",
        "def adf_test(timeseries):\n",
        "    #Perform Dickey-Fuller test:\n",
        "    print ('Results of Dickey-Fuller Test:')\n",
        "    dftest = adfuller(timeseries, autolag='AIC')\n",
        "    dfoutput = pd.Series(dftest[0:4], index=['Test Statistic','p-value','#Lags Used','Number of Observations Used'])\n",
        "    for key,value in dftest[4].items():\n",
        "       dfoutput['Critical Value (%s)'%key] = value\n",
        "    print (dfoutput)\n",
        "\n",
        "#apply adf test on the series\n",
        "adf_test(df['Close'])"
      ],
      "execution_count": 26,
      "outputs": [
        {
          "output_type": "stream",
          "text": [
            "Results of Dickey-Fuller Test:\n",
            "Test Statistic                    0.793839\n",
            "p-value                           0.991536\n",
            "#Lags Used                       29.000000\n",
            "Number of Observations Used    5236.000000\n",
            "Critical Value (1%)              -3.431600\n",
            "Critical Value (5%)              -2.862092\n",
            "Critical Value (10%)             -2.567064\n",
            "dtype: float64\n"
          ],
          "name": "stdout"
        }
      ]
    },
    {
      "cell_type": "markdown",
      "metadata": {
        "id": "U1nMFRaKQh50"
      },
      "source": [
        "#### Here, the test statistic is greater than the critical value, we fail to reject the null hypothesis (which means the series is not stationary)."
      ]
    },
    {
      "cell_type": "markdown",
      "metadata": {
        "id": "wPkc5w1vQ0PB"
      },
      "source": [
        "### Checking with stationarity of the first difference:"
      ]
    },
    {
      "cell_type": "code",
      "metadata": {
        "colab": {
          "base_uri": "https://localhost:8080/"
        },
        "id": "NMpNU6x8Q7wG",
        "outputId": "be241fd4-16e1-49c5-af56-dc07d50f0fd1"
      },
      "source": [
        "#apply adf test on the first difference clossing price series\n",
        "df_diff= df['Close']-df['Close'].shift(1)\n",
        "df_diff.dropna(inplace= True)\n",
        "adf_test(df_diff)"
      ],
      "execution_count": 27,
      "outputs": [
        {
          "output_type": "stream",
          "text": [
            "Results of Dickey-Fuller Test:\n",
            "Test Statistic                -1.320886e+01\n",
            "p-value                        1.057066e-24\n",
            "#Lags Used                     2.800000e+01\n",
            "Number of Observations Used    5.236000e+03\n",
            "Critical Value (1%)           -3.431600e+00\n",
            "Critical Value (5%)           -2.862092e+00\n",
            "Critical Value (10%)          -2.567064e+00\n",
            "dtype: float64\n"
          ],
          "name": "stdout"
        }
      ]
    },
    {
      "cell_type": "markdown",
      "metadata": {
        "id": "4zcnS8faV10x"
      },
      "source": [
        "#### Here, test statistic is less than the critical value, we can reject the null hypothesis (aka the series is stationary)"
      ]
    },
    {
      "cell_type": "markdown",
      "metadata": {
        "id": "O7bGZrw5oFry"
      },
      "source": [
        "# Objective 1: \n",
        "To perform time series analysis on the NIFTY stock price and forecusting using univarate ARIMA and ARIMAX modeling technique."
      ]
    },
    {
      "cell_type": "markdown",
      "metadata": {
        "id": "T3M0afeQtl6G"
      },
      "source": [
        "### Using ARIMA for forcusting"
      ]
    },
    {
      "cell_type": "code",
      "metadata": {
        "id": "XGoV6sSUvvyp",
        "colab": {
          "base_uri": "https://localhost:8080/"
        },
        "outputId": "af251e81-cb16-4201-ace0-6b4ab2cb2406"
      },
      "source": [
        "!pip install pmdarima"
      ],
      "execution_count": 28,
      "outputs": [
        {
          "output_type": "stream",
          "text": [
            "Requirement already satisfied: pmdarima in /usr/local/lib/python3.7/dist-packages (1.8.2)\n",
            "Requirement already satisfied: numpy~=1.19.0 in /usr/local/lib/python3.7/dist-packages (from pmdarima) (1.19.5)\n",
            "Requirement already satisfied: scikit-learn>=0.22 in /usr/local/lib/python3.7/dist-packages (from pmdarima) (0.22.2.post1)\n",
            "Requirement already satisfied: Cython!=0.29.18,>=0.29 in /usr/local/lib/python3.7/dist-packages (from pmdarima) (0.29.23)\n",
            "Requirement already satisfied: joblib>=0.11 in /usr/local/lib/python3.7/dist-packages (from pmdarima) (1.0.1)\n",
            "Requirement already satisfied: urllib3 in /usr/local/lib/python3.7/dist-packages (from pmdarima) (1.24.3)\n",
            "Requirement already satisfied: setuptools!=50.0.0,>=38.6.0 in /usr/local/lib/python3.7/dist-packages (from pmdarima) (56.1.0)\n",
            "Requirement already satisfied: scipy>=1.3.2 in /usr/local/lib/python3.7/dist-packages (from pmdarima) (1.4.1)\n",
            "Requirement already satisfied: pandas>=0.19 in /usr/local/lib/python3.7/dist-packages (from pmdarima) (1.1.5)\n",
            "Requirement already satisfied: statsmodels!=0.12.0,>=0.11 in /usr/local/lib/python3.7/dist-packages (from pmdarima) (0.12.2)\n",
            "Requirement already satisfied: python-dateutil>=2.7.3 in /usr/local/lib/python3.7/dist-packages (from pandas>=0.19->pmdarima) (2.8.1)\n",
            "Requirement already satisfied: pytz>=2017.2 in /usr/local/lib/python3.7/dist-packages (from pandas>=0.19->pmdarima) (2018.9)\n",
            "Requirement already satisfied: patsy>=0.5 in /usr/local/lib/python3.7/dist-packages (from statsmodels!=0.12.0,>=0.11->pmdarima) (0.5.1)\n",
            "Requirement already satisfied: six>=1.5 in /usr/local/lib/python3.7/dist-packages (from python-dateutil>=2.7.3->pandas>=0.19->pmdarima) (1.15.0)\n"
          ],
          "name": "stdout"
        }
      ]
    },
    {
      "cell_type": "code",
      "metadata": {
        "id": "l4QWbiD8vw0-"
      },
      "source": [
        "from pmdarima import auto_arima"
      ],
      "execution_count": 29,
      "outputs": []
    },
    {
      "cell_type": "code",
      "metadata": {
        "id": "H4fmGqutrrqN"
      },
      "source": [
        "df= nifty_data.copy()\n",
        "df.dropna(inplace=True)"
      ],
      "execution_count": 30,
      "outputs": []
    },
    {
      "cell_type": "code",
      "metadata": {
        "id": "vzNlXFkKyfGb"
      },
      "source": [
        "df.set_index(\"Date\", drop=True, inplace=True)"
      ],
      "execution_count": 31,
      "outputs": []
    },
    {
      "cell_type": "code",
      "metadata": {
        "id": "SKFQHpC_yBED"
      },
      "source": [
        "df_train = df[df.index < \"2019\"]\n",
        "df_valid = df[df.index >= \"2019\"]"
      ],
      "execution_count": 32,
      "outputs": []
    },
    {
      "cell_type": "code",
      "metadata": {
        "colab": {
          "base_uri": "https://localhost:8080/"
        },
        "id": "fyp1qfOeiK80",
        "outputId": "7fb90245-c8a4-4e18-9b89-30ea25fa32c2"
      },
      "source": [
        "model = auto_arima(df_train.Close, trace=True, error_action=\"ignore\", suppress_warnings=True)\n",
        "model.fit(df_train.Close)\n",
        "\n",
        "forecast = model.predict(n_periods=len(df_valid))\n",
        "df_valid[\"Forecast_ARIMA\"] = forecast"
      ],
      "execution_count": 33,
      "outputs": [
        {
          "output_type": "stream",
          "text": [
            "Performing stepwise search to minimize aic\n",
            " ARIMA(2,1,2)(0,0,0)[0] intercept   : AIC=52008.719, Time=9.33 sec\n",
            " ARIMA(0,1,0)(0,0,0)[0] intercept   : AIC=52034.889, Time=0.13 sec\n",
            " ARIMA(1,1,0)(0,0,0)[0] intercept   : AIC=52013.033, Time=0.24 sec\n",
            " ARIMA(0,1,1)(0,0,0)[0] intercept   : AIC=52012.578, Time=0.50 sec\n",
            " ARIMA(0,1,0)(0,0,0)[0]             : AIC=52037.634, Time=0.09 sec\n",
            " ARIMA(1,1,2)(0,0,0)[0] intercept   : AIC=52016.347, Time=0.91 sec\n",
            " ARIMA(2,1,1)(0,0,0)[0] intercept   : AIC=52011.890, Time=4.29 sec\n",
            " ARIMA(3,1,2)(0,0,0)[0] intercept   : AIC=52015.855, Time=5.30 sec\n",
            " ARIMA(2,1,3)(0,0,0)[0] intercept   : AIC=inf, Time=9.64 sec\n",
            " ARIMA(1,1,1)(0,0,0)[0] intercept   : AIC=52014.469, Time=0.63 sec\n",
            " ARIMA(1,1,3)(0,0,0)[0] intercept   : AIC=52013.388, Time=4.74 sec\n",
            " ARIMA(3,1,1)(0,0,0)[0] intercept   : AIC=52012.630, Time=4.54 sec\n",
            " ARIMA(3,1,3)(0,0,0)[0] intercept   : AIC=52003.375, Time=11.17 sec\n",
            " ARIMA(4,1,3)(0,0,0)[0] intercept   : AIC=inf, Time=10.52 sec\n",
            " ARIMA(3,1,4)(0,0,0)[0] intercept   : AIC=inf, Time=20.10 sec\n",
            " ARIMA(2,1,4)(0,0,0)[0] intercept   : AIC=52003.582, Time=12.87 sec\n",
            " ARIMA(4,1,2)(0,0,0)[0] intercept   : AIC=52015.708, Time=5.80 sec\n",
            " ARIMA(4,1,4)(0,0,0)[0] intercept   : AIC=52007.192, Time=15.13 sec\n",
            " ARIMA(3,1,3)(0,0,0)[0]             : AIC=52005.555, Time=5.46 sec\n",
            "\n",
            "Best model:  ARIMA(3,1,3)(0,0,0)[0] intercept\n",
            "Total fit time: 121.453 seconds\n"
          ],
          "name": "stdout"
        },
        {
          "output_type": "stream",
          "text": [
            "/usr/local/lib/python3.7/dist-packages/ipykernel_launcher.py:5: SettingWithCopyWarning: \n",
            "A value is trying to be set on a copy of a slice from a DataFrame.\n",
            "Try using .loc[row_indexer,col_indexer] = value instead\n",
            "\n",
            "See the caveats in the documentation: https://pandas.pydata.org/pandas-docs/stable/user_guide/indexing.html#returning-a-view-versus-a-copy\n",
            "  \"\"\"\n"
          ],
          "name": "stderr"
        }
      ]
    },
    {
      "cell_type": "code",
      "metadata": {
        "colab": {
          "base_uri": "https://localhost:8080/",
          "height": 884
        },
        "id": "ULZ0req5iK5p",
        "outputId": "ba0da50c-b7f9-460b-d37f-78cb37743753"
      },
      "source": [
        "df_train.plot(figsize=(14, 7))\n",
        "df_valid[[\"Close\", \"Forecast_ARIMA\"]].plot(figsize=(14, 7))"
      ],
      "execution_count": 34,
      "outputs": [
        {
          "output_type": "execute_result",
          "data": {
            "text/plain": [
              "<matplotlib.axes._subplots.AxesSubplot at 0x7f2617732fd0>"
            ]
          },
          "metadata": {
            "tags": []
          },
          "execution_count": 34
        },
        {
          "output_type": "display_data",
          "data": {
            "image/png": "[encoded data removed]",
            "text/plain": [
              "<Figure size 1008x504 with 1 Axes>"
            ]
          },
          "metadata": {
            "tags": [],
            "needs_background": "light"
          }
        },
        {
          "output_type": "display_data",
          "data": {
            "image/png": "[encoded data removed]",
            "text/plain": [
              "<Figure size 1008x504 with 1 Axes>"
            ]
          },
          "metadata": {
            "tags": [],
            "needs_background": "light"
          }
        }
      ]
    },
    {
      "cell_type": "code",
      "metadata": {
        "colab": {
          "base_uri": "https://localhost:8080/",
          "height": 286
        },
        "id": "HfMKvkKLBxXN",
        "outputId": "04dd46de-f84b-4580-ffc2-d5e7f04abfad"
      },
      "source": [
        "# Plot forcasting Close price\n",
        "forecast_df = pd.DataFrame(forecast,index = df_valid.index,columns=['Prediction'])\n",
        "plt.plot(df_train['Close'],label='Close Training Data')\n",
        "plt.plot(df_valid['Close'],label='Close Test Data')\n",
        "plt.plot(forecast_df['Prediction'],label='Close Forecasting Data')\n",
        "plt.legend()"
      ],
      "execution_count": 35,
      "outputs": [
        {
          "output_type": "execute_result",
          "data": {
            "text/plain": [
              "<matplotlib.legend.Legend at 0x7f2614ecacd0>"
            ]
          },
          "metadata": {
            "tags": []
          },
          "execution_count": 35
        },
        {
          "output_type": "display_data",
          "data": {
            "image/png": "[encoded data removed]",
            "text/plain": [
              "<Figure size 432x288 with 1 Axes>"
            ]
          },
          "metadata": {
            "tags": [],
            "needs_background": "light"
          }
        }
      ]
    },
    {
      "cell_type": "code",
      "metadata": {
        "colab": {
          "base_uri": "https://localhost:8080/"
        },
        "id": "BTflMcSMCCZu",
        "outputId": "e1538d78-0913-46c2-a8c3-f4da86ed1f76"
      },
      "source": [
        "from sklearn.metrics import mean_absolute_error, mean_squared_error\n",
        "print(\"RMSE of Auto ARIMA:\", np.sqrt(mean_squared_error(df_valid.Close, df_valid.Forecast_ARIMA)))\n",
        "print(\"\\nMAE of Auto ARIMA:\", mean_absolute_error(df_valid.Close, df_valid.Forecast_ARIMA))"
      ],
      "execution_count": 37,
      "outputs": [
        {
          "output_type": "stream",
          "text": [
            "RMSE of Auto ARIMA: 1443.0959401460502\n",
            "\n",
            "MAE of Auto ARIMA: 1063.7831745963458\n"
          ],
          "name": "stdout"
        }
      ]
    },
    {
      "cell_type": "markdown",
      "metadata": {
        "id": "E3o_Ozk4yKBh"
      },
      "source": [
        "# Using ARIMAX for forcasting:"
      ]
    },
    {
      "cell_type": "code",
      "metadata": {
        "colab": {
          "base_uri": "https://localhost:8080/",
          "height": 195
        },
        "id": "G0urHrYhLaay",
        "outputId": "4c8826b6-c684-45af-8ed0-602391d373df"
      },
      "source": [
        "nifty_data.head()"
      ],
      "execution_count": 38,
      "outputs": [
        {
          "output_type": "execute_result",
          "data": {
            "text/html": [
              "<div>\n",
              "<style scoped>\n",
              "    .dataframe tbody tr th:only-of-type {\n",
              "        vertical-align: middle;\n",
              "    }\n",
              "\n",
              "    .dataframe tbody tr th {\n",
              "        vertical-align: top;\n",
              "    }\n",
              "\n",
              "    .dataframe thead th {\n",
              "        text-align: right;\n",
              "    }\n",
              "</style>\n",
              "<table border=\"1\" class=\"dataframe\">\n",
              "  <thead>\n",
              "    <tr style=\"text-align: right;\">\n",
              "      <th></th>\n",
              "      <th>Date</th>\n",
              "      <th>Open</th>\n",
              "      <th>High</th>\n",
              "      <th>Low</th>\n",
              "      <th>Close</th>\n",
              "    </tr>\n",
              "  </thead>\n",
              "  <tbody>\n",
              "    <tr>\n",
              "      <th>0</th>\n",
              "      <td>2000-01-03</td>\n",
              "      <td>1482.15</td>\n",
              "      <td>1592.90</td>\n",
              "      <td>1482.15</td>\n",
              "      <td>1592.2</td>\n",
              "    </tr>\n",
              "    <tr>\n",
              "      <th>1</th>\n",
              "      <td>2000-01-04</td>\n",
              "      <td>1594.40</td>\n",
              "      <td>1641.95</td>\n",
              "      <td>1594.40</td>\n",
              "      <td>1638.7</td>\n",
              "    </tr>\n",
              "    <tr>\n",
              "      <th>2</th>\n",
              "      <td>2000-01-05</td>\n",
              "      <td>1634.55</td>\n",
              "      <td>1635.50</td>\n",
              "      <td>1555.05</td>\n",
              "      <td>1595.8</td>\n",
              "    </tr>\n",
              "    <tr>\n",
              "      <th>3</th>\n",
              "      <td>2000-01-06</td>\n",
              "      <td>1595.80</td>\n",
              "      <td>1639.00</td>\n",
              "      <td>1595.80</td>\n",
              "      <td>1617.6</td>\n",
              "    </tr>\n",
              "    <tr>\n",
              "      <th>4</th>\n",
              "      <td>2000-01-07</td>\n",
              "      <td>1616.60</td>\n",
              "      <td>1628.25</td>\n",
              "      <td>1597.20</td>\n",
              "      <td>1613.3</td>\n",
              "    </tr>\n",
              "  </tbody>\n",
              "</table>\n",
              "</div>"
            ],
            "text/plain": [
              "         Date     Open     High      Low   Close\n",
              "0  2000-01-03  1482.15  1592.90  1482.15  1592.2\n",
              "1  2000-01-04  1594.40  1641.95  1594.40  1638.7\n",
              "2  2000-01-05  1634.55  1635.50  1555.05  1595.8\n",
              "3  2000-01-06  1595.80  1639.00  1595.80  1617.6\n",
              "4  2000-01-07  1616.60  1628.25  1597.20  1613.3"
            ]
          },
          "metadata": {
            "tags": []
          },
          "execution_count": 38
        }
      ]
    },
    {
      "cell_type": "code",
      "metadata": {
        "id": "6-yo8n7Ly1We"
      },
      "source": [
        "df= nifty_data.copy()\n",
        "df.dropna(inplace=True)"
      ],
      "execution_count": 39,
      "outputs": []
    },
    {
      "cell_type": "code",
      "metadata": {
        "colab": {
          "base_uri": "https://localhost:8080/",
          "height": 329
        },
        "id": "UdtUsM6X9_nW",
        "outputId": "20fb6701-0aec-4a96-a32f-465c6de6a124"
      },
      "source": [
        "df.reset_index(drop=True, inplace=True)\n",
        "lag_features = [\"Open\",\"High\", \"Low\", \"Close\"]\n",
        "window1 = 3\n",
        "window2 = 7\n",
        "window3 = 30\n",
        "\n",
        "df_rolled_3d = df[lag_features].rolling(window=window1, min_periods=0)\n",
        "df_rolled_7d = df[lag_features].rolling(window=window2, min_periods=0)\n",
        "df_rolled_30d = df[lag_features].rolling(window=window3, min_periods=0)\n",
        "\n",
        "df_mean_3d = df_rolled_3d.mean().shift(1).reset_index().astype(np.float32)\n",
        "df_mean_7d = df_rolled_7d.mean().shift(1).reset_index().astype(np.float32)\n",
        "df_mean_30d = df_rolled_30d.mean().shift(1).reset_index().astype(np.float32)\n",
        "\n",
        "df_std_3d = df_rolled_3d.std().shift(1).reset_index().astype(np.float32)\n",
        "df_std_7d = df_rolled_7d.std().shift(1).reset_index().astype(np.float32)\n",
        "df_std_30d = df_rolled_30d.std().shift(1).reset_index().astype(np.float32)\n",
        "\n",
        "for feature in lag_features:\n",
        "    df[f\"{feature}_mean_lag{window1}\"] = df_mean_3d[feature]\n",
        "    df[f\"{feature}_mean_lag{window2}\"] = df_mean_7d[feature]\n",
        "    df[f\"{feature}_mean_lag{window3}\"] = df_mean_30d[feature]\n",
        "    \n",
        "    df[f\"{feature}_std_lag{window1}\"] = df_std_3d[feature]\n",
        "    df[f\"{feature}_std_lag{window2}\"] = df_std_7d[feature]\n",
        "    df[f\"{feature}_std_lag{window3}\"] = df_std_30d[feature]\n",
        "\n",
        "df.fillna(df.mean(), inplace=True)\n",
        "df.set_index(\"Date\", drop=True, inplace=True)\n",
        "df.head()"
      ],
      "execution_count": 44,
      "outputs": [
        {
          "output_type": "execute_result",
          "data": {
            "text/html": [
              "<div>\n",
              "<style scoped>\n",
              "    .dataframe tbody tr th:only-of-type {\n",
              "        vertical-align: middle;\n",
              "    }\n",
              "\n",
              "    .dataframe tbody tr th {\n",
              "        vertical-align: top;\n",
              "    }\n",
              "\n",
              "    .dataframe thead th {\n",
              "        text-align: right;\n",
              "    }\n",
              "</style>\n",
              "<table border=\"1\" class=\"dataframe\">\n",
              "  <thead>\n",
              "    <tr style=\"text-align: right;\">\n",
              "      <th></th>\n",
              "      <th>Open</th>\n",
              "      <th>High</th>\n",
              "      <th>Low</th>\n",
              "      <th>Close</th>\n",
              "      <th>Open_mean_lag3</th>\n",
              "      <th>Open_mean_lag7</th>\n",
              "      <th>Open_mean_lag30</th>\n",
              "      <th>Open_std_lag3</th>\n",
              "      <th>Open_std_lag7</th>\n",
              "      <th>Open_std_lag30</th>\n",
              "      <th>High_mean_lag3</th>\n",
              "      <th>High_mean_lag7</th>\n",
              "      <th>High_mean_lag30</th>\n",
              "      <th>High_std_lag3</th>\n",
              "      <th>High_std_lag7</th>\n",
              "      <th>High_std_lag30</th>\n",
              "      <th>Low_mean_lag3</th>\n",
              "      <th>Low_mean_lag7</th>\n",
              "      <th>Low_mean_lag30</th>\n",
              "      <th>Low_std_lag3</th>\n",
              "      <th>Low_std_lag7</th>\n",
              "      <th>Low_std_lag30</th>\n",
              "      <th>Close_mean_lag3</th>\n",
              "      <th>Close_mean_lag7</th>\n",
              "      <th>Close_mean_lag30</th>\n",
              "      <th>Close_std_lag3</th>\n",
              "      <th>Close_std_lag7</th>\n",
              "      <th>Close_std_lag30</th>\n",
              "    </tr>\n",
              "    <tr>\n",
              "      <th>Date</th>\n",
              "      <th></th>\n",
              "      <th></th>\n",
              "      <th></th>\n",
              "      <th></th>\n",
              "      <th></th>\n",
              "      <th></th>\n",
              "      <th></th>\n",
              "      <th></th>\n",
              "      <th></th>\n",
              "      <th></th>\n",
              "      <th></th>\n",
              "      <th></th>\n",
              "      <th></th>\n",
              "      <th></th>\n",
              "      <th></th>\n",
              "      <th></th>\n",
              "      <th></th>\n",
              "      <th></th>\n",
              "      <th></th>\n",
              "      <th></th>\n",
              "      <th></th>\n",
              "      <th></th>\n",
              "      <th></th>\n",
              "      <th></th>\n",
              "      <th></th>\n",
              "      <th></th>\n",
              "      <th></th>\n",
              "      <th></th>\n",
              "    </tr>\n",
              "  </thead>\n",
              "  <tbody>\n",
              "    <tr>\n",
              "      <th>2000-01-03</th>\n",
              "      <td>1482.15</td>\n",
              "      <td>1592.90</td>\n",
              "      <td>1482.15</td>\n",
              "      <td>1592.2</td>\n",
              "      <td>5547.483398</td>\n",
              "      <td>5542.514160</td>\n",
              "      <td>5514.119141</td>\n",
              "      <td>45.522327</td>\n",
              "      <td>68.892075</td>\n",
              "      <td>141.049759</td>\n",
              "      <td>5584.558594</td>\n",
              "      <td>5579.578125</td>\n",
              "      <td>5551.036133</td>\n",
              "      <td>38.862560</td>\n",
              "      <td>62.409687</td>\n",
              "      <td>135.257034</td>\n",
              "      <td>5502.552246</td>\n",
              "      <td>5497.606445</td>\n",
              "      <td>5469.410156</td>\n",
              "      <td>43.983521</td>\n",
              "      <td>69.701912</td>\n",
              "      <td>144.373383</td>\n",
              "      <td>5544.258789</td>\n",
              "      <td>5539.302246</td>\n",
              "      <td>5510.930664</td>\n",
              "      <td>44.819336</td>\n",
              "      <td>68.637215</td>\n",
              "      <td>140.728851</td>\n",
              "    </tr>\n",
              "    <tr>\n",
              "      <th>2000-01-04</th>\n",
              "      <td>1594.40</td>\n",
              "      <td>1641.95</td>\n",
              "      <td>1594.40</td>\n",
              "      <td>1638.7</td>\n",
              "      <td>1482.150024</td>\n",
              "      <td>1482.150024</td>\n",
              "      <td>1482.150024</td>\n",
              "      <td>45.522327</td>\n",
              "      <td>68.892075</td>\n",
              "      <td>141.049759</td>\n",
              "      <td>1592.900024</td>\n",
              "      <td>1592.900024</td>\n",
              "      <td>1592.900024</td>\n",
              "      <td>38.862560</td>\n",
              "      <td>62.409687</td>\n",
              "      <td>135.257034</td>\n",
              "      <td>1482.150024</td>\n",
              "      <td>1482.150024</td>\n",
              "      <td>1482.150024</td>\n",
              "      <td>43.983521</td>\n",
              "      <td>69.701912</td>\n",
              "      <td>144.373383</td>\n",
              "      <td>1592.199951</td>\n",
              "      <td>1592.199951</td>\n",
              "      <td>1592.199951</td>\n",
              "      <td>44.819336</td>\n",
              "      <td>68.637215</td>\n",
              "      <td>140.728851</td>\n",
              "    </tr>\n",
              "    <tr>\n",
              "      <th>2000-01-05</th>\n",
              "      <td>1634.55</td>\n",
              "      <td>1635.50</td>\n",
              "      <td>1555.05</td>\n",
              "      <td>1595.8</td>\n",
              "      <td>1538.275024</td>\n",
              "      <td>1538.275024</td>\n",
              "      <td>1538.275024</td>\n",
              "      <td>79.372734</td>\n",
              "      <td>79.372734</td>\n",
              "      <td>79.372734</td>\n",
              "      <td>1617.425049</td>\n",
              "      <td>1617.425049</td>\n",
              "      <td>1617.425049</td>\n",
              "      <td>34.683586</td>\n",
              "      <td>34.683586</td>\n",
              "      <td>34.683586</td>\n",
              "      <td>1538.275024</td>\n",
              "      <td>1538.275024</td>\n",
              "      <td>1538.275024</td>\n",
              "      <td>79.372734</td>\n",
              "      <td>79.372734</td>\n",
              "      <td>79.372734</td>\n",
              "      <td>1615.449951</td>\n",
              "      <td>1615.449951</td>\n",
              "      <td>1615.449951</td>\n",
              "      <td>32.880466</td>\n",
              "      <td>32.880466</td>\n",
              "      <td>32.880466</td>\n",
              "    </tr>\n",
              "    <tr>\n",
              "      <th>2000-01-06</th>\n",
              "      <td>1595.80</td>\n",
              "      <td>1639.00</td>\n",
              "      <td>1595.80</td>\n",
              "      <td>1617.6</td>\n",
              "      <td>1570.366699</td>\n",
              "      <td>1570.366699</td>\n",
              "      <td>1570.366699</td>\n",
              "      <td>78.991394</td>\n",
              "      <td>78.991394</td>\n",
              "      <td>78.991394</td>\n",
              "      <td>1623.449951</td>\n",
              "      <td>1623.449951</td>\n",
              "      <td>1623.449951</td>\n",
              "      <td>26.652908</td>\n",
              "      <td>26.652908</td>\n",
              "      <td>26.652908</td>\n",
              "      <td>1543.866699</td>\n",
              "      <td>1543.866699</td>\n",
              "      <td>1543.866699</td>\n",
              "      <td>56.954506</td>\n",
              "      <td>56.954506</td>\n",
              "      <td>56.954506</td>\n",
              "      <td>1608.900024</td>\n",
              "      <td>1608.900024</td>\n",
              "      <td>1608.900024</td>\n",
              "      <td>25.870253</td>\n",
              "      <td>25.870253</td>\n",
              "      <td>25.870253</td>\n",
              "    </tr>\n",
              "    <tr>\n",
              "      <th>2000-01-07</th>\n",
              "      <td>1616.60</td>\n",
              "      <td>1628.25</td>\n",
              "      <td>1597.20</td>\n",
              "      <td>1613.3</td>\n",
              "      <td>1608.250000</td>\n",
              "      <td>1576.724976</td>\n",
              "      <td>1576.724976</td>\n",
              "      <td>22.787222</td>\n",
              "      <td>65.737923</td>\n",
              "      <td>65.737923</td>\n",
              "      <td>1638.816650</td>\n",
              "      <td>1627.337524</td>\n",
              "      <td>1627.337524</td>\n",
              "      <td>3.228906</td>\n",
              "      <td>23.109211</td>\n",
              "      <td>23.109211</td>\n",
              "      <td>1581.750000</td>\n",
              "      <td>1556.849976</td>\n",
              "      <td>1556.849976</td>\n",
              "      <td>23.133471</td>\n",
              "      <td>53.261726</td>\n",
              "      <td>53.261726</td>\n",
              "      <td>1617.366699</td>\n",
              "      <td>1611.074951</td>\n",
              "      <td>1611.074951</td>\n",
              "      <td>21.450953</td>\n",
              "      <td>21.566235</td>\n",
              "      <td>21.566235</td>\n",
              "    </tr>\n",
              "  </tbody>\n",
              "</table>\n",
              "</div>"
            ],
            "text/plain": [
              "               Open     High  ...  Close_std_lag7  Close_std_lag30\n",
              "Date                          ...                                 \n",
              "2000-01-03  1482.15  1592.90  ...       68.637215       140.728851\n",
              "2000-01-04  1594.40  1641.95  ...       68.637215       140.728851\n",
              "2000-01-05  1634.55  1635.50  ...       32.880466        32.880466\n",
              "2000-01-06  1595.80  1639.00  ...       25.870253        25.870253\n",
              "2000-01-07  1616.60  1628.25  ...       21.566235        21.566235\n",
              "\n",
              "[5 rows x 28 columns]"
            ]
          },
          "metadata": {
            "tags": []
          },
          "execution_count": 44
        }
      ]
    },
    {
      "cell_type": "code",
      "metadata": {
        "id": "_6h4e9-fuPEL"
      },
      "source": [
        "df_train = df[df.index < \"2019\"]\n",
        "df_valid = df[df.index >= \"2019\"]"
      ],
      "execution_count": 45,
      "outputs": []
    },
    {
      "cell_type": "code",
      "metadata": {
        "colab": {
          "base_uri": "https://localhost:8080/"
        },
        "id": "iQmrgLu5CiRB",
        "outputId": "034929a3-6cf7-4854-edb4-a9a2f135d541"
      },
      "source": [
        "df_train.shape"
      ],
      "execution_count": 46,
      "outputs": [
        {
          "output_type": "execute_result",
          "data": {
            "text/plain": [
              "(4690, 28)"
            ]
          },
          "metadata": {
            "tags": []
          },
          "execution_count": 46
        }
      ]
    },
    {
      "cell_type": "code",
      "metadata": {
        "id": "G8ALo9JXumf_"
      },
      "source": [
        "exogenous_features= ['Open_mean_lag3', 'Open_mean_lag7',\n",
        "       'Open_mean_lag30', 'Open_std_lag3', 'Open_std_lag7', 'Open_std_lag30',\n",
        "       'High_mean_lag3', 'High_mean_lag7', 'High_mean_lag30', 'High_std_lag3',\n",
        "       'High_std_lag7', 'High_std_lag30', 'Low_mean_lag3', 'Low_mean_lag7',\n",
        "       'Low_mean_lag30', 'Low_std_lag3', 'Low_std_lag7', 'Low_std_lag30',\n",
        "       'Close_mean_lag3', 'Close_mean_lag7', 'Close_mean_lag30',\n",
        "       'Close_std_lag3', 'Close_std_lag7', 'Close_std_lag30']"
      ],
      "execution_count": 47,
      "outputs": []
    },
    {
      "cell_type": "code",
      "metadata": {
        "id": "v5srSwcpoL3-",
        "colab": {
          "base_uri": "https://localhost:8080/"
        },
        "outputId": "fb63ea1e-c70a-4fc3-8a9a-c38be2deb53e"
      },
      "source": [
        "model = auto_arima(df_train.Close, exogenous=df_train[exogenous_features], trace=True, error_action=\"ignore\", suppress_warnings=True)\n",
        "model.fit(df_train.Close, exogenous=df_train[exogenous_features])\n",
        "\n",
        "forecast = model.predict(n_periods=len(df_valid), exogenous=df_valid[exogenous_features])\n",
        "df_valid[\"Forecast_ARIMAX\"] = forecast"
      ],
      "execution_count": 44,
      "outputs": [
        {
          "output_type": "stream",
          "text": [
            "Performing stepwise search to minimize aic\n",
            " ARIMA(2,0,2)(0,0,0)[0] intercept   : AIC=55849.574, Time=46.75 sec\n",
            " ARIMA(0,0,0)(0,0,0)[0] intercept   : AIC=55645.695, Time=6.14 sec\n",
            " ARIMA(1,0,0)(0,0,0)[0] intercept   : AIC=55587.972, Time=26.25 sec\n",
            " ARIMA(0,0,1)(0,0,0)[0] intercept   : AIC=56024.239, Time=37.30 sec\n",
            " ARIMA(0,0,0)(0,0,0)[0]             : AIC=57996.930, Time=35.88 sec\n",
            " ARIMA(2,0,0)(0,0,0)[0] intercept   : AIC=55781.521, Time=39.47 sec\n",
            " ARIMA(1,0,1)(0,0,0)[0] intercept   : AIC=55615.998, Time=46.10 sec\n",
            " ARIMA(2,0,1)(0,0,0)[0] intercept   : AIC=56163.215, Time=36.32 sec\n",
            " ARIMA(1,0,0)(0,0,0)[0]             : AIC=55685.094, Time=26.89 sec\n",
            "\n",
            "Best model:  ARIMA(1,0,0)(0,0,0)[0] intercept\n",
            "Total fit time: 301.147 seconds\n"
          ],
          "name": "stdout"
        },
        {
          "output_type": "stream",
          "text": [
            "/usr/local/lib/python3.7/dist-packages/statsmodels/tsa/base/tsa_model.py:379: ValueWarning: No supported index is available. Prediction results will be given with an integer index beginning at `start`.\n",
            "  ValueWarning)\n",
            "/usr/local/lib/python3.7/dist-packages/ipykernel_launcher.py:5: SettingWithCopyWarning: \n",
            "A value is trying to be set on a copy of a slice from a DataFrame.\n",
            "Try using .loc[row_indexer,col_indexer] = value instead\n",
            "\n",
            "See the caveats in the documentation: https://pandas.pydata.org/pandas-docs/stable/user_guide/indexing.html#returning-a-view-versus-a-copy\n",
            "  \"\"\"\n"
          ],
          "name": "stderr"
        }
      ]
    },
    {
      "cell_type": "code",
      "metadata": {
        "colab": {
          "base_uri": "https://localhost:8080/",
          "height": 923
        },
        "id": "zk_NFOK-oL08",
        "outputId": "df9f9b5d-233d-4976-b216-855820652a46"
      },
      "source": [
        "df_train.plot(figsize=(14, 7))\n",
        "df_valid[[\"Close\", \"Forecast_ARIMAX\"]].plot(figsize=(14, 7))"
      ],
      "execution_count": 45,
      "outputs": [
        {
          "output_type": "execute_result",
          "data": {
            "text/plain": [
              "<matplotlib.axes._subplots.AxesSubplot at 0x7fde68b34fd0>"
            ]
          },
          "metadata": {
            "tags": []
          },
          "execution_count": 45
        },
        {
          "output_type": "display_data",
          "data": {
            "image/png": "[encoded data removed]",
            "text/plain": [
              "<Figure size 1008x504 with 1 Axes>"
            ]
          },
          "metadata": {
            "tags": [],
            "needs_background": "light"
          }
        },
        {
          "output_type": "display_data",
          "data": {
            "image/png": "[encoded data removed]",
            "text/plain": [
              "<Figure size 1008x504 with 1 Axes>"
            ]
          },
          "metadata": {
            "tags": [],
            "needs_background": "light"
          }
        }
      ]
    },
    {
      "cell_type": "code",
      "metadata": {
        "colab": {
          "base_uri": "https://localhost:8080/"
        },
        "id": "W6wQjksbApoQ",
        "outputId": "3190ab82-6864-4d04-d50e-714d34f2c061"
      },
      "source": [
        "df_valid['Close']"
      ],
      "execution_count": 75,
      "outputs": [
        {
          "output_type": "execute_result",
          "data": {
            "text/plain": [
              "Date\n",
              "2019-01-02    10792.500000\n",
              "2019-01-03    10672.250000\n",
              "2019-01-04    10727.349609\n",
              "2019-01-07    10771.799805\n",
              "2019-01-08    10802.150391\n",
              "                  ...     \n",
              "2021-05-04    14496.500000\n",
              "2021-05-05    14617.849609\n",
              "2021-05-06    14724.799805\n",
              "2021-05-07    14823.150391\n",
              "2021-05-10    14942.349609\n",
              "Name: Close, Length: 576, dtype: float64"
            ]
          },
          "metadata": {
            "tags": []
          },
          "execution_count": 75
        }
      ]
    },
    {
      "cell_type": "code",
      "metadata": {
        "colab": {
          "base_uri": "https://localhost:8080/",
          "height": 286
        },
        "id": "1Y3APGMq_7Ai",
        "outputId": "460ad9d2-280b-4e16-cf07-57228457c45b"
      },
      "source": [
        "# Plot forcasting Close price\n",
        "forecast_df = pd.DataFrame(forecast,index = df_valid.index,columns=['Prediction'])\n",
        "plt.plot(df_train['Close'],label='Close Training Data')\n",
        "plt.plot(df_valid['Close'],label='Close Test Data')\n",
        "plt.plot(forecast_df['Prediction'],label='Close Forecasting Data')\n",
        "plt.legend()"
      ],
      "execution_count": 78,
      "outputs": [
        {
          "output_type": "execute_result",
          "data": {
            "text/plain": [
              "<matplotlib.legend.Legend at 0x7fde59f63a10>"
            ]
          },
          "metadata": {
            "tags": []
          },
          "execution_count": 78
        },
        {
          "output_type": "display_data",
          "data": {
            "image/png": "[encoded data removed]",
            "text/plain": [
              "<Figure size 432x288 with 1 Axes>"
            ]
          },
          "metadata": {
            "tags": [],
            "needs_background": "light"
          }
        }
      ]
    },
    {
      "cell_type": "code",
      "metadata": {
        "colab": {
          "base_uri": "https://localhost:8080/"
        },
        "id": "o_lxNNePoLtg",
        "outputId": "77dfe3dc-3309-4378-fdc8-e23930555237"
      },
      "source": [
        "from sklearn.metrics import mean_absolute_error, mean_squared_error\n",
        "print(\"RMSE of Auto ARIMAX:\", np.sqrt(mean_squared_error(df_valid.Close, df_valid.Forecast_ARIMAX)))\n",
        "print(\"\\nMAE of Auto ARIMAX:\", mean_absolute_error(df_valid.Close, df_valid.Forecast_ARIMAX))"
      ],
      "execution_count": 46,
      "outputs": [
        {
          "output_type": "stream",
          "text": [
            "RMSE of Auto ARIMAX: 666.2609346258823\n",
            "\n",
            "MAE of Auto ARIMAX: 496.2560709657612\n"
          ],
          "name": "stdout"
        }
      ]
    },
    {
      "cell_type": "markdown",
      "metadata": {
        "id": "xeAFijG1pbXw"
      },
      "source": [
        "## Objective 2: \n",
        "The problem is further simplified to just predict the direction of nifty index movements in the next N days (throughout our experiments N can take values 1, 5, and 30). Initially, we will take N=1, that means we want to predict the NIFTY 50 index movement in the next day. This is represented as a classification task where there are two possible outcomes (either the index went up in the next day or it went down)."
      ]
    },
    {
      "cell_type": "markdown",
      "metadata": {
        "id": "8NcRrNQuGZtR"
      },
      "source": [
        "### Creating the dependent variable which we want to predict"
      ]
    },
    {
      "cell_type": "code",
      "metadata": {
        "id": "4NpNjk60-S2u"
      },
      "source": [
        "df= nifty_df.copy()"
      ],
      "execution_count": 15,
      "outputs": []
    },
    {
      "cell_type": "code",
      "metadata": {
        "id": "1viRHF36GZtS"
      },
      "source": [
        "# Create the dependent variable..we want to predict the directionality of index movement in nexrt 5 minutes\n",
        "df.loc[(df['Close']-df['Close'].shift(1)) < 0,'target']=1\n",
        "df.loc[(df['Close']-df['Close'].shift(1)) >= 0,'target']=0"
      ],
      "execution_count": 16,
      "outputs": []
    },
    {
      "cell_type": "markdown",
      "metadata": {
        "id": "hIdDdy5SGZtS"
      },
      "source": [
        "### Obtaining the class distribution of both classes of our dependent variable"
      ]
    },
    {
      "cell_type": "code",
      "metadata": {
        "id": "nv24qVXyGZtS",
        "colab": {
          "base_uri": "https://localhost:8080/"
        },
        "outputId": "99725b91-dce6-4282-f1a0-2864dfb2763b"
      },
      "source": [
        "df.target.value_counts()"
      ],
      "execution_count": 17,
      "outputs": [
        {
          "output_type": "execute_result",
          "data": {
            "text/plain": [
              "0.0    2821\n",
              "1.0    2413\n",
              "Name: target, dtype: int64"
            ]
          },
          "metadata": {
            "tags": []
          },
          "execution_count": 17
        }
      ]
    },
    {
      "cell_type": "code",
      "metadata": {
        "id": "sJmlTXwtGZtT",
        "colab": {
          "base_uri": "https://localhost:8080/"
        },
        "outputId": "33cd835c-5646-4aaa-f052-510a0d6afb7a"
      },
      "source": [
        "df.shape"
      ],
      "execution_count": 18,
      "outputs": [
        {
          "output_type": "execute_result",
          "data": {
            "text/plain": [
              "(5301, 5)"
            ]
          },
          "metadata": {
            "tags": []
          },
          "execution_count": 18
        }
      ]
    },
    {
      "cell_type": "code",
      "metadata": {
        "colab": {
          "base_uri": "https://localhost:8080/",
          "height": 449
        },
        "id": "0CXOaEPLJCFs",
        "outputId": "60bb3b16-d631-4aac-c37f-6adfce777973"
      },
      "source": [
        " ## Correlation heat map\n",
        "import seaborn as sns\n",
        "plt.figure(figsize=(14,7))\n",
        "correlation = df.corr()\n",
        "sns.heatmap(correlation, annot=True, cmap='coolwarm')"
      ],
      "execution_count": 19,
      "outputs": [
        {
          "output_type": "execute_result",
          "data": {
            "text/plain": [
              "<matplotlib.axes._subplots.AxesSubplot at 0x7febdc73a910>"
            ]
          },
          "metadata": {
            "tags": []
          },
          "execution_count": 19
        },
        {
          "output_type": "display_data",
          "data": {
            "image/png": "[encoded data removed]",
            "text/plain": [
              "<Figure size 1008x504 with 2 Axes>"
            ]
          },
          "metadata": {
            "tags": [],
            "needs_background": "light"
          }
        }
      ]
    },
    {
      "cell_type": "markdown",
      "metadata": {
        "id": "qgk3EuUsGZtU"
      },
      "source": [
        "## Feature Engineering"
      ]
    },
    {
      "cell_type": "code",
      "metadata": {
        "id": "-1otHvhsG64r"
      },
      "source": [
        "# Creating features with lags\n",
        "def create_lag_vars(df,lags,col):   \n",
        "  var_name = col+'_lag_' + str(lags)\n",
        "  df[var_name] = df[col].shift(lags)"
      ],
      "execution_count": 20,
      "outputs": []
    },
    {
      "cell_type": "code",
      "metadata": {
        "id": "19UutLL6G62C"
      },
      "source": [
        "cols= ['High','Low','Open','Close']\n",
        "lags = [1,5,7,10,12,30]\n",
        "for col in cols:\n",
        "   for lag in lags:\n",
        "     create_lag_vars(df,lag,col)"
      ],
      "execution_count": 21,
      "outputs": []
    },
    {
      "cell_type": "code",
      "metadata": {
        "colab": {
          "base_uri": "https://localhost:8080/",
          "height": 561
        },
        "id": "RC2k5UfdG6zd",
        "outputId": "56338cd0-fc04-44cd-ff16-e5bfc4fcc07e"
      },
      "source": [
        "df.head(10)"
      ],
      "execution_count": 22,
      "outputs": [
        {
          "output_type": "execute_result",
          "data": {
            "text/html": [
              "<div>\n",
              "<style scoped>\n",
              "    .dataframe tbody tr th:only-of-type {\n",
              "        vertical-align: middle;\n",
              "    }\n",
              "\n",
              "    .dataframe tbody tr th {\n",
              "        vertical-align: top;\n",
              "    }\n",
              "\n",
              "    .dataframe thead th {\n",
              "        text-align: right;\n",
              "    }\n",
              "</style>\n",
              "<table border=\"1\" class=\"dataframe\">\n",
              "  <thead>\n",
              "    <tr style=\"text-align: right;\">\n",
              "      <th></th>\n",
              "      <th>Open</th>\n",
              "      <th>High</th>\n",
              "      <th>Low</th>\n",
              "      <th>Close</th>\n",
              "      <th>target</th>\n",
              "      <th>High_lag_1</th>\n",
              "      <th>High_lag_5</th>\n",
              "      <th>High_lag_6</th>\n",
              "      <th>High_lag_7</th>\n",
              "      <th>High_lag_8</th>\n",
              "      <th>High_lag_10</th>\n",
              "      <th>High_lag_12</th>\n",
              "      <th>Low_lag_1</th>\n",
              "      <th>Low_lag_5</th>\n",
              "      <th>Low_lag_6</th>\n",
              "      <th>Low_lag_7</th>\n",
              "      <th>Low_lag_8</th>\n",
              "      <th>Low_lag_10</th>\n",
              "      <th>Low_lag_12</th>\n",
              "      <th>Open_lag_1</th>\n",
              "      <th>Open_lag_5</th>\n",
              "      <th>Open_lag_6</th>\n",
              "      <th>Open_lag_7</th>\n",
              "      <th>Open_lag_8</th>\n",
              "      <th>Open_lag_10</th>\n",
              "      <th>Open_lag_12</th>\n",
              "      <th>Close_lag_1</th>\n",
              "      <th>Close_lag_5</th>\n",
              "      <th>Close_lag_6</th>\n",
              "      <th>Close_lag_7</th>\n",
              "      <th>Close_lag_8</th>\n",
              "      <th>Close_lag_10</th>\n",
              "      <th>Close_lag_12</th>\n",
              "    </tr>\n",
              "    <tr>\n",
              "      <th>Date</th>\n",
              "      <th></th>\n",
              "      <th></th>\n",
              "      <th></th>\n",
              "      <th></th>\n",
              "      <th></th>\n",
              "      <th></th>\n",
              "      <th></th>\n",
              "      <th></th>\n",
              "      <th></th>\n",
              "      <th></th>\n",
              "      <th></th>\n",
              "      <th></th>\n",
              "      <th></th>\n",
              "      <th></th>\n",
              "      <th></th>\n",
              "      <th></th>\n",
              "      <th></th>\n",
              "      <th></th>\n",
              "      <th></th>\n",
              "      <th></th>\n",
              "      <th></th>\n",
              "      <th></th>\n",
              "      <th></th>\n",
              "      <th></th>\n",
              "      <th></th>\n",
              "      <th></th>\n",
              "      <th></th>\n",
              "      <th></th>\n",
              "      <th></th>\n",
              "      <th></th>\n",
              "      <th></th>\n",
              "      <th></th>\n",
              "      <th></th>\n",
              "    </tr>\n",
              "  </thead>\n",
              "  <tbody>\n",
              "    <tr>\n",
              "      <th>2000-01-03</th>\n",
              "      <td>1482.15</td>\n",
              "      <td>1592.90</td>\n",
              "      <td>1482.15</td>\n",
              "      <td>1592.20</td>\n",
              "      <td>NaN</td>\n",
              "      <td>NaN</td>\n",
              "      <td>NaN</td>\n",
              "      <td>NaN</td>\n",
              "      <td>NaN</td>\n",
              "      <td>NaN</td>\n",
              "      <td>NaN</td>\n",
              "      <td>NaN</td>\n",
              "      <td>NaN</td>\n",
              "      <td>NaN</td>\n",
              "      <td>NaN</td>\n",
              "      <td>NaN</td>\n",
              "      <td>NaN</td>\n",
              "      <td>NaN</td>\n",
              "      <td>NaN</td>\n",
              "      <td>NaN</td>\n",
              "      <td>NaN</td>\n",
              "      <td>NaN</td>\n",
              "      <td>NaN</td>\n",
              "      <td>NaN</td>\n",
              "      <td>NaN</td>\n",
              "      <td>NaN</td>\n",
              "      <td>NaN</td>\n",
              "      <td>NaN</td>\n",
              "      <td>NaN</td>\n",
              "      <td>NaN</td>\n",
              "      <td>NaN</td>\n",
              "      <td>NaN</td>\n",
              "      <td>NaN</td>\n",
              "    </tr>\n",
              "    <tr>\n",
              "      <th>2000-01-04</th>\n",
              "      <td>1594.40</td>\n",
              "      <td>1641.95</td>\n",
              "      <td>1594.40</td>\n",
              "      <td>1638.70</td>\n",
              "      <td>0.0</td>\n",
              "      <td>1592.90</td>\n",
              "      <td>NaN</td>\n",
              "      <td>NaN</td>\n",
              "      <td>NaN</td>\n",
              "      <td>NaN</td>\n",
              "      <td>NaN</td>\n",
              "      <td>NaN</td>\n",
              "      <td>1482.15</td>\n",
              "      <td>NaN</td>\n",
              "      <td>NaN</td>\n",
              "      <td>NaN</td>\n",
              "      <td>NaN</td>\n",
              "      <td>NaN</td>\n",
              "      <td>NaN</td>\n",
              "      <td>1482.15</td>\n",
              "      <td>NaN</td>\n",
              "      <td>NaN</td>\n",
              "      <td>NaN</td>\n",
              "      <td>NaN</td>\n",
              "      <td>NaN</td>\n",
              "      <td>NaN</td>\n",
              "      <td>1592.20</td>\n",
              "      <td>NaN</td>\n",
              "      <td>NaN</td>\n",
              "      <td>NaN</td>\n",
              "      <td>NaN</td>\n",
              "      <td>NaN</td>\n",
              "      <td>NaN</td>\n",
              "    </tr>\n",
              "    <tr>\n",
              "      <th>2000-01-05</th>\n",
              "      <td>1634.55</td>\n",
              "      <td>1635.50</td>\n",
              "      <td>1555.05</td>\n",
              "      <td>1595.80</td>\n",
              "      <td>1.0</td>\n",
              "      <td>1641.95</td>\n",
              "      <td>NaN</td>\n",
              "      <td>NaN</td>\n",
              "      <td>NaN</td>\n",
              "      <td>NaN</td>\n",
              "      <td>NaN</td>\n",
              "      <td>NaN</td>\n",
              "      <td>1594.40</td>\n",
              "      <td>NaN</td>\n",
              "      <td>NaN</td>\n",
              "      <td>NaN</td>\n",
              "      <td>NaN</td>\n",
              "      <td>NaN</td>\n",
              "      <td>NaN</td>\n",
              "      <td>1594.40</td>\n",
              "      <td>NaN</td>\n",
              "      <td>NaN</td>\n",
              "      <td>NaN</td>\n",
              "      <td>NaN</td>\n",
              "      <td>NaN</td>\n",
              "      <td>NaN</td>\n",
              "      <td>1638.70</td>\n",
              "      <td>NaN</td>\n",
              "      <td>NaN</td>\n",
              "      <td>NaN</td>\n",
              "      <td>NaN</td>\n",
              "      <td>NaN</td>\n",
              "      <td>NaN</td>\n",
              "    </tr>\n",
              "    <tr>\n",
              "      <th>2000-01-06</th>\n",
              "      <td>1595.80</td>\n",
              "      <td>1639.00</td>\n",
              "      <td>1595.80</td>\n",
              "      <td>1617.60</td>\n",
              "      <td>0.0</td>\n",
              "      <td>1635.50</td>\n",
              "      <td>NaN</td>\n",
              "      <td>NaN</td>\n",
              "      <td>NaN</td>\n",
              "      <td>NaN</td>\n",
              "      <td>NaN</td>\n",
              "      <td>NaN</td>\n",
              "      <td>1555.05</td>\n",
              "      <td>NaN</td>\n",
              "      <td>NaN</td>\n",
              "      <td>NaN</td>\n",
              "      <td>NaN</td>\n",
              "      <td>NaN</td>\n",
              "      <td>NaN</td>\n",
              "      <td>1634.55</td>\n",
              "      <td>NaN</td>\n",
              "      <td>NaN</td>\n",
              "      <td>NaN</td>\n",
              "      <td>NaN</td>\n",
              "      <td>NaN</td>\n",
              "      <td>NaN</td>\n",
              "      <td>1595.80</td>\n",
              "      <td>NaN</td>\n",
              "      <td>NaN</td>\n",
              "      <td>NaN</td>\n",
              "      <td>NaN</td>\n",
              "      <td>NaN</td>\n",
              "      <td>NaN</td>\n",
              "    </tr>\n",
              "    <tr>\n",
              "      <th>2000-01-07</th>\n",
              "      <td>1616.60</td>\n",
              "      <td>1628.25</td>\n",
              "      <td>1597.20</td>\n",
              "      <td>1613.30</td>\n",
              "      <td>1.0</td>\n",
              "      <td>1639.00</td>\n",
              "      <td>NaN</td>\n",
              "      <td>NaN</td>\n",
              "      <td>NaN</td>\n",
              "      <td>NaN</td>\n",
              "      <td>NaN</td>\n",
              "      <td>NaN</td>\n",
              "      <td>1595.80</td>\n",
              "      <td>NaN</td>\n",
              "      <td>NaN</td>\n",
              "      <td>NaN</td>\n",
              "      <td>NaN</td>\n",
              "      <td>NaN</td>\n",
              "      <td>NaN</td>\n",
              "      <td>1595.80</td>\n",
              "      <td>NaN</td>\n",
              "      <td>NaN</td>\n",
              "      <td>NaN</td>\n",
              "      <td>NaN</td>\n",
              "      <td>NaN</td>\n",
              "      <td>NaN</td>\n",
              "      <td>1617.60</td>\n",
              "      <td>NaN</td>\n",
              "      <td>NaN</td>\n",
              "      <td>NaN</td>\n",
              "      <td>NaN</td>\n",
              "      <td>NaN</td>\n",
              "      <td>NaN</td>\n",
              "    </tr>\n",
              "    <tr>\n",
              "      <th>2000-01-10</th>\n",
              "      <td>1615.65</td>\n",
              "      <td>1662.10</td>\n",
              "      <td>1614.95</td>\n",
              "      <td>1632.95</td>\n",
              "      <td>0.0</td>\n",
              "      <td>1628.25</td>\n",
              "      <td>1592.90</td>\n",
              "      <td>NaN</td>\n",
              "      <td>NaN</td>\n",
              "      <td>NaN</td>\n",
              "      <td>NaN</td>\n",
              "      <td>NaN</td>\n",
              "      <td>1597.20</td>\n",
              "      <td>1482.15</td>\n",
              "      <td>NaN</td>\n",
              "      <td>NaN</td>\n",
              "      <td>NaN</td>\n",
              "      <td>NaN</td>\n",
              "      <td>NaN</td>\n",
              "      <td>1616.60</td>\n",
              "      <td>1482.15</td>\n",
              "      <td>NaN</td>\n",
              "      <td>NaN</td>\n",
              "      <td>NaN</td>\n",
              "      <td>NaN</td>\n",
              "      <td>NaN</td>\n",
              "      <td>1613.30</td>\n",
              "      <td>1592.2</td>\n",
              "      <td>NaN</td>\n",
              "      <td>NaN</td>\n",
              "      <td>NaN</td>\n",
              "      <td>NaN</td>\n",
              "      <td>NaN</td>\n",
              "    </tr>\n",
              "    <tr>\n",
              "      <th>2000-01-11</th>\n",
              "      <td>1633.25</td>\n",
              "      <td>1639.90</td>\n",
              "      <td>1548.25</td>\n",
              "      <td>1572.50</td>\n",
              "      <td>1.0</td>\n",
              "      <td>1662.10</td>\n",
              "      <td>1641.95</td>\n",
              "      <td>1592.90</td>\n",
              "      <td>NaN</td>\n",
              "      <td>NaN</td>\n",
              "      <td>NaN</td>\n",
              "      <td>NaN</td>\n",
              "      <td>1614.95</td>\n",
              "      <td>1594.40</td>\n",
              "      <td>1482.15</td>\n",
              "      <td>NaN</td>\n",
              "      <td>NaN</td>\n",
              "      <td>NaN</td>\n",
              "      <td>NaN</td>\n",
              "      <td>1615.65</td>\n",
              "      <td>1594.40</td>\n",
              "      <td>1482.15</td>\n",
              "      <td>NaN</td>\n",
              "      <td>NaN</td>\n",
              "      <td>NaN</td>\n",
              "      <td>NaN</td>\n",
              "      <td>1632.95</td>\n",
              "      <td>1638.7</td>\n",
              "      <td>1592.2</td>\n",
              "      <td>NaN</td>\n",
              "      <td>NaN</td>\n",
              "      <td>NaN</td>\n",
              "      <td>NaN</td>\n",
              "    </tr>\n",
              "    <tr>\n",
              "      <th>2000-01-12</th>\n",
              "      <td>1572.30</td>\n",
              "      <td>1631.55</td>\n",
              "      <td>1571.70</td>\n",
              "      <td>1624.80</td>\n",
              "      <td>0.0</td>\n",
              "      <td>1639.90</td>\n",
              "      <td>1635.50</td>\n",
              "      <td>1641.95</td>\n",
              "      <td>1592.90</td>\n",
              "      <td>NaN</td>\n",
              "      <td>NaN</td>\n",
              "      <td>NaN</td>\n",
              "      <td>1548.25</td>\n",
              "      <td>1555.05</td>\n",
              "      <td>1594.40</td>\n",
              "      <td>1482.15</td>\n",
              "      <td>NaN</td>\n",
              "      <td>NaN</td>\n",
              "      <td>NaN</td>\n",
              "      <td>1633.25</td>\n",
              "      <td>1634.55</td>\n",
              "      <td>1594.40</td>\n",
              "      <td>1482.15</td>\n",
              "      <td>NaN</td>\n",
              "      <td>NaN</td>\n",
              "      <td>NaN</td>\n",
              "      <td>1572.50</td>\n",
              "      <td>1595.8</td>\n",
              "      <td>1638.7</td>\n",
              "      <td>1592.2</td>\n",
              "      <td>NaN</td>\n",
              "      <td>NaN</td>\n",
              "      <td>NaN</td>\n",
              "    </tr>\n",
              "    <tr>\n",
              "      <th>2000-01-13</th>\n",
              "      <td>1627.85</td>\n",
              "      <td>1671.15</td>\n",
              "      <td>1613.65</td>\n",
              "      <td>1621.40</td>\n",
              "      <td>1.0</td>\n",
              "      <td>1631.55</td>\n",
              "      <td>1639.00</td>\n",
              "      <td>1635.50</td>\n",
              "      <td>1641.95</td>\n",
              "      <td>1592.90</td>\n",
              "      <td>NaN</td>\n",
              "      <td>NaN</td>\n",
              "      <td>1571.70</td>\n",
              "      <td>1595.80</td>\n",
              "      <td>1555.05</td>\n",
              "      <td>1594.40</td>\n",
              "      <td>1482.15</td>\n",
              "      <td>NaN</td>\n",
              "      <td>NaN</td>\n",
              "      <td>1572.30</td>\n",
              "      <td>1595.80</td>\n",
              "      <td>1634.55</td>\n",
              "      <td>1594.40</td>\n",
              "      <td>1482.15</td>\n",
              "      <td>NaN</td>\n",
              "      <td>NaN</td>\n",
              "      <td>1624.80</td>\n",
              "      <td>1617.6</td>\n",
              "      <td>1595.8</td>\n",
              "      <td>1638.7</td>\n",
              "      <td>1592.2</td>\n",
              "      <td>NaN</td>\n",
              "      <td>NaN</td>\n",
              "    </tr>\n",
              "    <tr>\n",
              "      <th>2000-01-14</th>\n",
              "      <td>1622.15</td>\n",
              "      <td>1627.40</td>\n",
              "      <td>1591.40</td>\n",
              "      <td>1622.75</td>\n",
              "      <td>0.0</td>\n",
              "      <td>1671.15</td>\n",
              "      <td>1628.25</td>\n",
              "      <td>1639.00</td>\n",
              "      <td>1635.50</td>\n",
              "      <td>1641.95</td>\n",
              "      <td>NaN</td>\n",
              "      <td>NaN</td>\n",
              "      <td>1613.65</td>\n",
              "      <td>1597.20</td>\n",
              "      <td>1595.80</td>\n",
              "      <td>1555.05</td>\n",
              "      <td>1594.40</td>\n",
              "      <td>NaN</td>\n",
              "      <td>NaN</td>\n",
              "      <td>1627.85</td>\n",
              "      <td>1616.60</td>\n",
              "      <td>1595.80</td>\n",
              "      <td>1634.55</td>\n",
              "      <td>1594.40</td>\n",
              "      <td>NaN</td>\n",
              "      <td>NaN</td>\n",
              "      <td>1621.40</td>\n",
              "      <td>1613.3</td>\n",
              "      <td>1617.6</td>\n",
              "      <td>1595.8</td>\n",
              "      <td>1638.7</td>\n",
              "      <td>NaN</td>\n",
              "      <td>NaN</td>\n",
              "    </tr>\n",
              "  </tbody>\n",
              "</table>\n",
              "</div>"
            ],
            "text/plain": [
              "               Open     High      Low  ...  Close_lag_8  Close_lag_10  Close_lag_12\n",
              "Date                                   ...                                         \n",
              "2000-01-03  1482.15  1592.90  1482.15  ...          NaN           NaN           NaN\n",
              "2000-01-04  1594.40  1641.95  1594.40  ...          NaN           NaN           NaN\n",
              "2000-01-05  1634.55  1635.50  1555.05  ...          NaN           NaN           NaN\n",
              "2000-01-06  1595.80  1639.00  1595.80  ...          NaN           NaN           NaN\n",
              "2000-01-07  1616.60  1628.25  1597.20  ...          NaN           NaN           NaN\n",
              "2000-01-10  1615.65  1662.10  1614.95  ...          NaN           NaN           NaN\n",
              "2000-01-11  1633.25  1639.90  1548.25  ...          NaN           NaN           NaN\n",
              "2000-01-12  1572.30  1631.55  1571.70  ...          NaN           NaN           NaN\n",
              "2000-01-13  1627.85  1671.15  1613.65  ...       1592.2           NaN           NaN\n",
              "2000-01-14  1622.15  1627.40  1591.40  ...       1638.7           NaN           NaN\n",
              "\n",
              "[10 rows x 33 columns]"
            ]
          },
          "metadata": {
            "tags": []
          },
          "execution_count": 22
        }
      ]
    },
    {
      "cell_type": "markdown",
      "metadata": {
        "id": "NUmaNFCM6Ywa"
      },
      "source": [
        "### Moving average \n",
        "\n",
        "finding moving average different time period\n"
      ]
    },
    {
      "cell_type": "code",
      "metadata": {
        "id": "E9xLxrOE3uRd"
      },
      "source": [
        "def moving_avg(df,col, day):\n",
        "  var_name = col + str(day)\n",
        "  df[var_name + '_ma']= df[col]-df[col].rolling(window=day,min_periods=day).mean()\n",
        "  df[var_name+ '_ewma']= df[col]-df[col].ewm(com=day).mean()\n",
        "  return df\n",
        "\n"
      ],
      "execution_count": 93,
      "outputs": []
    },
    {
      "cell_type": "code",
      "metadata": {
        "id": "Swbs6o1Q3uN9"
      },
      "source": [
        "# findind moving average for \n",
        "days= [3,7,15,30]\n",
        "cols= ['High','Low',\"Open\",'Close']\n",
        "for col in cols:\n",
        "  for day in days:\n",
        "    moving_avg(df,col,day)"
      ],
      "execution_count": 94,
      "outputs": []
    },
    {
      "cell_type": "code",
      "metadata": {
        "colab": {
          "base_uri": "https://localhost:8080/",
          "height": 329
        },
        "id": "E2JBzYpyD3CU",
        "outputId": "bce83e51-4c74-4f64-f500-5e678096c2a2"
      },
      "source": [
        "df.head(5)"
      ],
      "execution_count": 96,
      "outputs": [
        {
          "output_type": "execute_result",
          "data": {
            "text/html": [
              "<div>\n",
              "<style scoped>\n",
              "    .dataframe tbody tr th:only-of-type {\n",
              "        vertical-align: middle;\n",
              "    }\n",
              "\n",
              "    .dataframe tbody tr th {\n",
              "        vertical-align: top;\n",
              "    }\n",
              "\n",
              "    .dataframe thead th {\n",
              "        text-align: right;\n",
              "    }\n",
              "</style>\n",
              "<table border=\"1\" class=\"dataframe\">\n",
              "  <thead>\n",
              "    <tr style=\"text-align: right;\">\n",
              "      <th></th>\n",
              "      <th>Open</th>\n",
              "      <th>High</th>\n",
              "      <th>Low</th>\n",
              "      <th>Close</th>\n",
              "      <th>target</th>\n",
              "      <th>High_lag_1</th>\n",
              "      <th>High_lag_5</th>\n",
              "      <th>High_lag_6</th>\n",
              "      <th>High_lag_7</th>\n",
              "      <th>High_lag_8</th>\n",
              "      <th>High_lag_10</th>\n",
              "      <th>High_lag_12</th>\n",
              "      <th>Low_lag_1</th>\n",
              "      <th>Low_lag_5</th>\n",
              "      <th>Low_lag_6</th>\n",
              "      <th>Low_lag_7</th>\n",
              "      <th>Low_lag_8</th>\n",
              "      <th>Low_lag_10</th>\n",
              "      <th>Low_lag_12</th>\n",
              "      <th>Open_lag_1</th>\n",
              "      <th>Open_lag_5</th>\n",
              "      <th>Open_lag_6</th>\n",
              "      <th>Open_lag_7</th>\n",
              "      <th>Open_lag_8</th>\n",
              "      <th>Open_lag_10</th>\n",
              "      <th>Open_lag_12</th>\n",
              "      <th>Close_lag_1</th>\n",
              "      <th>Close_lag_5</th>\n",
              "      <th>Close_lag_6</th>\n",
              "      <th>Close_lag_7</th>\n",
              "      <th>Close_lag_8</th>\n",
              "      <th>Close_lag_10</th>\n",
              "      <th>Close_lag_12</th>\n",
              "      <th>High3_ma</th>\n",
              "      <th>High3_ewma</th>\n",
              "      <th>High7_ma</th>\n",
              "      <th>High7_ewma</th>\n",
              "      <th>High15_ma</th>\n",
              "      <th>High15_ewma</th>\n",
              "      <th>High30_ma</th>\n",
              "      <th>High30_ewma</th>\n",
              "      <th>Low3_ma</th>\n",
              "      <th>Low3_ewma</th>\n",
              "      <th>Low7_ma</th>\n",
              "      <th>Low7_ewma</th>\n",
              "      <th>Low15_ma</th>\n",
              "      <th>Low15_ewma</th>\n",
              "      <th>Low30_ma</th>\n",
              "      <th>Low30_ewma</th>\n",
              "      <th>Open3_ma</th>\n",
              "      <th>Open3_ewma</th>\n",
              "      <th>Open7_ma</th>\n",
              "      <th>Open7_ewma</th>\n",
              "      <th>Open15_ma</th>\n",
              "      <th>Open15_ewma</th>\n",
              "      <th>Open30_ma</th>\n",
              "      <th>Open30_ewma</th>\n",
              "      <th>Close3_ma</th>\n",
              "      <th>Close3_ewma</th>\n",
              "      <th>Close7_ma</th>\n",
              "      <th>Close7_ewma</th>\n",
              "      <th>Close15_ma</th>\n",
              "      <th>Close15_ewma</th>\n",
              "      <th>Close30_ma</th>\n",
              "      <th>Close30_ewma</th>\n",
              "    </tr>\n",
              "    <tr>\n",
              "      <th>Date</th>\n",
              "      <th></th>\n",
              "      <th></th>\n",
              "      <th></th>\n",
              "      <th></th>\n",
              "      <th></th>\n",
              "      <th></th>\n",
              "      <th></th>\n",
              "      <th></th>\n",
              "      <th></th>\n",
              "      <th></th>\n",
              "      <th></th>\n",
              "      <th></th>\n",
              "      <th></th>\n",
              "      <th></th>\n",
              "      <th></th>\n",
              "      <th></th>\n",
              "      <th></th>\n",
              "      <th></th>\n",
              "      <th></th>\n",
              "      <th></th>\n",
              "      <th></th>\n",
              "      <th></th>\n",
              "      <th></th>\n",
              "      <th></th>\n",
              "      <th></th>\n",
              "      <th></th>\n",
              "      <th></th>\n",
              "      <th></th>\n",
              "      <th></th>\n",
              "      <th></th>\n",
              "      <th></th>\n",
              "      <th></th>\n",
              "      <th></th>\n",
              "      <th></th>\n",
              "      <th></th>\n",
              "      <th></th>\n",
              "      <th></th>\n",
              "      <th></th>\n",
              "      <th></th>\n",
              "      <th></th>\n",
              "      <th></th>\n",
              "      <th></th>\n",
              "      <th></th>\n",
              "      <th></th>\n",
              "      <th></th>\n",
              "      <th></th>\n",
              "      <th></th>\n",
              "      <th></th>\n",
              "      <th></th>\n",
              "      <th></th>\n",
              "      <th></th>\n",
              "      <th></th>\n",
              "      <th></th>\n",
              "      <th></th>\n",
              "      <th></th>\n",
              "      <th></th>\n",
              "      <th></th>\n",
              "      <th></th>\n",
              "      <th></th>\n",
              "      <th></th>\n",
              "      <th></th>\n",
              "      <th></th>\n",
              "      <th></th>\n",
              "      <th></th>\n",
              "      <th></th>\n",
              "    </tr>\n",
              "  </thead>\n",
              "  <tbody>\n",
              "    <tr>\n",
              "      <th>2000-01-19</th>\n",
              "      <td>1610.05</td>\n",
              "      <td>1644.45</td>\n",
              "      <td>1608.85</td>\n",
              "      <td>1634.85</td>\n",
              "      <td>0.0</td>\n",
              "      <td>1615.15</td>\n",
              "      <td>1631.55</td>\n",
              "      <td>1639.90</td>\n",
              "      <td>1662.10</td>\n",
              "      <td>1628.25</td>\n",
              "      <td>1635.50</td>\n",
              "      <td>1592.90</td>\n",
              "      <td>1587.85</td>\n",
              "      <td>1571.70</td>\n",
              "      <td>1548.25</td>\n",
              "      <td>1614.95</td>\n",
              "      <td>1597.20</td>\n",
              "      <td>1555.05</td>\n",
              "      <td>1482.15</td>\n",
              "      <td>1611.65</td>\n",
              "      <td>1572.30</td>\n",
              "      <td>1633.25</td>\n",
              "      <td>1615.65</td>\n",
              "      <td>1616.60</td>\n",
              "      <td>1634.55</td>\n",
              "      <td>1482.15</td>\n",
              "      <td>1606.70</td>\n",
              "      <td>1624.80</td>\n",
              "      <td>1572.50</td>\n",
              "      <td>1632.95</td>\n",
              "      <td>1613.30</td>\n",
              "      <td>1595.80</td>\n",
              "      <td>1592.2</td>\n",
              "      <td>NaN</td>\n",
              "      <td>0.000000</td>\n",
              "      <td>NaN</td>\n",
              "      <td>0.000000</td>\n",
              "      <td>NaN</td>\n",
              "      <td>0.000000</td>\n",
              "      <td>NaN</td>\n",
              "      <td>0.000000</td>\n",
              "      <td>NaN</td>\n",
              "      <td>0.000000</td>\n",
              "      <td>NaN</td>\n",
              "      <td>0.000000</td>\n",
              "      <td>NaN</td>\n",
              "      <td>0.000000</td>\n",
              "      <td>NaN</td>\n",
              "      <td>0.000000</td>\n",
              "      <td>NaN</td>\n",
              "      <td>0.000000</td>\n",
              "      <td>NaN</td>\n",
              "      <td>0.000000</td>\n",
              "      <td>NaN</td>\n",
              "      <td>0.000000</td>\n",
              "      <td>NaN</td>\n",
              "      <td>0.000000</td>\n",
              "      <td>NaN</td>\n",
              "      <td>0.000000</td>\n",
              "      <td>NaN</td>\n",
              "      <td>0.000000</td>\n",
              "      <td>NaN</td>\n",
              "      <td>0.000000</td>\n",
              "      <td>NaN</td>\n",
              "      <td>0.000000</td>\n",
              "    </tr>\n",
              "    <tr>\n",
              "      <th>2000-01-20</th>\n",
              "      <td>1634.65</td>\n",
              "      <td>1644.40</td>\n",
              "      <td>1596.65</td>\n",
              "      <td>1601.10</td>\n",
              "      <td>1.0</td>\n",
              "      <td>1644.45</td>\n",
              "      <td>1671.15</td>\n",
              "      <td>1631.55</td>\n",
              "      <td>1639.90</td>\n",
              "      <td>1662.10</td>\n",
              "      <td>1639.00</td>\n",
              "      <td>1641.95</td>\n",
              "      <td>1608.85</td>\n",
              "      <td>1613.65</td>\n",
              "      <td>1571.70</td>\n",
              "      <td>1548.25</td>\n",
              "      <td>1614.95</td>\n",
              "      <td>1595.80</td>\n",
              "      <td>1594.40</td>\n",
              "      <td>1610.05</td>\n",
              "      <td>1627.85</td>\n",
              "      <td>1572.30</td>\n",
              "      <td>1633.25</td>\n",
              "      <td>1615.65</td>\n",
              "      <td>1595.80</td>\n",
              "      <td>1594.40</td>\n",
              "      <td>1634.85</td>\n",
              "      <td>1621.40</td>\n",
              "      <td>1624.80</td>\n",
              "      <td>1572.50</td>\n",
              "      <td>1632.95</td>\n",
              "      <td>1617.60</td>\n",
              "      <td>1638.7</td>\n",
              "      <td>NaN</td>\n",
              "      <td>-0.021429</td>\n",
              "      <td>NaN</td>\n",
              "      <td>-0.023333</td>\n",
              "      <td>NaN</td>\n",
              "      <td>-0.024194</td>\n",
              "      <td>NaN</td>\n",
              "      <td>-0.024590</td>\n",
              "      <td>NaN</td>\n",
              "      <td>-5.228571</td>\n",
              "      <td>NaN</td>\n",
              "      <td>-5.693333</td>\n",
              "      <td>NaN</td>\n",
              "      <td>-5.903226</td>\n",
              "      <td>NaN</td>\n",
              "      <td>-6.000000</td>\n",
              "      <td>NaN</td>\n",
              "      <td>10.542857</td>\n",
              "      <td>NaN</td>\n",
              "      <td>11.480000</td>\n",
              "      <td>NaN</td>\n",
              "      <td>11.903226</td>\n",
              "      <td>NaN</td>\n",
              "      <td>12.098361</td>\n",
              "      <td>NaN</td>\n",
              "      <td>-14.464286</td>\n",
              "      <td>NaN</td>\n",
              "      <td>-15.750000</td>\n",
              "      <td>NaN</td>\n",
              "      <td>-16.330645</td>\n",
              "      <td>NaN</td>\n",
              "      <td>-16.598361</td>\n",
              "    </tr>\n",
              "    <tr>\n",
              "      <th>2000-01-21</th>\n",
              "      <td>1601.25</td>\n",
              "      <td>1626.50</td>\n",
              "      <td>1593.20</td>\n",
              "      <td>1620.60</td>\n",
              "      <td>0.0</td>\n",
              "      <td>1644.40</td>\n",
              "      <td>1627.40</td>\n",
              "      <td>1671.15</td>\n",
              "      <td>1631.55</td>\n",
              "      <td>1639.90</td>\n",
              "      <td>1628.25</td>\n",
              "      <td>1635.50</td>\n",
              "      <td>1596.65</td>\n",
              "      <td>1591.40</td>\n",
              "      <td>1613.65</td>\n",
              "      <td>1571.70</td>\n",
              "      <td>1548.25</td>\n",
              "      <td>1597.20</td>\n",
              "      <td>1555.05</td>\n",
              "      <td>1634.65</td>\n",
              "      <td>1622.15</td>\n",
              "      <td>1627.85</td>\n",
              "      <td>1572.30</td>\n",
              "      <td>1633.25</td>\n",
              "      <td>1616.60</td>\n",
              "      <td>1634.55</td>\n",
              "      <td>1601.10</td>\n",
              "      <td>1622.75</td>\n",
              "      <td>1621.40</td>\n",
              "      <td>1624.80</td>\n",
              "      <td>1572.50</td>\n",
              "      <td>1613.30</td>\n",
              "      <td>1595.8</td>\n",
              "      <td>-11.950000</td>\n",
              "      <td>-10.171622</td>\n",
              "      <td>NaN</td>\n",
              "      <td>-11.135799</td>\n",
              "      <td>NaN</td>\n",
              "      <td>-11.559986</td>\n",
              "      <td>NaN</td>\n",
              "      <td>-11.752777</td>\n",
              "      <td>-6.366667</td>\n",
              "      <td>-4.925676</td>\n",
              "      <td>NaN</td>\n",
              "      <td>-5.680769</td>\n",
              "      <td>NaN</td>\n",
              "      <td>-6.032247</td>\n",
              "      <td>NaN</td>\n",
              "      <td>-6.196166</td>\n",
              "      <td>-14.066667</td>\n",
              "      <td>-12.972973</td>\n",
              "      <td>NaN</td>\n",
              "      <td>-13.618935</td>\n",
              "      <td>NaN</td>\n",
              "      <td>-13.864078</td>\n",
              "      <td>NaN</td>\n",
              "      <td>-13.967037</td>\n",
              "      <td>1.750000</td>\n",
              "      <td>2.858108</td>\n",
              "      <td>NaN</td>\n",
              "      <td>2.329882</td>\n",
              "      <td>NaN</td>\n",
              "      <td>2.044036</td>\n",
              "      <td>NaN</td>\n",
              "      <td>1.902544</td>\n",
              "    </tr>\n",
              "    <tr>\n",
              "      <th>2000-01-24</th>\n",
              "      <td>1623.05</td>\n",
              "      <td>1645.00</td>\n",
              "      <td>1608.30</td>\n",
              "      <td>1613.60</td>\n",
              "      <td>1.0</td>\n",
              "      <td>1626.50</td>\n",
              "      <td>1668.45</td>\n",
              "      <td>1627.40</td>\n",
              "      <td>1671.15</td>\n",
              "      <td>1631.55</td>\n",
              "      <td>1662.10</td>\n",
              "      <td>1639.00</td>\n",
              "      <td>1593.20</td>\n",
              "      <td>1604.65</td>\n",
              "      <td>1591.40</td>\n",
              "      <td>1613.65</td>\n",
              "      <td>1571.70</td>\n",
              "      <td>1614.95</td>\n",
              "      <td>1595.80</td>\n",
              "      <td>1601.25</td>\n",
              "      <td>1623.50</td>\n",
              "      <td>1622.15</td>\n",
              "      <td>1627.85</td>\n",
              "      <td>1572.30</td>\n",
              "      <td>1615.65</td>\n",
              "      <td>1595.80</td>\n",
              "      <td>1620.60</td>\n",
              "      <td>1611.60</td>\n",
              "      <td>1622.75</td>\n",
              "      <td>1621.40</td>\n",
              "      <td>1624.80</td>\n",
              "      <td>1632.95</td>\n",
              "      <td>1617.6</td>\n",
              "      <td>6.366667</td>\n",
              "      <td>5.282571</td>\n",
              "      <td>NaN</td>\n",
              "      <td>5.139735</td>\n",
              "      <td>NaN</td>\n",
              "      <td>5.033616</td>\n",
              "      <td>NaN</td>\n",
              "      <td>4.976568</td>\n",
              "      <td>8.916667</td>\n",
              "      <td>6.453429</td>\n",
              "      <td>NaN</td>\n",
              "      <td>6.574012</td>\n",
              "      <td>NaN</td>\n",
              "      <td>6.576873</td>\n",
              "      <td>NaN</td>\n",
              "      <td>6.567225</td>\n",
              "      <td>3.400000</td>\n",
              "      <td>5.598857</td>\n",
              "      <td>NaN</td>\n",
              "      <td>5.709853</td>\n",
              "      <td>NaN</td>\n",
              "      <td>5.755952</td>\n",
              "      <td>NaN</td>\n",
              "      <td>5.777380</td>\n",
              "      <td>1.833333</td>\n",
              "      <td>-2.627143</td>\n",
              "      <td>NaN</td>\n",
              "      <td>-3.259440</td>\n",
              "      <td>NaN</td>\n",
              "      <td>-3.594578</td>\n",
              "      <td>NaN</td>\n",
              "      <td>-3.759745</td>\n",
              "    </tr>\n",
              "    <tr>\n",
              "      <th>2000-01-25</th>\n",
              "      <td>1612.95</td>\n",
              "      <td>1613.65</td>\n",
              "      <td>1579.55</td>\n",
              "      <td>1586.40</td>\n",
              "      <td>1.0</td>\n",
              "      <td>1645.00</td>\n",
              "      <td>1615.15</td>\n",
              "      <td>1668.45</td>\n",
              "      <td>1627.40</td>\n",
              "      <td>1671.15</td>\n",
              "      <td>1639.90</td>\n",
              "      <td>1628.25</td>\n",
              "      <td>1608.30</td>\n",
              "      <td>1587.85</td>\n",
              "      <td>1604.65</td>\n",
              "      <td>1591.40</td>\n",
              "      <td>1613.65</td>\n",
              "      <td>1548.25</td>\n",
              "      <td>1597.20</td>\n",
              "      <td>1623.05</td>\n",
              "      <td>1611.65</td>\n",
              "      <td>1623.50</td>\n",
              "      <td>1622.15</td>\n",
              "      <td>1627.85</td>\n",
              "      <td>1633.25</td>\n",
              "      <td>1616.60</td>\n",
              "      <td>1613.60</td>\n",
              "      <td>1606.70</td>\n",
              "      <td>1611.60</td>\n",
              "      <td>1622.75</td>\n",
              "      <td>1621.40</td>\n",
              "      <td>1572.50</td>\n",
              "      <td>1613.3</td>\n",
              "      <td>-14.733333</td>\n",
              "      <td>-17.522919</td>\n",
              "      <td>NaN</td>\n",
              "      <td>-19.484042</td>\n",
              "      <td>NaN</td>\n",
              "      <td>-20.352813</td>\n",
              "      <td>NaN</td>\n",
              "      <td>-20.747290</td>\n",
              "      <td>-14.133333</td>\n",
              "      <td>-14.988092</td>\n",
              "      <td>NaN</td>\n",
              "      <td>-16.485064</td>\n",
              "      <td>NaN</td>\n",
              "      <td>-17.148462</td>\n",
              "      <td>NaN</td>\n",
              "      <td>-17.450609</td>\n",
              "      <td>0.533333</td>\n",
              "      <td>-3.025736</td>\n",
              "      <td>NaN</td>\n",
              "      <td>-3.263524</td>\n",
              "      <td>NaN</td>\n",
              "      <td>-3.359641</td>\n",
              "      <td>NaN</td>\n",
              "      <td>-3.400492</td>\n",
              "      <td>-20.466667</td>\n",
              "      <td>-20.050256</td>\n",
              "      <td>NaN</td>\n",
              "      <td>-22.642770</td>\n",
              "      <td>NaN</td>\n",
              "      <td>-23.816201</td>\n",
              "      <td>NaN</td>\n",
              "      <td>-24.355223</td>\n",
              "    </tr>\n",
              "  </tbody>\n",
              "</table>\n",
              "</div>"
            ],
            "text/plain": [
              "               Open     High      Low  ...  Close15_ewma  Close30_ma  Close30_ewma\n",
              "Date                                   ...                                        \n",
              "2000-01-19  1610.05  1644.45  1608.85  ...      0.000000         NaN      0.000000\n",
              "2000-01-20  1634.65  1644.40  1596.65  ...    -16.330645         NaN    -16.598361\n",
              "2000-01-21  1601.25  1626.50  1593.20  ...      2.044036         NaN      1.902544\n",
              "2000-01-24  1623.05  1645.00  1608.30  ...     -3.594578         NaN     -3.759745\n",
              "2000-01-25  1612.95  1613.65  1579.55  ...    -23.816201         NaN    -24.355223\n",
              "\n",
              "[5 rows x 65 columns]"
            ]
          },
          "metadata": {
            "tags": []
          },
          "execution_count": 96
        }
      ]
    },
    {
      "cell_type": "code",
      "metadata": {
        "colab": {
          "base_uri": "https://localhost:8080/",
          "height": 505
        },
        "id": "VJKUDLryOT3x",
        "outputId": "f8af2485-de89-4c85-9a77-75933e0491c7"
      },
      "source": [
        "plt.figure(figsize=(14,7))\n",
        "correlation = df.corr()\n",
        "sns.heatmap(correlation, annot=True, cmap='coolwarm')"
      ],
      "execution_count": 23,
      "outputs": [
        {
          "output_type": "execute_result",
          "data": {
            "text/plain": [
              "<matplotlib.axes._subplots.AxesSubplot at 0x7febd31e4c10>"
            ]
          },
          "metadata": {
            "tags": []
          },
          "execution_count": 23
        },
        {
          "output_type": "display_data",
          "data": {
            "image/png": "[encoded data removed]",
            "text/plain": [
              "<Figure size 1008x504 with 2 Axes>"
            ]
          },
          "metadata": {
            "tags": [],
            "needs_background": "light"
          }
        }
      ]
    },
    {
      "cell_type": "code",
      "metadata": {
        "colab": {
          "base_uri": "https://localhost:8080/"
        },
        "id": "m0DzLAhUfIn5",
        "outputId": "f7de9c68-f3ac-4177-9edc-33d7d1fbbc7c"
      },
      "source": [
        "# Correlation with the target variable\n",
        "correlation['target']"
      ],
      "execution_count": 35,
      "outputs": [
        {
          "output_type": "execute_result",
          "data": {
            "text/plain": [
              "Open            0.001834\n",
              "High           -0.002853\n",
              "Low            -0.004904\n",
              "Close          -0.009327\n",
              "target          1.000000\n",
              "High_lag_1      0.004618\n",
              "High_lag_5      0.007266\n",
              "High_lag_6      0.006146\n",
              "High_lag_7      0.004599\n",
              "High_lag_8      0.005733\n",
              "High_lag_10     0.005373\n",
              "High_lag_12     0.007499\n",
              "Low_lag_1       0.004676\n",
              "Low_lag_5       0.007436\n",
              "Low_lag_6       0.006046\n",
              "Low_lag_7       0.004314\n",
              "Low_lag_8       0.005908\n",
              "Low_lag_10      0.005240\n",
              "Low_lag_12      0.007288\n",
              "Open_lag_1      0.005023\n",
              "Open_lag_5      0.007323\n",
              "Open_lag_6      0.005746\n",
              "Open_lag_7      0.004447\n",
              "Open_lag_8      0.005641\n",
              "Open_lag_10     0.005364\n",
              "Open_lag_12     0.007702\n",
              "Close_lag_1     0.004294\n",
              "Close_lag_5     0.007369\n",
              "Close_lag_6     0.006387\n",
              "Close_lag_7     0.004476\n",
              "Close_lag_8     0.005839\n",
              "Close_lag_10    0.005221\n",
              "Close_lag_12    0.007195\n",
              "Name: target, dtype: float64"
            ]
          },
          "metadata": {
            "tags": []
          },
          "execution_count": 35
        }
      ]
    },
    {
      "cell_type": "markdown",
      "metadata": {
        "id": "Xs3-kR5IGZuE"
      },
      "source": [
        "### Drop observations which have any NULL value"
      ]
    },
    {
      "cell_type": "code",
      "metadata": {
        "id": "kIl7T1tyGZuE",
        "colab": {
          "base_uri": "https://localhost:8080/"
        },
        "outputId": "fc741415-db90-46ba-b49a-a2d733783fee"
      },
      "source": [
        "df.shape"
      ],
      "execution_count": 97,
      "outputs": [
        {
          "output_type": "execute_result",
          "data": {
            "text/plain": [
              "(5041, 65)"
            ]
          },
          "metadata": {
            "tags": []
          },
          "execution_count": 97
        }
      ]
    },
    {
      "cell_type": "code",
      "metadata": {
        "id": "63Hz5HlFZQxq"
      },
      "source": [
        "df_target = df.target"
      ],
      "execution_count": 98,
      "outputs": []
    },
    {
      "cell_type": "code",
      "metadata": {
        "id": "BxSnKZJQZD4F"
      },
      "source": [
        "df.dropna(inplace=True)"
      ],
      "execution_count": 99,
      "outputs": []
    },
    {
      "cell_type": "code",
      "metadata": {
        "colab": {
          "base_uri": "https://localhost:8080/"
        },
        "id": "Yg63_OOiZory",
        "outputId": "f3ce589c-a7cd-4c40-e582-2c83a0f7177b"
      },
      "source": [
        "df.shape"
      ],
      "execution_count": 100,
      "outputs": [
        {
          "output_type": "execute_result",
          "data": {
            "text/plain": [
              "(5012, 65)"
            ]
          },
          "metadata": {
            "tags": []
          },
          "execution_count": 100
        }
      ]
    },
    {
      "cell_type": "code",
      "metadata": {
        "id": "7Npn6F22GZuG",
        "colab": {
          "base_uri": "https://localhost:8080/"
        },
        "outputId": "a2fa6b5f-b869-4784-db3e-568b3e844711"
      },
      "source": [
        "df.shape"
      ],
      "execution_count": 101,
      "outputs": [
        {
          "output_type": "execute_result",
          "data": {
            "text/plain": [
              "(5012, 65)"
            ]
          },
          "metadata": {
            "tags": []
          },
          "execution_count": 101
        }
      ]
    },
    {
      "cell_type": "markdown",
      "metadata": {
        "id": "gnChFKD7GZuH"
      },
      "source": [
        "### Splitting data into train, validation and test"
      ]
    },
    {
      "cell_type": "code",
      "metadata": {
        "id": "ciFW5CemGZuH"
      },
      "source": [
        "def temporal_splitting(data,date1,date2,date3):\n",
        "    train=data.loc[(data.index >= date1) & (data.index < date2)]\n",
        "    val=data.loc[(data.index >= date2) & (data.index < date3),:]\n",
        "    test=data.loc[data.index >= date3]\n",
        "    \n",
        "    return train, val, test"
      ],
      "execution_count": 41,
      "outputs": []
    },
    {
      "cell_type": "code",
      "metadata": {
        "id": "wiwm5dKCGZuI"
      },
      "source": [
        "train, val,test=temporal_splitting(df,'2000-01-01','2019-01-01','2020-05-09')"
      ],
      "execution_count": 103,
      "outputs": []
    },
    {
      "cell_type": "markdown",
      "metadata": {
        "id": "7z0NObtiGZuJ"
      },
      "source": [
        "### Obtaining the distribution of the three datasets : Train, Validation and Test"
      ]
    },
    {
      "cell_type": "code",
      "metadata": {
        "id": "mUbaYmsAGZuJ",
        "colab": {
          "base_uri": "https://localhost:8080/"
        },
        "outputId": "3376dcd2-b067-4ef5-f5b0-42deced178b7"
      },
      "source": [
        "train.shape,val.shape,test.shape"
      ],
      "execution_count": 104,
      "outputs": [
        {
          "output_type": "execute_result",
          "data": {
            "text/plain": [
              "((4464, 65), (313, 65), (235, 65))"
            ]
          },
          "metadata": {
            "tags": []
          },
          "execution_count": 104
        }
      ]
    },
    {
      "cell_type": "markdown",
      "metadata": {
        "id": "tYDoPFhuGZuJ"
      },
      "source": [
        "### Dropping variables which we don't want to be part of model variables"
      ]
    },
    {
      "cell_type": "code",
      "metadata": {
        "id": "YW98adkTGZuK"
      },
      "source": [
        "def my_var_columns(data,cols_to_remove):\n",
        "    vars__ = list(data.columns[~data.columns.isin(cols_to_remove)])\n",
        "    return vars__"
      ],
      "execution_count": 105,
      "outputs": []
    },
    {
      "cell_type": "code",
      "metadata": {
        "id": "ooMEL4xQGZuL",
        "colab": {
          "base_uri": "https://localhost:8080/"
        },
        "outputId": "58e6f600-d31f-4eaf-d3f6-e7d129930240"
      },
      "source": [
        "df.columns"
      ],
      "execution_count": 106,
      "outputs": [
        {
          "output_type": "execute_result",
          "data": {
            "text/plain": [
              "Index(['Open', 'High', 'Low', 'Close', 'target', 'High_lag_1', 'High_lag_5',\n",
              "       'High_lag_6', 'High_lag_7', 'High_lag_8', 'High_lag_10', 'High_lag_12',\n",
              "       'Low_lag_1', 'Low_lag_5', 'Low_lag_6', 'Low_lag_7', 'Low_lag_8',\n",
              "       'Low_lag_10', 'Low_lag_12', 'Open_lag_1', 'Open_lag_5', 'Open_lag_6',\n",
              "       'Open_lag_7', 'Open_lag_8', 'Open_lag_10', 'Open_lag_12', 'Close_lag_1',\n",
              "       'Close_lag_5', 'Close_lag_6', 'Close_lag_7', 'Close_lag_8',\n",
              "       'Close_lag_10', 'Close_lag_12', 'High3_ma', 'High3_ewma', 'High7_ma',\n",
              "       'High7_ewma', 'High15_ma', 'High15_ewma', 'High30_ma', 'High30_ewma',\n",
              "       'Low3_ma', 'Low3_ewma', 'Low7_ma', 'Low7_ewma', 'Low15_ma',\n",
              "       'Low15_ewma', 'Low30_ma', 'Low30_ewma', 'Open3_ma', 'Open3_ewma',\n",
              "       'Open7_ma', 'Open7_ewma', 'Open15_ma', 'Open15_ewma', 'Open30_ma',\n",
              "       'Open30_ewma', 'Close3_ma', 'Close3_ewma', 'Close7_ma', 'Close7_ewma',\n",
              "       'Close15_ma', 'Close15_ewma', 'Close30_ma', 'Close30_ewma'],\n",
              "      dtype='object')"
            ]
          },
          "metadata": {
            "tags": []
          },
          "execution_count": 106
        }
      ]
    },
    {
      "cell_type": "code",
      "metadata": {
        "id": "QGCYB4vyGZuL"
      },
      "source": [
        "DV='target'\n",
        "\n",
        "# Drop columns which are not required\n",
        "cols_to_remove=[DV,'Open', 'High', 'Low', 'Close', 'target']"
      ],
      "execution_count": 107,
      "outputs": []
    },
    {
      "cell_type": "code",
      "metadata": {
        "id": "iKuov1PRGZuM"
      },
      "source": [
        "train_cols = my_var_columns(df,cols_to_remove)"
      ],
      "execution_count": 108,
      "outputs": []
    },
    {
      "cell_type": "markdown",
      "metadata": {
        "id": "ibEFvhu2GZuM"
      },
      "source": [
        "### Final set of training variables"
      ]
    },
    {
      "cell_type": "code",
      "metadata": {
        "scrolled": true,
        "id": "odFeeCGiGZuN",
        "colab": {
          "base_uri": "https://localhost:8080/"
        },
        "outputId": "34c1e5b0-6662-4800-ad72-11d4fb59e09e"
      },
      "source": [
        "print(train_cols)"
      ],
      "execution_count": 110,
      "outputs": [
        {
          "output_type": "stream",
          "text": [
            "['High_lag_1', 'High_lag_5', 'High_lag_6', 'High_lag_7', 'High_lag_8', 'High_lag_10', 'High_lag_12', 'Low_lag_1', 'Low_lag_5', 'Low_lag_6', 'Low_lag_7', 'Low_lag_8', 'Low_lag_10', 'Low_lag_12', 'Open_lag_1', 'Open_lag_5', 'Open_lag_6', 'Open_lag_7', 'Open_lag_8', 'Open_lag_10', 'Open_lag_12', 'Close_lag_1', 'Close_lag_5', 'Close_lag_6', 'Close_lag_7', 'Close_lag_8', 'Close_lag_10', 'Close_lag_12', 'High3_ma', 'High3_ewma', 'High7_ma', 'High7_ewma', 'High15_ma', 'High15_ewma', 'High30_ma', 'High30_ewma', 'Low3_ma', 'Low3_ewma', 'Low7_ma', 'Low7_ewma', 'Low15_ma', 'Low15_ewma', 'Low30_ma', 'Low30_ewma', 'Open3_ma', 'Open3_ewma', 'Open7_ma', 'Open7_ewma', 'Open15_ma', 'Open15_ewma', 'Open30_ma', 'Open30_ewma', 'Close3_ma', 'Close3_ewma', 'Close7_ma', 'Close7_ewma', 'Close15_ma', 'Close15_ewma', 'Close30_ma', 'Close30_ewma']\n"
          ],
          "name": "stdout"
        }
      ]
    },
    {
      "cell_type": "markdown",
      "metadata": {
        "id": "_09YovLwGZuN"
      },
      "source": [
        "### Defining our training data consisting of independent variables and the dependent variable"
      ]
    },
    {
      "cell_type": "code",
      "metadata": {
        "id": "Ck1hOWI4GZuN"
      },
      "source": [
        "X_train=train[train_cols]\n",
        "X_val=val[train_cols]\n",
        "X_test=test[train_cols]\n",
        "\n",
        "Y_train=train[DV]\n",
        "Y_val=val[DV]\n",
        "Y_test=test[DV]"
      ],
      "execution_count": 111,
      "outputs": []
    },
    {
      "cell_type": "code",
      "metadata": {
        "colab": {
          "base_uri": "https://localhost:8080/"
        },
        "id": "u-jZli7qjZHG",
        "outputId": "b70cc27e-dca3-4ccf-c6fd-6b8ad6b2e0cb"
      },
      "source": [
        "Y_train.head()"
      ],
      "execution_count": 112,
      "outputs": [
        {
          "output_type": "execute_result",
          "data": {
            "text/plain": [
              "Date\n",
              "2000-03-01    0.0\n",
              "2000-03-02    1.0\n",
              "2000-03-03    1.0\n",
              "2000-03-06    0.0\n",
              "2000-03-07    0.0\n",
              "Name: target, dtype: float64"
            ]
          },
          "metadata": {
            "tags": []
          },
          "execution_count": 112
        }
      ]
    },
    {
      "cell_type": "code",
      "metadata": {
        "id": "bHEg_CKeGZuO",
        "colab": {
          "base_uri": "https://localhost:8080/",
          "height": 329
        },
        "outputId": "2ea9bb92-7111-4308-e529-d4872104feb1"
      },
      "source": [
        "X_train.tail()"
      ],
      "execution_count": 113,
      "outputs": [
        {
          "output_type": "execute_result",
          "data": {
            "text/html": [
              "<div>\n",
              "<style scoped>\n",
              "    .dataframe tbody tr th:only-of-type {\n",
              "        vertical-align: middle;\n",
              "    }\n",
              "\n",
              "    .dataframe tbody tr th {\n",
              "        vertical-align: top;\n",
              "    }\n",
              "\n",
              "    .dataframe thead th {\n",
              "        text-align: right;\n",
              "    }\n",
              "</style>\n",
              "<table border=\"1\" class=\"dataframe\">\n",
              "  <thead>\n",
              "    <tr style=\"text-align: right;\">\n",
              "      <th></th>\n",
              "      <th>High_lag_1</th>\n",
              "      <th>High_lag_5</th>\n",
              "      <th>High_lag_6</th>\n",
              "      <th>High_lag_7</th>\n",
              "      <th>High_lag_8</th>\n",
              "      <th>High_lag_10</th>\n",
              "      <th>High_lag_12</th>\n",
              "      <th>Low_lag_1</th>\n",
              "      <th>Low_lag_5</th>\n",
              "      <th>Low_lag_6</th>\n",
              "      <th>Low_lag_7</th>\n",
              "      <th>Low_lag_8</th>\n",
              "      <th>Low_lag_10</th>\n",
              "      <th>Low_lag_12</th>\n",
              "      <th>Open_lag_1</th>\n",
              "      <th>Open_lag_5</th>\n",
              "      <th>Open_lag_6</th>\n",
              "      <th>Open_lag_7</th>\n",
              "      <th>Open_lag_8</th>\n",
              "      <th>Open_lag_10</th>\n",
              "      <th>Open_lag_12</th>\n",
              "      <th>Close_lag_1</th>\n",
              "      <th>Close_lag_5</th>\n",
              "      <th>Close_lag_6</th>\n",
              "      <th>Close_lag_7</th>\n",
              "      <th>Close_lag_8</th>\n",
              "      <th>Close_lag_10</th>\n",
              "      <th>Close_lag_12</th>\n",
              "      <th>High3_ma</th>\n",
              "      <th>High3_ewma</th>\n",
              "      <th>High7_ma</th>\n",
              "      <th>High7_ewma</th>\n",
              "      <th>High15_ma</th>\n",
              "      <th>High15_ewma</th>\n",
              "      <th>High30_ma</th>\n",
              "      <th>High30_ewma</th>\n",
              "      <th>Low3_ma</th>\n",
              "      <th>Low3_ewma</th>\n",
              "      <th>Low7_ma</th>\n",
              "      <th>Low7_ewma</th>\n",
              "      <th>Low15_ma</th>\n",
              "      <th>Low15_ewma</th>\n",
              "      <th>Low30_ma</th>\n",
              "      <th>Low30_ewma</th>\n",
              "      <th>Open3_ma</th>\n",
              "      <th>Open3_ewma</th>\n",
              "      <th>Open7_ma</th>\n",
              "      <th>Open7_ewma</th>\n",
              "      <th>Open15_ma</th>\n",
              "      <th>Open15_ewma</th>\n",
              "      <th>Open30_ma</th>\n",
              "      <th>Open30_ewma</th>\n",
              "      <th>Close3_ma</th>\n",
              "      <th>Close3_ewma</th>\n",
              "      <th>Close7_ma</th>\n",
              "      <th>Close7_ewma</th>\n",
              "      <th>Close15_ma</th>\n",
              "      <th>Close15_ewma</th>\n",
              "      <th>Close30_ma</th>\n",
              "      <th>Close30_ewma</th>\n",
              "    </tr>\n",
              "    <tr>\n",
              "      <th>Date</th>\n",
              "      <th></th>\n",
              "      <th></th>\n",
              "      <th></th>\n",
              "      <th></th>\n",
              "      <th></th>\n",
              "      <th></th>\n",
              "      <th></th>\n",
              "      <th></th>\n",
              "      <th></th>\n",
              "      <th></th>\n",
              "      <th></th>\n",
              "      <th></th>\n",
              "      <th></th>\n",
              "      <th></th>\n",
              "      <th></th>\n",
              "      <th></th>\n",
              "      <th></th>\n",
              "      <th></th>\n",
              "      <th></th>\n",
              "      <th></th>\n",
              "      <th></th>\n",
              "      <th></th>\n",
              "      <th></th>\n",
              "      <th></th>\n",
              "      <th></th>\n",
              "      <th></th>\n",
              "      <th></th>\n",
              "      <th></th>\n",
              "      <th></th>\n",
              "      <th></th>\n",
              "      <th></th>\n",
              "      <th></th>\n",
              "      <th></th>\n",
              "      <th></th>\n",
              "      <th></th>\n",
              "      <th></th>\n",
              "      <th></th>\n",
              "      <th></th>\n",
              "      <th></th>\n",
              "      <th></th>\n",
              "      <th></th>\n",
              "      <th></th>\n",
              "      <th></th>\n",
              "      <th></th>\n",
              "      <th></th>\n",
              "      <th></th>\n",
              "      <th></th>\n",
              "      <th></th>\n",
              "      <th></th>\n",
              "      <th></th>\n",
              "      <th></th>\n",
              "      <th></th>\n",
              "      <th></th>\n",
              "      <th></th>\n",
              "      <th></th>\n",
              "      <th></th>\n",
              "      <th></th>\n",
              "      <th></th>\n",
              "      <th></th>\n",
              "      <th></th>\n",
              "    </tr>\n",
              "  </thead>\n",
              "  <tbody>\n",
              "    <tr>\n",
              "      <th>2018-12-24</th>\n",
              "      <td>10963.650391</td>\n",
              "      <td>10900.349609</td>\n",
              "      <td>10815.750000</td>\n",
              "      <td>10838.599609</td>\n",
              "      <td>10752.200195</td>\n",
              "      <td>10558.849609</td>\n",
              "      <td>10722.650391</td>\n",
              "      <td>10738.650391</td>\n",
              "      <td>10844.849609</td>\n",
              "      <td>10752.099609</td>\n",
              "      <td>10749.500000</td>\n",
              "      <td>10560.799805</td>\n",
              "      <td>10474.950195</td>\n",
              "      <td>10588.250000</td>\n",
              "      <td>10944.250000</td>\n",
              "      <td>10853.200195</td>\n",
              "      <td>10784.500000</td>\n",
              "      <td>10810.750000</td>\n",
              "      <td>10591.000000</td>\n",
              "      <td>10508.700195</td>\n",
              "      <td>10718.150391</td>\n",
              "      <td>10754.000000</td>\n",
              "      <td>10888.349609</td>\n",
              "      <td>10805.450195</td>\n",
              "      <td>10791.549805</td>\n",
              "      <td>10737.599609</td>\n",
              "      <td>10488.450195</td>\n",
              "      <td>10601.150391</td>\n",
              "      <td>-120.533529</td>\n",
              "      <td>-93.696459</td>\n",
              "      <td>-121.293108</td>\n",
              "      <td>-52.863393</td>\n",
              "      <td>-29.776888</td>\n",
              "      <td>-0.484702</td>\n",
              "      <td>12.743132</td>\n",
              "      <td>-14.945064</td>\n",
              "      <td>-106.733399</td>\n",
              "      <td>-102.441388</td>\n",
              "      <td>-152.464146</td>\n",
              "      <td>-70.423416</td>\n",
              "      <td>-50.749870</td>\n",
              "      <td>-17.707744</td>\n",
              "      <td>-10.039844</td>\n",
              "      <td>-28.084258</td>\n",
              "      <td>-89.216471</td>\n",
              "      <td>-54.180598</td>\n",
              "      <td>-80.456891</td>\n",
              "      <td>-4.358961</td>\n",
              "      <td>24.200326</td>\n",
              "      <td>49.577638</td>\n",
              "      <td>62.412012</td>\n",
              "      <td>33.533201</td>\n",
              "      <td>-126.233398</td>\n",
              "      <td>-133.137283</td>\n",
              "      <td>-184.928571</td>\n",
              "      <td>-112.655462</td>\n",
              "      <td>-100.033398</td>\n",
              "      <td>-65.116933</td>\n",
              "      <td>-56.551693</td>\n",
              "      <td>-77.165804</td>\n",
              "    </tr>\n",
              "    <tr>\n",
              "      <th>2018-12-26</th>\n",
              "      <td>10782.299805</td>\n",
              "      <td>10915.400391</td>\n",
              "      <td>10900.349609</td>\n",
              "      <td>10815.750000</td>\n",
              "      <td>10838.599609</td>\n",
              "      <td>10567.150391</td>\n",
              "      <td>10704.549805</td>\n",
              "      <td>10649.250000</td>\n",
              "      <td>10819.099609</td>\n",
              "      <td>10844.849609</td>\n",
              "      <td>10752.099609</td>\n",
              "      <td>10749.500000</td>\n",
              "      <td>10333.849609</td>\n",
              "      <td>10599.349609</td>\n",
              "      <td>10780.900391</td>\n",
              "      <td>10850.900391</td>\n",
              "      <td>10853.200195</td>\n",
              "      <td>10784.500000</td>\n",
              "      <td>10810.750000</td>\n",
              "      <td>10350.049805</td>\n",
              "      <td>10644.799805</td>\n",
              "      <td>10663.500000</td>\n",
              "      <td>10908.700195</td>\n",
              "      <td>10888.349609</td>\n",
              "      <td>10805.450195</td>\n",
              "      <td>10791.549805</td>\n",
              "      <td>10549.150391</td>\n",
              "      <td>10693.700195</td>\n",
              "      <td>-83.650065</td>\n",
              "      <td>-96.372198</td>\n",
              "      <td>-146.342913</td>\n",
              "      <td>-76.705298</td>\n",
              "      <td>-55.013346</td>\n",
              "      <td>-33.079226</td>\n",
              "      <td>-25.456673</td>\n",
              "      <td>-48.140196</td>\n",
              "      <td>-106.266927</td>\n",
              "      <td>-162.856187</td>\n",
              "      <td>-236.085798</td>\n",
              "      <td>-161.983159</td>\n",
              "      <td>-145.530078</td>\n",
              "      <td>-124.132443</td>\n",
              "      <td>-127.090039</td>\n",
              "      <td>-138.178503</td>\n",
              "      <td>-151.416667</td>\n",
              "      <td>-149.723095</td>\n",
              "      <td>-204.614258</td>\n",
              "      <td>-131.083012</td>\n",
              "      <td>-105.139909</td>\n",
              "      <td>-89.880523</td>\n",
              "      <td>-83.959864</td>\n",
              "      <td>-108.306770</td>\n",
              "      <td>14.066406</td>\n",
              "      <td>-50.090755</td>\n",
              "      <td>-107.778879</td>\n",
              "      <td>-40.517621</td>\n",
              "      <td>-24.373763</td>\n",
              "      <td>1.155634</td>\n",
              "      <td>1.542936</td>\n",
              "      <td>-10.467286</td>\n",
              "    </tr>\n",
              "    <tr>\n",
              "      <th>2018-12-27</th>\n",
              "      <td>10747.500000</td>\n",
              "      <td>10985.150391</td>\n",
              "      <td>10915.400391</td>\n",
              "      <td>10900.349609</td>\n",
              "      <td>10815.750000</td>\n",
              "      <td>10752.200195</td>\n",
              "      <td>10558.849609</td>\n",
              "      <td>10534.549805</td>\n",
              "      <td>10928.000000</td>\n",
              "      <td>10819.099609</td>\n",
              "      <td>10844.849609</td>\n",
              "      <td>10752.099609</td>\n",
              "      <td>10560.799805</td>\n",
              "      <td>10474.950195</td>\n",
              "      <td>10635.450195</td>\n",
              "      <td>10930.549805</td>\n",
              "      <td>10850.900391</td>\n",
              "      <td>10853.200195</td>\n",
              "      <td>10784.500000</td>\n",
              "      <td>10591.000000</td>\n",
              "      <td>10508.700195</td>\n",
              "      <td>10729.849609</td>\n",
              "      <td>10967.299805</td>\n",
              "      <td>10908.700195</td>\n",
              "      <td>10888.349609</td>\n",
              "      <td>10805.450195</td>\n",
              "      <td>10737.599609</td>\n",
              "      <td>10488.450195</td>\n",
              "      <td>46.200195</td>\n",
              "      <td>-7.254002</td>\n",
              "      <td>-50.192802</td>\n",
              "      <td>8.745534</td>\n",
              "      <td>30.810156</td>\n",
              "      <td>50.269659</td>\n",
              "      <td>53.311849</td>\n",
              "      <td>37.316128</td>\n",
              "      <td>115.033528</td>\n",
              "      <td>50.283152</td>\n",
              "      <td>5.300223</td>\n",
              "      <td>59.427577</td>\n",
              "      <td>83.270312</td>\n",
              "      <td>99.157450</td>\n",
              "      <td>92.013672</td>\n",
              "      <td>88.763117</td>\n",
              "      <td>73.150065</td>\n",
              "      <td>24.545325</td>\n",
              "      <td>-17.121233</td>\n",
              "      <td>44.946286</td>\n",
              "      <td>77.480274</td>\n",
              "      <td>86.784068</td>\n",
              "      <td>86.290332</td>\n",
              "      <td>71.751703</td>\n",
              "      <td>55.416667</td>\n",
              "      <td>-0.105420</td>\n",
              "      <td>-42.321568</td>\n",
              "      <td>8.253503</td>\n",
              "      <td>25.783138</td>\n",
              "      <td>47.911716</td>\n",
              "      <td>44.916472</td>\n",
              "      <td>38.209268</td>\n",
              "    </tr>\n",
              "    <tr>\n",
              "      <th>2018-12-28</th>\n",
              "      <td>10834.200195</td>\n",
              "      <td>10962.549805</td>\n",
              "      <td>10985.150391</td>\n",
              "      <td>10915.400391</td>\n",
              "      <td>10900.349609</td>\n",
              "      <td>10838.599609</td>\n",
              "      <td>10567.150391</td>\n",
              "      <td>10764.450195</td>\n",
              "      <td>10880.049805</td>\n",
              "      <td>10928.000000</td>\n",
              "      <td>10819.099609</td>\n",
              "      <td>10844.849609</td>\n",
              "      <td>10749.500000</td>\n",
              "      <td>10333.849609</td>\n",
              "      <td>10817.900391</td>\n",
              "      <td>10885.200195</td>\n",
              "      <td>10930.549805</td>\n",
              "      <td>10850.900391</td>\n",
              "      <td>10853.200195</td>\n",
              "      <td>10810.750000</td>\n",
              "      <td>10350.049805</td>\n",
              "      <td>10779.799805</td>\n",
              "      <td>10951.700195</td>\n",
              "      <td>10967.299805</td>\n",
              "      <td>10908.700195</td>\n",
              "      <td>10888.349609</td>\n",
              "      <td>10791.549805</td>\n",
              "      <td>10549.150391</td>\n",
              "      <td>68.499674</td>\n",
              "      <td>39.109059</td>\n",
              "      <td>12.321010</td>\n",
              "      <td>59.626830</td>\n",
              "      <td>78.812955</td>\n",
              "      <td>102.814756</td>\n",
              "      <td>104.644596</td>\n",
              "      <td>93.595686</td>\n",
              "      <td>111.766927</td>\n",
              "      <td>77.237511</td>\n",
              "      <td>58.278879</td>\n",
              "      <td>98.111801</td>\n",
              "      <td>120.710482</td>\n",
              "      <td>142.366543</td>\n",
              "      <td>135.232194</td>\n",
              "      <td>136.899980</td>\n",
              "      <td>62.849935</td>\n",
              "      <td>20.696347</td>\n",
              "      <td>-9.792830</td>\n",
              "      <td>41.996579</td>\n",
              "      <td>73.676757</td>\n",
              "      <td>84.219255</td>\n",
              "      <td>83.138476</td>\n",
              "      <td>72.388555</td>\n",
              "      <td>70.050456</td>\n",
              "      <td>59.996375</td>\n",
              "      <td>44.750419</td>\n",
              "      <td>77.309828</td>\n",
              "      <td>88.633724</td>\n",
              "      <td>120.011533</td>\n",
              "      <td>115.563705</td>\n",
              "      <td>114.493407</td>\n",
              "    </tr>\n",
              "    <tr>\n",
              "      <th>2018-12-31</th>\n",
              "      <td>10893.599609</td>\n",
              "      <td>10963.650391</td>\n",
              "      <td>10962.549805</td>\n",
              "      <td>10985.150391</td>\n",
              "      <td>10915.400391</td>\n",
              "      <td>10815.750000</td>\n",
              "      <td>10752.200195</td>\n",
              "      <td>10817.150391</td>\n",
              "      <td>10738.650391</td>\n",
              "      <td>10880.049805</td>\n",
              "      <td>10928.000000</td>\n",
              "      <td>10819.099609</td>\n",
              "      <td>10752.099609</td>\n",
              "      <td>10560.799805</td>\n",
              "      <td>10820.950195</td>\n",
              "      <td>10944.250000</td>\n",
              "      <td>10885.200195</td>\n",
              "      <td>10930.549805</td>\n",
              "      <td>10850.900391</td>\n",
              "      <td>10784.500000</td>\n",
              "      <td>10591.000000</td>\n",
              "      <td>10859.900391</td>\n",
              "      <td>10754.000000</td>\n",
              "      <td>10951.700195</td>\n",
              "      <td>10967.299805</td>\n",
              "      <td>10908.700195</td>\n",
              "      <td>10805.450195</td>\n",
              "      <td>10737.599609</td>\n",
              "      <td>39.766602</td>\n",
              "      <td>51.794441</td>\n",
              "      <td>51.071289</td>\n",
              "      <td>78.379898</td>\n",
              "      <td>94.163151</td>\n",
              "      <td>124.467142</td>\n",
              "      <td>125.359798</td>\n",
              "      <td>119.560531</td>\n",
              "      <td>41.599935</td>\n",
              "      <td>84.965486</td>\n",
              "      <td>105.014369</td>\n",
              "      <td>117.391405</td>\n",
              "      <td>139.836914</td>\n",
              "      <td>167.265326</td>\n",
              "      <td>161.425325</td>\n",
              "      <td>167.370759</td>\n",
              "      <td>62.516601</td>\n",
              "      <td>84.709760</td>\n",
              "      <td>84.935686</td>\n",
              "      <td>117.465756</td>\n",
              "      <td>148.033398</td>\n",
              "      <td>165.439927</td>\n",
              "      <td>164.301790</td>\n",
              "      <td>159.327634</td>\n",
              "      <td>28.466471</td>\n",
              "      <td>46.984342</td>\n",
              "      <td>62.364119</td>\n",
              "      <td>69.964337</td>\n",
              "      <td>80.026498</td>\n",
              "      <td>114.994638</td>\n",
              "      <td>110.018132</td>\n",
              "      <td>113.364020</td>\n",
              "    </tr>\n",
              "  </tbody>\n",
              "</table>\n",
              "</div>"
            ],
            "text/plain": [
              "              High_lag_1    High_lag_5  ...  Close30_ma  Close30_ewma\n",
              "Date                                    ...                          \n",
              "2018-12-24  10963.650391  10900.349609  ...  -56.551693    -77.165804\n",
              "2018-12-26  10782.299805  10915.400391  ...    1.542936    -10.467286\n",
              "2018-12-27  10747.500000  10985.150391  ...   44.916472     38.209268\n",
              "2018-12-28  10834.200195  10962.549805  ...  115.563705    114.493407\n",
              "2018-12-31  10893.599609  10963.650391  ...  110.018132    113.364020\n",
              "\n",
              "[5 rows x 60 columns]"
            ]
          },
          "metadata": {
            "tags": []
          },
          "execution_count": 113
        }
      ]
    },
    {
      "cell_type": "markdown",
      "metadata": {
        "id": "ABMD_sucGZuR"
      },
      "source": [
        "### Obtaining the distribution of classes of dependent variable across three datasets"
      ]
    },
    {
      "cell_type": "code",
      "metadata": {
        "id": "h7lLPNPrGZuS",
        "colab": {
          "base_uri": "https://localhost:8080/"
        },
        "outputId": "fe085831-2615-48d8-b094-ba43911a538c"
      },
      "source": [
        "print(Y_train.value_counts())\n",
        "print(Y_val.value_counts())\n",
        "print(Y_test.value_counts())"
      ],
      "execution_count": 114,
      "outputs": [
        {
          "output_type": "stream",
          "text": [
            "0.0    2384\n",
            "1.0    2080\n",
            "Name: target, dtype: int64\n",
            "1.0    157\n",
            "0.0    156\n",
            "Name: target, dtype: int64\n",
            "0.0    143\n",
            "1.0     92\n",
            "Name: target, dtype: int64\n"
          ],
          "name": "stdout"
        }
      ]
    },
    {
      "cell_type": "markdown",
      "metadata": {
        "id": "qB2kdPAdVd80"
      },
      "source": [
        "# Building LGB classifier model"
      ]
    },
    {
      "cell_type": "code",
      "metadata": {
        "colab": {
          "base_uri": "https://localhost:8080/"
        },
        "id": "_DdyqZQ-s3KC",
        "outputId": "9860c05a-1da6-46c7-919a-d42dc0f6d8b7"
      },
      "source": [
        "pip install bayesian-optimization"
      ],
      "execution_count": 76,
      "outputs": [
        {
          "output_type": "stream",
          "text": [
            "Requirement already satisfied: bayesian-optimization in /usr/local/lib/python3.7/dist-packages (1.2.0)\n",
            "Requirement already satisfied: scipy>=0.14.0 in /usr/local/lib/python3.7/dist-packages (from bayesian-optimization) (1.4.1)\n",
            "Requirement already satisfied: scikit-learn>=0.18.0 in /usr/local/lib/python3.7/dist-packages (from bayesian-optimization) (0.22.2.post1)\n",
            "Requirement already satisfied: numpy>=1.9.0 in /usr/local/lib/python3.7/dist-packages (from bayesian-optimization) (1.19.5)\n",
            "Requirement already satisfied: joblib>=0.11 in /usr/local/lib/python3.7/dist-packages (from scikit-learn>=0.18.0->bayesian-optimization) (1.0.1)\n"
          ],
          "name": "stdout"
        }
      ]
    },
    {
      "cell_type": "code",
      "metadata": {
        "id": "iTseGcVoGZuT"
      },
      "source": [
        "import warnings\n",
        "warnings.filterwarnings('ignore')\n",
        "import numpy as np\n",
        "import pandas as pd\n",
        "from datetime import datetime\n",
        "from sklearn.model_selection import RandomizedSearchCV, GridSearchCV\n",
        "from sklearn.metrics import roc_auc_score\n",
        "from xgboost import XGBClassifier\n",
        "from sklearn.model_selection import TimeSeriesSplit\n",
        "\n",
        "import xgboost as xgb\n",
        "import lightgbm as lgb\n",
        "import bayes_opt as bayso\n",
        "from sklearn.metrics import accuracy_score,confusion_matrix"
      ],
      "execution_count": 77,
      "outputs": []
    },
    {
      "cell_type": "code",
      "metadata": {
        "id": "V--hUE3FGZuT"
      },
      "source": [
        "def lgbcv1(min_child_weight,\n",
        "           colsample_bytree,\n",
        "           max_depth,\n",
        "           subsample,\n",
        "           min_gain_to_split,\n",
        "           reg_alpha,\n",
        "           reg_lambda):\n",
        "\n",
        "    params = {\n",
        "        'objective': 'binary',\n",
        "        'metric': 'auc',\n",
        "        'boosting': 'gbdt',\n",
        "        'random_state' : 501, # Updated from 'seed'\n",
        "        'n_estimators' : 200,\n",
        "        'learning_rate': 0.1,\n",
        "        'early_stopping_round' : 10,\n",
        "        'verbose': 20,\n",
        "        'num_leaves': 65,\n",
        "        'min_data_in_leaf': 500,\n",
        "        'bagging_freq': 1,\n",
        "        'bagging_seed': RS,\n",
        "        'feature_fraction_seed': RS,\n",
        "        'max_bin': 50,\n",
        "        'min_child_weight': int(min_child_weight),\n",
        "        'colsample_bytree': max(min(colsample_bytree, 1), 0),\n",
        "        'max_depth': int(max_depth),\n",
        "        'subsample': max(min(subsample, 1), 0),\n",
        "        'min_gain_to_split': max(min_gain_to_split,0),\n",
        "        'reg_alpha': max(reg_alpha,0),\n",
        "        'reg_lambda': max(reg_lambda,0)\n",
        "    }\n",
        "\n",
        "\n",
        "    cv_result = lgb.cv(params, lgtrain, nfold=5, seed=0, verbose_eval =200,stratified=False,shuffle=False)\n",
        "\n",
        "    return max(cv_result['auc-mean'])"
      ],
      "execution_count": 78,
      "outputs": []
    },
    {
      "cell_type": "code",
      "metadata": {
        "id": "VflCwTrjGZuU"
      },
      "source": [
        "def prepare_data():\n",
        "    lgtrain = lgb.Dataset(X_train, label=Y_train)\n",
        "\n",
        "    return lgtrain"
      ],
      "execution_count": 81,
      "outputs": []
    },
    {
      "cell_type": "code",
      "metadata": {
        "colab": {
          "base_uri": "https://localhost:8080/"
        },
        "id": "VkzNADFFGZuU",
        "scrolled": true,
        "outputId": "73f05c18-3940-4cc3-f8ef-88637b18dc2d"
      },
      "source": [
        "if __name__ == '__main__':\n",
        "    lgtrain =  prepare_data()\n",
        "    random_state = 2020\n",
        "    init_points = 30\n",
        "    numitems=30\n",
        "    RS = 20200801\n",
        "    np.random.seed(RS)\n",
        "    lgbo = bayso.BayesianOptimization(lgbcv1,\n",
        "                                      {'min_child_weight': (300, 500),\n",
        "                                      'colsample_bytree': (0.4, 0.7),\n",
        "                                      'max_depth': (5, 7),\n",
        "                                      'subsample': (0.3, 1.0),\n",
        "                                      'min_gain_to_split': (0, 20),\n",
        "                                      'reg_alpha': (0, 20),\n",
        "                                      'reg_lambda': (0, 50)})\n",
        "    \n",
        "    lgbo.maximize(init_points=init_points, n_iter=numitems)"
      ],
      "execution_count": 115,
      "outputs": [
        {
          "output_type": "stream",
          "text": [
            "|   iter    |  target   | colsam... | max_depth | min_ch... | min_ga... | reg_alpha | reg_la... | subsample |\n",
            "-------------------------------------------------------------------------------------------------------------\n",
            "| \u001b[0m 1       \u001b[0m | \u001b[0m 0.5     \u001b[0m | \u001b[0m 0.5608  \u001b[0m | \u001b[0m 5.244   \u001b[0m | \u001b[0m 403.5   \u001b[0m | \u001b[0m 1.192   \u001b[0m | \u001b[0m 7.098   \u001b[0m | \u001b[0m 38.11   \u001b[0m | \u001b[0m 0.6018  \u001b[0m |\n",
            "| \u001b[0m 2       \u001b[0m | \u001b[0m 0.5     \u001b[0m | \u001b[0m 0.6625  \u001b[0m | \u001b[0m 5.859   \u001b[0m | \u001b[0m 354.8   \u001b[0m | \u001b[0m 15.47   \u001b[0m | \u001b[0m 5.161   \u001b[0m | \u001b[0m 48.44   \u001b[0m | \u001b[0m 0.4452  \u001b[0m |\n",
            "| \u001b[0m 3       \u001b[0m | \u001b[0m 0.5     \u001b[0m | \u001b[0m 0.4175  \u001b[0m | \u001b[0m 6.635   \u001b[0m | \u001b[0m 358.5   \u001b[0m | \u001b[0m 4.481   \u001b[0m | \u001b[0m 10.57   \u001b[0m | \u001b[0m 33.98   \u001b[0m | \u001b[0m 0.6196  \u001b[0m |\n",
            "| \u001b[0m 4       \u001b[0m | \u001b[0m 0.5     \u001b[0m | \u001b[0m 0.5489  \u001b[0m | \u001b[0m 5.248   \u001b[0m | \u001b[0m 353.2   \u001b[0m | \u001b[0m 17.45   \u001b[0m | \u001b[0m 5.93    \u001b[0m | \u001b[0m 0.7026  \u001b[0m | \u001b[0m 0.7923  \u001b[0m |\n",
            "| \u001b[0m 5       \u001b[0m | \u001b[0m 0.5     \u001b[0m | \u001b[0m 0.658   \u001b[0m | \u001b[0m 5.799   \u001b[0m | \u001b[0m 417.9   \u001b[0m | \u001b[0m 14.76   \u001b[0m | \u001b[0m 9.85    \u001b[0m | \u001b[0m 4.549   \u001b[0m | \u001b[0m 0.4861  \u001b[0m |\n",
            "| \u001b[0m 6       \u001b[0m | \u001b[0m 0.5     \u001b[0m | \u001b[0m 0.5305  \u001b[0m | \u001b[0m 6.443   \u001b[0m | \u001b[0m 305.1   \u001b[0m | \u001b[0m 15.41   \u001b[0m | \u001b[0m 0.2699  \u001b[0m | \u001b[0m 23.86   \u001b[0m | \u001b[0m 0.5994  \u001b[0m |\n",
            "| \u001b[0m 7       \u001b[0m | \u001b[0m 0.5     \u001b[0m | \u001b[0m 0.6742  \u001b[0m | \u001b[0m 6.765   \u001b[0m | \u001b[0m 495.8   \u001b[0m | \u001b[0m 1.491   \u001b[0m | \u001b[0m 15.75   \u001b[0m | \u001b[0m 32.5    \u001b[0m | \u001b[0m 0.8352  \u001b[0m |\n",
            "| \u001b[0m 8       \u001b[0m | \u001b[0m 0.5     \u001b[0m | \u001b[0m 0.6965  \u001b[0m | \u001b[0m 6.234   \u001b[0m | \u001b[0m 420.9   \u001b[0m | \u001b[0m 11.42   \u001b[0m | \u001b[0m 9.923   \u001b[0m | \u001b[0m 21.21   \u001b[0m | \u001b[0m 0.7041  \u001b[0m |\n",
            "| \u001b[0m 9       \u001b[0m | \u001b[0m 0.5     \u001b[0m | \u001b[0m 0.6003  \u001b[0m | \u001b[0m 6.976   \u001b[0m | \u001b[0m 388.4   \u001b[0m | \u001b[0m 8.859   \u001b[0m | \u001b[0m 17.48   \u001b[0m | \u001b[0m 44.6    \u001b[0m | \u001b[0m 0.4682  \u001b[0m |\n",
            "| \u001b[0m 10      \u001b[0m | \u001b[0m 0.5     \u001b[0m | \u001b[0m 0.469   \u001b[0m | \u001b[0m 6.15    \u001b[0m | \u001b[0m 309.1   \u001b[0m | \u001b[0m 11.45   \u001b[0m | \u001b[0m 12.35   \u001b[0m | \u001b[0m 8.327   \u001b[0m | \u001b[0m 0.3717  \u001b[0m |\n",
            "| \u001b[0m 11      \u001b[0m | \u001b[0m 0.5     \u001b[0m | \u001b[0m 0.4508  \u001b[0m | \u001b[0m 6.521   \u001b[0m | \u001b[0m 359.7   \u001b[0m | \u001b[0m 1.571   \u001b[0m | \u001b[0m 8.215   \u001b[0m | \u001b[0m 16.68   \u001b[0m | \u001b[0m 0.791   \u001b[0m |\n",
            "| \u001b[95m 12      \u001b[0m | \u001b[95m 0.863   \u001b[0m | \u001b[95m 0.5647  \u001b[0m | \u001b[95m 6.232   \u001b[0m | \u001b[95m 350.2   \u001b[0m | \u001b[95m 12.21   \u001b[0m | \u001b[95m 9.606   \u001b[0m | \u001b[95m 31.0    \u001b[0m | \u001b[95m 0.878   \u001b[0m |\n",
            "| \u001b[0m 13      \u001b[0m | \u001b[0m 0.5     \u001b[0m | \u001b[0m 0.4965  \u001b[0m | \u001b[0m 5.721   \u001b[0m | \u001b[0m 365.5   \u001b[0m | \u001b[0m 16.69   \u001b[0m | \u001b[0m 14.43   \u001b[0m | \u001b[0m 19.22   \u001b[0m | \u001b[0m 0.6156  \u001b[0m |\n",
            "| \u001b[0m 14      \u001b[0m | \u001b[0m 0.5     \u001b[0m | \u001b[0m 0.4489  \u001b[0m | \u001b[0m 6.02    \u001b[0m | \u001b[0m 477.2   \u001b[0m | \u001b[0m 0.2806  \u001b[0m | \u001b[0m 9.641   \u001b[0m | \u001b[0m 22.4    \u001b[0m | \u001b[0m 0.8245  \u001b[0m |\n",
            "| \u001b[0m 15      \u001b[0m | \u001b[0m 0.5     \u001b[0m | \u001b[0m 0.6453  \u001b[0m | \u001b[0m 5.903   \u001b[0m | \u001b[0m 403.4   \u001b[0m | \u001b[0m 0.6953  \u001b[0m | \u001b[0m 12.32   \u001b[0m | \u001b[0m 3.948   \u001b[0m | \u001b[0m 0.4516  \u001b[0m |\n",
            "| \u001b[0m 16      \u001b[0m | \u001b[0m 0.5     \u001b[0m | \u001b[0m 0.6467  \u001b[0m | \u001b[0m 5.203   \u001b[0m | \u001b[0m 417.2   \u001b[0m | \u001b[0m 10.74   \u001b[0m | \u001b[0m 18.35   \u001b[0m | \u001b[0m 0.8466  \u001b[0m | \u001b[0m 0.676   \u001b[0m |\n",
            "| \u001b[0m 17      \u001b[0m | \u001b[0m 0.5     \u001b[0m | \u001b[0m 0.4819  \u001b[0m | \u001b[0m 5.875   \u001b[0m | \u001b[0m 328.0   \u001b[0m | \u001b[0m 2.825   \u001b[0m | \u001b[0m 18.48   \u001b[0m | \u001b[0m 42.58   \u001b[0m | \u001b[0m 0.4314  \u001b[0m |\n",
            "| \u001b[0m 18      \u001b[0m | \u001b[0m 0.8345  \u001b[0m | \u001b[0m 0.4402  \u001b[0m | \u001b[0m 6.495   \u001b[0m | \u001b[0m 417.6   \u001b[0m | \u001b[0m 3.096   \u001b[0m | \u001b[0m 8.767   \u001b[0m | \u001b[0m 14.12   \u001b[0m | \u001b[0m 0.9713  \u001b[0m |\n",
            "| \u001b[0m 19      \u001b[0m | \u001b[0m 0.5     \u001b[0m | \u001b[0m 0.4449  \u001b[0m | \u001b[0m 5.667   \u001b[0m | \u001b[0m 309.5   \u001b[0m | \u001b[0m 12.18   \u001b[0m | \u001b[0m 12.12   \u001b[0m | \u001b[0m 47.24   \u001b[0m | \u001b[0m 0.596   \u001b[0m |\n",
            "| \u001b[0m 20      \u001b[0m | \u001b[0m 0.5     \u001b[0m | \u001b[0m 0.5488  \u001b[0m | \u001b[0m 6.286   \u001b[0m | \u001b[0m 399.3   \u001b[0m | \u001b[0m 12.94   \u001b[0m | \u001b[0m 4.87    \u001b[0m | \u001b[0m 4.491   \u001b[0m | \u001b[0m 0.5106  \u001b[0m |\n",
            "| \u001b[0m 21      \u001b[0m | \u001b[0m 0.5     \u001b[0m | \u001b[0m 0.6441  \u001b[0m | \u001b[0m 5.2     \u001b[0m | \u001b[0m 370.3   \u001b[0m | \u001b[0m 16.48   \u001b[0m | \u001b[0m 9.5     \u001b[0m | \u001b[0m 38.8    \u001b[0m | \u001b[0m 0.3266  \u001b[0m |\n",
            "| \u001b[0m 22      \u001b[0m | \u001b[0m 0.5     \u001b[0m | \u001b[0m 0.5048  \u001b[0m | \u001b[0m 6.254   \u001b[0m | \u001b[0m 498.6   \u001b[0m | \u001b[0m 9.825   \u001b[0m | \u001b[0m 6.054   \u001b[0m | \u001b[0m 49.4    \u001b[0m | \u001b[0m 0.4534  \u001b[0m |\n",
            "| \u001b[0m 23      \u001b[0m | \u001b[0m 0.5     \u001b[0m | \u001b[0m 0.6139  \u001b[0m | \u001b[0m 6.114   \u001b[0m | \u001b[0m 385.5   \u001b[0m | \u001b[0m 15.85   \u001b[0m | \u001b[0m 1.632   \u001b[0m | \u001b[0m 34.09   \u001b[0m | \u001b[0m 0.6069  \u001b[0m |\n",
            "| \u001b[0m 24      \u001b[0m | \u001b[0m 0.8595  \u001b[0m | \u001b[0m 0.5103  \u001b[0m | \u001b[0m 5.633   \u001b[0m | \u001b[0m 360.7   \u001b[0m | \u001b[0m 10.47   \u001b[0m | \u001b[0m 10.29   \u001b[0m | \u001b[0m 49.0    \u001b[0m | \u001b[0m 0.9406  \u001b[0m |\n",
            "| \u001b[0m 25      \u001b[0m | \u001b[0m 0.5     \u001b[0m | \u001b[0m 0.5657  \u001b[0m | \u001b[0m 6.365   \u001b[0m | \u001b[0m 350.3   \u001b[0m | \u001b[0m 8.461   \u001b[0m | \u001b[0m 6.61    \u001b[0m | \u001b[0m 39.3    \u001b[0m | \u001b[0m 0.4654  \u001b[0m |\n",
            "| \u001b[95m 26      \u001b[0m | \u001b[95m 0.8633  \u001b[0m | \u001b[95m 0.4724  \u001b[0m | \u001b[95m 5.084   \u001b[0m | \u001b[95m 314.7   \u001b[0m | \u001b[95m 14.58   \u001b[0m | \u001b[95m 12.17   \u001b[0m | \u001b[95m 44.47   \u001b[0m | \u001b[95m 0.7834  \u001b[0m |\n",
            "| \u001b[0m 27      \u001b[0m | \u001b[0m 0.5     \u001b[0m | \u001b[0m 0.5226  \u001b[0m | \u001b[0m 6.969   \u001b[0m | \u001b[0m 350.9   \u001b[0m | \u001b[0m 3.182   \u001b[0m | \u001b[0m 17.26   \u001b[0m | \u001b[0m 37.96   \u001b[0m | \u001b[0m 0.6566  \u001b[0m |\n",
            "| \u001b[0m 28      \u001b[0m | \u001b[0m 0.5     \u001b[0m | \u001b[0m 0.6691  \u001b[0m | \u001b[0m 5.731   \u001b[0m | \u001b[0m 438.2   \u001b[0m | \u001b[0m 2.311   \u001b[0m | \u001b[0m 0.9579  \u001b[0m | \u001b[0m 19.83   \u001b[0m | \u001b[0m 0.9445  \u001b[0m |\n",
            "| \u001b[0m 29      \u001b[0m | \u001b[0m 0.5     \u001b[0m | \u001b[0m 0.4102  \u001b[0m | \u001b[0m 5.451   \u001b[0m | \u001b[0m 477.9   \u001b[0m | \u001b[0m 15.02   \u001b[0m | \u001b[0m 9.843   \u001b[0m | \u001b[0m 0.4554  \u001b[0m | \u001b[0m 0.7689  \u001b[0m |\n",
            "| \u001b[0m 30      \u001b[0m | \u001b[0m 0.5     \u001b[0m | \u001b[0m 0.4874  \u001b[0m | \u001b[0m 5.791   \u001b[0m | \u001b[0m 312.4   \u001b[0m | \u001b[0m 3.205   \u001b[0m | \u001b[0m 5.849   \u001b[0m | \u001b[0m 19.67   \u001b[0m | \u001b[0m 0.3313  \u001b[0m |\n",
            "| \u001b[0m 31      \u001b[0m | \u001b[0m 0.5     \u001b[0m | \u001b[0m 0.4785  \u001b[0m | \u001b[0m 5.179   \u001b[0m | \u001b[0m 479.2   \u001b[0m | \u001b[0m 8.045   \u001b[0m | \u001b[0m 6.614   \u001b[0m | \u001b[0m 24.41   \u001b[0m | \u001b[0m 0.848   \u001b[0m |\n",
            "| \u001b[0m 32      \u001b[0m | \u001b[0m 0.5     \u001b[0m | \u001b[0m 0.6891  \u001b[0m | \u001b[0m 5.947   \u001b[0m | \u001b[0m 482.7   \u001b[0m | \u001b[0m 8.77    \u001b[0m | \u001b[0m 14.69   \u001b[0m | \u001b[0m 39.13   \u001b[0m | \u001b[0m 0.5668  \u001b[0m |\n",
            "| \u001b[95m 33      \u001b[0m | \u001b[95m 0.8807  \u001b[0m | \u001b[95m 0.4     \u001b[0m | \u001b[95m 5.0     \u001b[0m | \u001b[95m 329.1   \u001b[0m | \u001b[95m 20.0    \u001b[0m | \u001b[95m 20.0    \u001b[0m | \u001b[95m 23.52   \u001b[0m | \u001b[95m 1.0     \u001b[0m |\n",
            "| \u001b[0m 34      \u001b[0m | \u001b[0m 0.5     \u001b[0m | \u001b[0m 0.665   \u001b[0m | \u001b[0m 6.62    \u001b[0m | \u001b[0m 499.4   \u001b[0m | \u001b[0m 2.308   \u001b[0m | \u001b[0m 2.475   \u001b[0m | \u001b[0m 2.835   \u001b[0m | \u001b[0m 0.4464  \u001b[0m |\n",
            "| \u001b[0m 35      \u001b[0m | \u001b[0m 0.5     \u001b[0m | \u001b[0m 0.4     \u001b[0m | \u001b[0m 7.0     \u001b[0m | \u001b[0m 451.2   \u001b[0m | \u001b[0m 20.0    \u001b[0m | \u001b[0m 0.0     \u001b[0m | \u001b[0m 50.0    \u001b[0m | \u001b[0m 1.0     \u001b[0m |\n",
            "| \u001b[0m 36      \u001b[0m | \u001b[0m 0.6862  \u001b[0m | \u001b[0m 0.4     \u001b[0m | \u001b[0m 5.0     \u001b[0m | \u001b[0m 442.1   \u001b[0m | \u001b[0m 0.0     \u001b[0m | \u001b[0m 20.0    \u001b[0m | \u001b[0m 50.0    \u001b[0m | \u001b[0m 1.0     \u001b[0m |\n",
            "| \u001b[0m 37      \u001b[0m | \u001b[0m 0.5     \u001b[0m | \u001b[0m 0.6369  \u001b[0m | \u001b[0m 5.658   \u001b[0m | \u001b[0m 397.5   \u001b[0m | \u001b[0m 9.395   \u001b[0m | \u001b[0m 12.21   \u001b[0m | \u001b[0m 29.2    \u001b[0m | \u001b[0m 0.3382  \u001b[0m |\n",
            "| \u001b[0m 38      \u001b[0m | \u001b[0m 0.5     \u001b[0m | \u001b[0m 0.5019  \u001b[0m | \u001b[0m 6.233   \u001b[0m | \u001b[0m 395.7   \u001b[0m | \u001b[0m 18.08   \u001b[0m | \u001b[0m 2.821   \u001b[0m | \u001b[0m 4.49    \u001b[0m | \u001b[0m 0.8553  \u001b[0m |\n",
            "| \u001b[0m 39      \u001b[0m | \u001b[0m 0.8785  \u001b[0m | \u001b[0m 0.4     \u001b[0m | \u001b[0m 5.0     \u001b[0m | \u001b[0m 332.9   \u001b[0m | \u001b[0m 20.0    \u001b[0m | \u001b[0m 20.0    \u001b[0m | \u001b[0m 50.0    \u001b[0m | \u001b[0m 1.0     \u001b[0m |\n",
            "| \u001b[0m 40      \u001b[0m | \u001b[0m 0.5     \u001b[0m | \u001b[0m 0.613   \u001b[0m | \u001b[0m 5.403   \u001b[0m | \u001b[0m 352.7   \u001b[0m | \u001b[0m 12.13   \u001b[0m | \u001b[0m 10.5    \u001b[0m | \u001b[0m 30.75   \u001b[0m | \u001b[0m 0.4717  \u001b[0m |\n",
            "| \u001b[0m 41      \u001b[0m | \u001b[0m 0.8636  \u001b[0m | \u001b[0m 0.5677  \u001b[0m | \u001b[0m 6.985   \u001b[0m | \u001b[0m 330.1   \u001b[0m | \u001b[0m 17.97   \u001b[0m | \u001b[0m 1.844   \u001b[0m | \u001b[0m 20.44   \u001b[0m | \u001b[0m 0.8724  \u001b[0m |\n",
            "| \u001b[0m 42      \u001b[0m | \u001b[0m 0.5     \u001b[0m | \u001b[0m 0.4585  \u001b[0m | \u001b[0m 5.787   \u001b[0m | \u001b[0m 445.4   \u001b[0m | \u001b[0m 2.214   \u001b[0m | \u001b[0m 19.13   \u001b[0m | \u001b[0m 0.2516  \u001b[0m | \u001b[0m 0.59    \u001b[0m |\n",
            "| \u001b[95m 43      \u001b[0m | \u001b[95m 0.8822  \u001b[0m | \u001b[95m 0.4     \u001b[0m | \u001b[95m 7.0     \u001b[0m | \u001b[95m 325.8   \u001b[0m | \u001b[95m 20.0    \u001b[0m | \u001b[95m 0.0     \u001b[0m | \u001b[95m 50.0    \u001b[0m | \u001b[95m 1.0     \u001b[0m |\n",
            "| \u001b[95m 44      \u001b[0m | \u001b[95m 0.8848  \u001b[0m | \u001b[95m 0.4     \u001b[0m | \u001b[95m 7.0     \u001b[0m | \u001b[95m 334.7   \u001b[0m | \u001b[95m 0.0     \u001b[0m | \u001b[95m 20.0    \u001b[0m | \u001b[95m 0.0     \u001b[0m | \u001b[95m 1.0     \u001b[0m |\n",
            "| \u001b[0m 45      \u001b[0m | \u001b[0m 0.8618  \u001b[0m | \u001b[0m 0.4     \u001b[0m | \u001b[0m 7.0     \u001b[0m | \u001b[0m 375.1   \u001b[0m | \u001b[0m 0.0     \u001b[0m | \u001b[0m 0.0     \u001b[0m | \u001b[0m 50.0    \u001b[0m | \u001b[0m 1.0     \u001b[0m |\n",
            "| \u001b[0m 46      \u001b[0m | \u001b[0m 0.5     \u001b[0m | \u001b[0m 0.7     \u001b[0m | \u001b[0m 7.0     \u001b[0m | \u001b[0m 500.0   \u001b[0m | \u001b[0m 20.0    \u001b[0m | \u001b[0m 20.0    \u001b[0m | \u001b[0m 0.0     \u001b[0m | \u001b[0m 1.0     \u001b[0m |\n",
            "| \u001b[0m 47      \u001b[0m | \u001b[0m 0.5     \u001b[0m | \u001b[0m 0.4     \u001b[0m | \u001b[0m 5.0     \u001b[0m | \u001b[0m 468.0   \u001b[0m | \u001b[0m 0.0     \u001b[0m | \u001b[0m 0.0     \u001b[0m | \u001b[0m 50.0    \u001b[0m | \u001b[0m 1.0     \u001b[0m |\n",
            "| \u001b[0m 48      \u001b[0m | \u001b[0m 0.5     \u001b[0m | \u001b[0m 0.7     \u001b[0m | \u001b[0m 5.0     \u001b[0m | \u001b[0m 456.1   \u001b[0m | \u001b[0m 20.0    \u001b[0m | \u001b[0m 20.0    \u001b[0m | \u001b[0m 26.26   \u001b[0m | \u001b[0m 0.3     \u001b[0m |\n",
            "| \u001b[0m 49      \u001b[0m | \u001b[0m 0.8504  \u001b[0m | \u001b[0m 0.4     \u001b[0m | \u001b[0m 7.0     \u001b[0m | \u001b[0m 416.8   \u001b[0m | \u001b[0m 20.0    \u001b[0m | \u001b[0m 0.0     \u001b[0m | \u001b[0m 50.0    \u001b[0m | \u001b[0m 1.0     \u001b[0m |\n",
            "| \u001b[95m 50      \u001b[0m | \u001b[95m 0.8992  \u001b[0m | \u001b[95m 0.4     \u001b[0m | \u001b[95m 7.0     \u001b[0m | \u001b[95m 300.0   \u001b[0m | \u001b[95m 0.0     \u001b[0m | \u001b[95m 0.0     \u001b[0m | \u001b[95m 0.0     \u001b[0m | \u001b[95m 1.0     \u001b[0m |\n",
            "| \u001b[0m 51      \u001b[0m | \u001b[0m 0.8827  \u001b[0m | \u001b[0m 0.4     \u001b[0m | \u001b[0m 7.0     \u001b[0m | \u001b[0m 338.8   \u001b[0m | \u001b[0m 0.0     \u001b[0m | \u001b[0m 0.0     \u001b[0m | \u001b[0m 21.82   \u001b[0m | \u001b[0m 1.0     \u001b[0m |\n",
            "| \u001b[0m 52      \u001b[0m | \u001b[0m 0.8482  \u001b[0m | \u001b[0m 0.4     \u001b[0m | \u001b[0m 5.0     \u001b[0m | \u001b[0m 424.3   \u001b[0m | \u001b[0m 20.0    \u001b[0m | \u001b[0m 20.0    \u001b[0m | \u001b[0m 50.0    \u001b[0m | \u001b[0m 1.0     \u001b[0m |\n",
            "| \u001b[0m 53      \u001b[0m | \u001b[0m 0.8975  \u001b[0m | \u001b[0m 0.7     \u001b[0m | \u001b[0m 7.0     \u001b[0m | \u001b[0m 300.0   \u001b[0m | \u001b[0m 0.0     \u001b[0m | \u001b[0m 20.0    \u001b[0m | \u001b[0m 0.0     \u001b[0m | \u001b[0m 1.0     \u001b[0m |\n",
            "| \u001b[0m 54      \u001b[0m | \u001b[0m 0.5     \u001b[0m | \u001b[0m 0.4     \u001b[0m | \u001b[0m 7.0     \u001b[0m | \u001b[0m 451.0   \u001b[0m | \u001b[0m 20.0    \u001b[0m | \u001b[0m 0.0     \u001b[0m | \u001b[0m 0.0     \u001b[0m | \u001b[0m 1.0     \u001b[0m |\n",
            "| \u001b[0m 55      \u001b[0m | \u001b[0m 0.5     \u001b[0m | \u001b[0m 0.4     \u001b[0m | \u001b[0m 7.0     \u001b[0m | \u001b[0m 428.5   \u001b[0m | \u001b[0m 0.0     \u001b[0m | \u001b[0m 0.0     \u001b[0m | \u001b[0m 50.0    \u001b[0m | \u001b[0m 0.3     \u001b[0m |\n",
            "| \u001b[0m 56      \u001b[0m | \u001b[0m 0.8584  \u001b[0m | \u001b[0m 0.4     \u001b[0m | \u001b[0m 7.0     \u001b[0m | \u001b[0m 376.9   \u001b[0m | \u001b[0m 20.0    \u001b[0m | \u001b[0m 20.0    \u001b[0m | \u001b[0m 0.0     \u001b[0m | \u001b[0m 1.0     \u001b[0m |\n",
            "| \u001b[0m 57      \u001b[0m | \u001b[0m 0.5     \u001b[0m | \u001b[0m 0.4     \u001b[0m | \u001b[0m 7.0     \u001b[0m | \u001b[0m 500.0   \u001b[0m | \u001b[0m 20.0    \u001b[0m | \u001b[0m 20.0    \u001b[0m | \u001b[0m 31.91   \u001b[0m | \u001b[0m 1.0     \u001b[0m |\n",
            "| \u001b[0m 58      \u001b[0m | \u001b[0m 0.8592  \u001b[0m | \u001b[0m 0.4     \u001b[0m | \u001b[0m 7.0     \u001b[0m | \u001b[0m 369.2   \u001b[0m | \u001b[0m 0.0     \u001b[0m | \u001b[0m 20.0    \u001b[0m | \u001b[0m 0.0     \u001b[0m | \u001b[0m 1.0     \u001b[0m |\n",
            "| \u001b[0m 59      \u001b[0m | \u001b[0m 0.5     \u001b[0m | \u001b[0m 0.6502  \u001b[0m | \u001b[0m 6.722   \u001b[0m | \u001b[0m 335.1   \u001b[0m | \u001b[0m 18.99   \u001b[0m | \u001b[0m 9.768   \u001b[0m | \u001b[0m 37.03   \u001b[0m | \u001b[0m 0.4681  \u001b[0m |\n",
            "| \u001b[0m 60      \u001b[0m | \u001b[0m 0.8797  \u001b[0m | \u001b[0m 0.4     \u001b[0m | \u001b[0m 7.0     \u001b[0m | \u001b[0m 334.5   \u001b[0m | \u001b[0m 20.0    \u001b[0m | \u001b[0m 20.0    \u001b[0m | \u001b[0m 0.0     \u001b[0m | \u001b[0m 1.0     \u001b[0m |\n",
            "=============================================================================================================\n"
          ],
          "name": "stdout"
        }
      ]
    },
    {
      "cell_type": "code",
      "metadata": {
        "colab": {
          "base_uri": "https://localhost:8080/"
        },
        "id": "sTj2JyJ9GZuW",
        "outputId": "d13fd455-a629-47f0-c8f1-f2e6a2136a41"
      },
      "source": [
        "len(lgbo.res)"
      ],
      "execution_count": 116,
      "outputs": [
        {
          "output_type": "execute_result",
          "data": {
            "text/plain": [
              "60"
            ]
          },
          "metadata": {
            "tags": []
          },
          "execution_count": 116
        }
      ]
    },
    {
      "cell_type": "markdown",
      "metadata": {
        "id": "EWPcvDLVGZuY"
      },
      "source": [
        "### Finding optimal set of parameters"
      ]
    },
    {
      "cell_type": "code",
      "metadata": {
        "id": "aplb37DTGZuZ"
      },
      "source": [
        "max_target=max([lgbo.res[elem]['target'] for elem in range(len(lgbo.res))])\n",
        "opt_params=[elem['params'] for elem in lgbo.res if elem['target']==max_target][0]"
      ],
      "execution_count": 117,
      "outputs": []
    },
    {
      "cell_type": "markdown",
      "metadata": {
        "id": "XC0peB5BGZuZ"
      },
      "source": [
        "### Updating the model parameters"
      ]
    },
    {
      "cell_type": "code",
      "metadata": {
        "id": "GfW5P6oWGZuc"
      },
      "source": [
        "opt_params.update({\n",
        "    'objective': 'binary',\n",
        "    'metric': 'auc',\n",
        "    'boosting': 'gbdt',\n",
        "    'random_state' : 501, # Updated from 'seed'\n",
        "    'n_estimators' : 200,\n",
        "    'learning_rate': 0.1,\n",
        "    'early_stopping_round' : 10,\n",
        "    'verbose': 20,\n",
        "    'num_leaves': 65,\n",
        "    'min_data_in_leaf': 500,\n",
        "    'bagging_freq': 1,\n",
        "    'bagging_seed': RS,\n",
        "    'feature_fraction_seed': RS,\n",
        "    'max_bin': 50})\n",
        "opt_params['min_child_weight'] = int(opt_params['min_child_weight'])\n",
        "opt_params['colsample_bytree'] = max(min(opt_params['colsample_bytree'], 1), 0)\n",
        "opt_params['max_depth'] = int(opt_params['max_depth'])\n",
        "opt_params['subsample'] = max(min(opt_params['subsample'], 1), 0)\n",
        "opt_params['min_gain_to_split'] = max(opt_params['min_gain_to_split'],0)\n",
        "opt_params['reg_alpha'] = max(opt_params['reg_alpha'],0)\n",
        "opt_params['reg_lambda'] = max(opt_params['reg_lambda'],0)"
      ],
      "execution_count": 118,
      "outputs": []
    },
    {
      "cell_type": "code",
      "metadata": {
        "colab": {
          "base_uri": "https://localhost:8080/"
        },
        "id": "5TMq_1YUGZuc",
        "scrolled": true,
        "outputId": "a685dd58-e79f-4f02-b785-7c76bd53938e"
      },
      "source": [
        "opt_params"
      ],
      "execution_count": 119,
      "outputs": [
        {
          "output_type": "execute_result",
          "data": {
            "text/plain": [
              "{'bagging_freq': 1,\n",
              " 'bagging_seed': 20200801,\n",
              " 'boosting': 'gbdt',\n",
              " 'colsample_bytree': 0.4,\n",
              " 'early_stopping_round': 10,\n",
              " 'feature_fraction_seed': 20200801,\n",
              " 'learning_rate': 0.1,\n",
              " 'max_bin': 50,\n",
              " 'max_depth': 7,\n",
              " 'metric': 'auc',\n",
              " 'min_child_weight': 300,\n",
              " 'min_data_in_leaf': 500,\n",
              " 'min_gain_to_split': 0.0,\n",
              " 'n_estimators': 200,\n",
              " 'num_leaves': 65,\n",
              " 'objective': 'binary',\n",
              " 'random_state': 501,\n",
              " 'reg_alpha': 0.0,\n",
              " 'reg_lambda': 0.0,\n",
              " 'subsample': 1.0,\n",
              " 'verbose': 20}"
            ]
          },
          "metadata": {
            "tags": []
          },
          "execution_count": 119
        }
      ]
    },
    {
      "cell_type": "markdown",
      "metadata": {
        "id": "dKy6iIzcGZud"
      },
      "source": [
        "### Training the model on our optimal set of parameters"
      ]
    },
    {
      "cell_type": "code",
      "metadata": {
        "id": "hbSZYF-uGZue"
      },
      "source": [
        "lgb_train = lgb.Dataset(X_train, Y_train)\n",
        "lgb_eval = lgb.Dataset(X_val, Y_val, reference=lgb_train)"
      ],
      "execution_count": 120,
      "outputs": []
    },
    {
      "cell_type": "code",
      "metadata": {
        "colab": {
          "base_uri": "https://localhost:8080/"
        },
        "id": "7akiNcitGZue",
        "scrolled": true,
        "outputId": "72180079-4a60-415d-a1c9-957deb9bbcd8"
      },
      "source": [
        "lgb_model = lgb.train(opt_params, lgb_train, valid_sets=lgb_eval)"
      ],
      "execution_count": 121,
      "outputs": [
        {
          "output_type": "stream",
          "text": [
            "[1]\tvalid_0's auc: 0.734893\n",
            "Training until validation scores don't improve for 10 rounds.\n",
            "[2]\tvalid_0's auc: 0.741201\n",
            "[3]\tvalid_0's auc: 0.839744\n",
            "[4]\tvalid_0's auc: 0.850543\n",
            "[5]\tvalid_0's auc: 0.862179\n",
            "[6]\tvalid_0's auc: 0.862179\n",
            "[7]\tvalid_0's auc: 0.865691\n",
            "[8]\tvalid_0's auc: 0.865364\n",
            "[9]\tvalid_0's auc: 0.865813\n",
            "[10]\tvalid_0's auc: 0.867528\n",
            "[11]\tvalid_0's auc: 0.866201\n",
            "[12]\tvalid_0's auc: 0.866691\n",
            "[13]\tvalid_0's auc: 0.866977\n",
            "[14]\tvalid_0's auc: 0.866773\n",
            "[15]\tvalid_0's auc: 0.867222\n",
            "[16]\tvalid_0's auc: 0.872611\n",
            "[17]\tvalid_0's auc: 0.872775\n",
            "[18]\tvalid_0's auc: 0.877715\n",
            "[19]\tvalid_0's auc: 0.877838\n",
            "[20]\tvalid_0's auc: 0.879634\n",
            "[21]\tvalid_0's auc: 0.879634\n",
            "[22]\tvalid_0's auc: 0.879961\n",
            "[23]\tvalid_0's auc: 0.886963\n",
            "[24]\tvalid_0's auc: 0.888862\n",
            "[25]\tvalid_0's auc: 0.889127\n",
            "[26]\tvalid_0's auc: 0.892475\n",
            "[27]\tvalid_0's auc: 0.892353\n",
            "[28]\tvalid_0's auc: 0.891944\n",
            "[29]\tvalid_0's auc: 0.891822\n",
            "[30]\tvalid_0's auc: 0.894353\n",
            "[31]\tvalid_0's auc: 0.894435\n",
            "[32]\tvalid_0's auc: 0.898436\n",
            "[33]\tvalid_0's auc: 0.904561\n",
            "[34]\tvalid_0's auc: 0.909807\n",
            "[35]\tvalid_0's auc: 0.905602\n",
            "[36]\tvalid_0's auc: 0.903193\n",
            "[37]\tvalid_0's auc: 0.910175\n",
            "[38]\tvalid_0's auc: 0.910134\n",
            "[39]\tvalid_0's auc: 0.905561\n",
            "[40]\tvalid_0's auc: 0.910542\n",
            "[41]\tvalid_0's auc: 0.908868\n",
            "[42]\tvalid_0's auc: 0.908909\n",
            "[43]\tvalid_0's auc: 0.909726\n",
            "[44]\tvalid_0's auc: 0.909766\n",
            "[45]\tvalid_0's auc: 0.909807\n",
            "[46]\tvalid_0's auc: 0.909766\n",
            "[47]\tvalid_0's auc: 0.913972\n",
            "[48]\tvalid_0's auc: 0.913768\n",
            "[49]\tvalid_0's auc: 0.913972\n",
            "[50]\tvalid_0's auc: 0.913768\n",
            "[51]\tvalid_0's auc: 0.913931\n",
            "[52]\tvalid_0's auc: 0.914013\n",
            "[53]\tvalid_0's auc: 0.914054\n",
            "[54]\tvalid_0's auc: 0.914054\n",
            "[55]\tvalid_0's auc: 0.914054\n",
            "[56]\tvalid_0's auc: 0.914054\n",
            "[57]\tvalid_0's auc: 0.914054\n",
            "[58]\tvalid_0's auc: 0.914789\n",
            "[59]\tvalid_0's auc: 0.914707\n",
            "[60]\tvalid_0's auc: 0.914789\n",
            "[61]\tvalid_0's auc: 0.914789\n",
            "[62]\tvalid_0's auc: 0.913686\n",
            "[63]\tvalid_0's auc: 0.913686\n",
            "[64]\tvalid_0's auc: 0.913727\n",
            "[65]\tvalid_0's auc: 0.911073\n",
            "[66]\tvalid_0's auc: 0.911073\n",
            "[67]\tvalid_0's auc: 0.911073\n",
            "[68]\tvalid_0's auc: 0.910951\n",
            "Early stopping, best iteration is:\n",
            "[58]\tvalid_0's auc: 0.914789\n"
          ],
          "name": "stdout"
        }
      ]
    },
    {
      "cell_type": "markdown",
      "metadata": {
        "id": "oWWKH2j8GZue"
      },
      "source": [
        "### Getting model probabilities on the three datasets"
      ]
    },
    {
      "cell_type": "code",
      "metadata": {
        "id": "xVoZ6CPyGZuf"
      },
      "source": [
        "train_preds_lgb=lgb_model.predict(X_train)\n",
        "val_preds_lgb=lgb_model.predict(X_val)\n",
        "test_preds_lgb=lgb_model.predict(X_test)"
      ],
      "execution_count": 122,
      "outputs": []
    },
    {
      "cell_type": "code",
      "metadata": {
        "colab": {
          "base_uri": "https://localhost:8080/"
        },
        "id": "22AkALRZ8g-E",
        "outputId": "33c681cd-80a9-4900-a33c-5905e322cf12"
      },
      "source": [
        "train_preds_lgb"
      ],
      "execution_count": 123,
      "outputs": [
        {
          "output_type": "execute_result",
          "data": {
            "text/plain": [
              "array([0.12694751, 0.19161612, 0.86264305, ..., 0.22969968, 0.13904132,\n",
              "       0.17760311])"
            ]
          },
          "metadata": {
            "tags": []
          },
          "execution_count": 123
        }
      ]
    }
  ]
}